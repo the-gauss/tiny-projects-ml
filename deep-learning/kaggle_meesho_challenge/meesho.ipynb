{
 "cells": [
  {
   "cell_type": "code",
   "id": "initial_id",
   "metadata": {
    "collapsed": true,
    "ExecuteTime": {
     "end_time": "2024-11-02T13:32:17.095423Z",
     "start_time": "2024-11-02T13:32:17.092569Z"
    }
   },
   "source": [
    "import tensorflow as tf\n",
    "from tensorflow import keras"
   ],
   "outputs": [],
   "execution_count": 10
  },
  {
   "metadata": {
    "ExecuteTime": {
     "end_time": "2024-11-02T13:32:17.334923Z",
     "start_time": "2024-11-02T13:32:17.318738Z"
    }
   },
   "cell_type": "code",
   "source": [
    "train_csv = tf.data.TextLineDataset('data/train.csv')\n",
    "feature_names = list(train_csv.take(1).as_numpy_iterator())\n",
    "feature_names = [i for i in feature_names[0].decode().split(',')]"
   ],
   "id": "22d1a3f86176ff69",
   "outputs": [],
   "execution_count": 11
  },
  {
   "metadata": {
    "ExecuteTime": {
     "end_time": "2024-11-02T13:32:17.523125Z",
     "start_time": "2024-11-02T13:32:17.513202Z"
    }
   },
   "cell_type": "code",
   "source": "list(train_csv.skip(1).take(3).as_numpy_iterator())",
   "id": "2a254079647c9468",
   "outputs": [
    {
     "name": "stderr",
     "output_type": "stream",
     "text": [
      "2024-11-02 09:32:17.520689: I tensorflow/core/framework/local_rendezvous.cc:404] Local rendezvous is aborting with status: OUT_OF_RANGE: End of sequence\n"
     ]
    },
    {
     "data": {
      "text/plain": [
       "[b'0,Men Tshirts,5,default,round,printed,default,short sleeves,,,,,',\n",
       " b'1,Men Tshirts,5,multicolor,polo,solid,solid,short sleeves,,,,,',\n",
       " b'2,Men Tshirts,5,default,polo,solid,solid,short sleeves,,,,,']"
      ]
     },
     "execution_count": 12,
     "metadata": {},
     "output_type": "execute_result"
    }
   ],
   "execution_count": 12
  },
  {
   "metadata": {
    "ExecuteTime": {
     "end_time": "2024-11-02T13:32:27.649758Z",
     "start_time": "2024-11-02T13:32:27.646715Z"
    }
   },
   "cell_type": "code",
   "source": [
    "# @tf.function\n",
    "# def preprocess_text_features(line):\n",
    "#     line = tf.strings.unicode_decode(line, input_encoding='UTF-8') \n",
    "#     line = tf.strings.unicode_encode(line,'UTF-8')\n",
    "#     line = tf.strings.split(line, sep=',')\n",
    "#     return line\n",
    "\n",
    "@tf.function\n",
    "def preprocess_text_features(line):\n",
    "    line = tf.strings.unicode_decode(line, 'UTF-8')\n",
    "    line = tf.strings.unicode_encode(line, 'UTF-8')\n",
    "    return line"
   ],
   "id": "ff80a3f59495e16e",
   "outputs": [],
   "execution_count": 16
  },
  {
   "metadata": {
    "ExecuteTime": {
     "end_time": "2024-11-02T13:32:28.528165Z",
     "start_time": "2024-11-02T13:32:28.502580Z"
    }
   },
   "cell_type": "code",
   "source": "new_ds = train_csv.skip(1).map(preprocess_text_features, num_parallel_calls=tf.data.experimental.AUTOTUNE)",
   "id": "1b089031e8446141",
   "outputs": [],
   "execution_count": 17
  },
  {
   "metadata": {
    "ExecuteTime": {
     "end_time": "2024-11-02T13:32:30.120505Z",
     "start_time": "2024-11-02T13:32:30.102702Z"
    }
   },
   "cell_type": "code",
   "source": "list(new_ds.take(1).as_numpy_iterator())",
   "id": "72109558f4f4bb62",
   "outputs": [
    {
     "data": {
      "text/plain": [
       "[b'0,Men Tshirts,5,default,round,printed,default,short sleeves,,,,,']"
      ]
     },
     "execution_count": 18,
     "metadata": {},
     "output_type": "execute_result"
    }
   ],
   "execution_count": 18
  },
  {
   "metadata": {},
   "cell_type": "code",
   "outputs": [],
   "execution_count": null,
   "source": "",
   "id": "65b59132ccb01a65"
  }
 ],
 "metadata": {
  "kernelspec": {
   "display_name": "Python 3",
   "language": "python",
   "name": "python3"
  },
  "language_info": {
   "codemirror_mode": {
    "name": "ipython",
    "version": 2
   },
   "file_extension": ".py",
   "mimetype": "text/x-python",
   "name": "python",
   "nbconvert_exporter": "python",
   "pygments_lexer": "ipython2",
   "version": "2.7.6"
  }
 },
 "nbformat": 4,
 "nbformat_minor": 5
}
