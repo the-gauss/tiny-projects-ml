{
 "cells": [
  {
   "cell_type": "code",
   "execution_count": 1,
   "id": "initial_id",
   "metadata": {
    "collapsed": true,
    "ExecuteTime": {
     "end_time": "2024-02-18T14:55:01.214382423Z",
     "start_time": "2024-02-18T14:54:59.804584818Z"
    }
   },
   "outputs": [
    {
     "name": "stderr",
     "output_type": "stream",
     "text": [
      "2024-02-18 09:55:00.043366: I tensorflow/core/util/port.cc:113] oneDNN custom operations are on. You may see slightly different numerical results due to floating-point round-off errors from different computation orders. To turn them off, set the environment variable `TF_ENABLE_ONEDNN_OPTS=0`.\n",
      "2024-02-18 09:55:00.159133: E external/local_xla/xla/stream_executor/cuda/cuda_dnn.cc:9261] Unable to register cuDNN factory: Attempting to register factory for plugin cuDNN when one has already been registered\n",
      "2024-02-18 09:55:00.159167: E external/local_xla/xla/stream_executor/cuda/cuda_fft.cc:607] Unable to register cuFFT factory: Attempting to register factory for plugin cuFFT when one has already been registered\n",
      "2024-02-18 09:55:00.177524: E external/local_xla/xla/stream_executor/cuda/cuda_blas.cc:1515] Unable to register cuBLAS factory: Attempting to register factory for plugin cuBLAS when one has already been registered\n",
      "2024-02-18 09:55:00.216573: I tensorflow/core/platform/cpu_feature_guard.cc:182] This TensorFlow binary is optimized to use available CPU instructions in performance-critical operations.\n",
      "To enable the following instructions: AVX2 AVX_VNNI FMA, in other operations, rebuild TensorFlow with the appropriate compiler flags.\n",
      "2024-02-18 09:55:00.704578: W tensorflow/compiler/tf2tensorrt/utils/py_utils.cc:38] TF-TRT Warning: Could not find TensorRT\n"
     ]
    }
   ],
   "source": [
    "from collections import defaultdict\n",
    "import requests\n",
    "import os\n",
    "import tarfile\n",
    "import tensorflow as tf\n",
    "from tensorflow import keras\n",
    "from pathlib import Path\n",
    "import numpy as np"
   ]
  },
  {
   "cell_type": "markdown",
   "source": [
    "**Get Data**"
   ],
   "metadata": {
    "collapsed": false
   },
   "id": "1ac5ef6d057c52fb"
  },
  {
   "cell_type": "code",
   "outputs": [],
   "source": [
    "URL = 'https://ai.stanford.edu/~amaas/data/sentiment/aclImdb_v1.tar.gz'\n",
    "DATA_DIR = 'data'\n",
    "ROOT_DIR = ''"
   ],
   "metadata": {
    "collapsed": false,
    "ExecuteTime": {
     "end_time": "2024-02-12T14:03:42.573197948Z",
     "start_time": "2024-02-12T14:03:42.572518401Z"
    }
   },
   "id": "a1ad5e177f7a0ffd",
   "execution_count": 2
  },
  {
   "cell_type": "code",
   "outputs": [],
   "source": [
    "def get_data(url=URL, root_dir=ROOT_DIR, data_dir=DATA_DIR):\n",
    "    response = requests.get(url)\n",
    "    \n",
    "    with open('temp.tar.gz', 'wb') as f:\n",
    "        f.write(response.content)\n",
    "    \n",
    "    with tarfile.open('temp.tar.gz', 'r:gz') as tar_file:\n",
    "        tar_file.extractall(path=root_dir)\n",
    "    \n",
    "    os.remove('temp.tar.gz')\n",
    "    os.rename('aclImdb', data_dir)"
   ],
   "metadata": {
    "collapsed": false,
    "ExecuteTime": {
     "end_time": "2024-02-06T20:25:00.255093249Z",
     "start_time": "2024-02-06T20:25:00.212499328Z"
    }
   },
   "id": "8eb938022784eda5",
   "execution_count": 3
  },
  {
   "cell_type": "code",
   "outputs": [],
   "source": [
    "get_data()"
   ],
   "metadata": {
    "collapsed": false,
    "ExecuteTime": {
     "end_time": "2024-02-06T20:25:19.055573112Z",
     "start_time": "2024-02-06T20:25:01.598695600Z"
    }
   },
   "id": "39e34e1239bdb989",
   "execution_count": 4
  },
  {
   "cell_type": "code",
   "outputs": [
    {
     "data": {
      "text/plain": "PosixPath('data')"
     },
     "execution_count": 3,
     "metadata": {},
     "output_type": "execute_result"
    }
   ],
   "source": [
    "filepath = DATA_DIR\n",
    "path = Path(filepath)\n",
    "path"
   ],
   "metadata": {
    "collapsed": false,
    "ExecuteTime": {
     "end_time": "2024-02-12T14:03:50.571285067Z",
     "start_time": "2024-02-12T14:03:50.568472943Z"
    }
   },
   "id": "4e00b7d4feb85680",
   "execution_count": 3
  },
  {
   "cell_type": "code",
   "outputs": [],
   "source": [
    "def review_paths(dirpath):\n",
    "    return [str(path) for path in dirpath.glob(\"*.txt\")]\n",
    "\n",
    "train_pos = review_paths(path / \"train\" / \"pos\")\n",
    "train_neg = review_paths(path / \"train\" / \"neg\")\n",
    "test_pos = review_paths(path / \"test\" / \"pos\")\n",
    "test_neg = review_paths(path / \"test\" / \"neg\")"
   ],
   "metadata": {
    "collapsed": false,
    "ExecuteTime": {
     "end_time": "2024-02-12T17:33:39.337096211Z",
     "start_time": "2024-02-12T17:33:39.288729250Z"
    }
   },
   "id": "ab937924faca9f9f",
   "execution_count": 157
  },
  {
   "cell_type": "code",
   "outputs": [
    {
     "data": {
      "text/plain": "12500"
     },
     "execution_count": 158,
     "metadata": {},
     "output_type": "execute_result"
    }
   ],
   "source": [
    "len(train_pos)"
   ],
   "metadata": {
    "collapsed": false,
    "ExecuteTime": {
     "end_time": "2024-02-12T17:33:39.452124815Z",
     "start_time": "2024-02-12T17:33:39.408850581Z"
    }
   },
   "id": "2345ae8f03a78aa3",
   "execution_count": 158
  },
  {
   "cell_type": "markdown",
   "source": [
    "**Train-Test-Valid Split**"
   ],
   "metadata": {
    "collapsed": false
   },
   "id": "33b9017df0cd415b"
  },
  {
   "cell_type": "code",
   "outputs": [],
   "source": [
    "np.random.shuffle(test_pos)\n",
    "np.random.shuffle(test_neg)\n",
    "\n",
    "valid_pos = test_pos[5000:]\n",
    "valid_neg = test_neg[5000:]\n",
    "test_pos = test_pos[:5000]\n",
    "test_neg = test_neg[:5000]"
   ],
   "metadata": {
    "collapsed": false,
    "ExecuteTime": {
     "end_time": "2024-02-12T17:33:40.365344921Z",
     "start_time": "2024-02-12T17:33:40.364029540Z"
    }
   },
   "id": "6aa8d9cc1fe3b882",
   "execution_count": 159
  },
  {
   "cell_type": "code",
   "outputs": [
    {
     "data": {
      "text/plain": "(5000, 7500)"
     },
     "execution_count": 160,
     "metadata": {},
     "output_type": "execute_result"
    }
   ],
   "source": [
    "len(test_pos), len(valid_pos)"
   ],
   "metadata": {
    "collapsed": false,
    "ExecuteTime": {
     "end_time": "2024-02-12T17:33:43.973674624Z",
     "start_time": "2024-02-12T17:33:43.943319008Z"
    }
   },
   "id": "31061e7a8d30b48c",
   "execution_count": 160
  },
  {
   "cell_type": "markdown",
   "source": [
    "**Preprocessing**"
   ],
   "metadata": {
    "collapsed": false
   },
   "id": "9e96fb0ca8fa53e1"
  },
  {
   "cell_type": "code",
   "outputs": [],
   "source": [
    "# Python way\n",
    "def imdb_dataset(filepaths_pos, filepaths_neg):\n",
    "    reviews=[]\n",
    "    labels=[]\n",
    "    for filepaths, label in ((filepaths_pos, 1), (filepaths_neg, 0)):\n",
    "        for filepath in filepaths:\n",
    "            with open(filepath, 'r') as fp:\n",
    "                reviews.append(fp.read())\n",
    "            labels.append(label)\n",
    "    X = tf.constant(reviews)\n",
    "    y = tf.constant(labels)\n",
    "    return tf.data.Dataset.from_tensor_slices((X,y))"
   ],
   "metadata": {
    "collapsed": false,
    "ExecuteTime": {
     "end_time": "2024-02-12T17:34:35.242284035Z",
     "start_time": "2024-02-12T17:34:35.179909913Z"
    }
   },
   "id": "1b63db469553a211",
   "execution_count": 161
  },
  {
   "cell_type": "code",
   "outputs": [],
   "source": [
    "dataset = imdb_dataset(train_pos, train_neg)"
   ],
   "metadata": {
    "collapsed": false,
    "ExecuteTime": {
     "end_time": "2024-02-12T17:34:35.675465408Z",
     "start_time": "2024-02-12T17:34:35.505274958Z"
    }
   },
   "id": "4bcc4ba35c6d0e76",
   "execution_count": 162
  },
  {
   "cell_type": "code",
   "outputs": [
    {
     "name": "stdout",
     "output_type": "stream",
     "text": [
      "(<tf.Tensor: shape=(), dtype=string, numpy=b'I think it was Ebert who gave Stella four out of four stars but, other than his, I have never read a positive review of this sadly misunderstood drama about class divisions, love, and sacrifice (three themes most great romantic stories or films have in common).<br /><br />Here the major theme is class division. Stella is a story from depression era America. That said, it was translated to the screen then in such a memorable fashion that this remake (if you ask a Stanwyck fan or two) was not exactly appreciated. Fans of the original never gave it a chance. Furthermore, this version of Stella was made in the 1990s, not exactly a time of great financial trouble in America (as the depression was).<br /><br />Now is the time to remove the rosy-coloured glasses, in the midst of a new era of recession and poverty in America, and see that this powerful story still rings true, is as timely and relevant as ever, in its updated format.<br /><br />Yes, class divide is the major theme here. Stella is among the working poor, single, with big dreams but little hope of realizing those dreams. She works in a bar, doesn\\'t have much money, lives in a crummy apartment. You get the drift. In the morning, she doesn\\'t really want to get out of bed. On her wall, pictures of movie stars she idolizes.<br /><br />A man sees her dance at the bar. He\\'s wealthy, educated, from one of those upper class families that has nothing in common with Stella\\'s. His major concern is what ivy league college to attend, her\\'s is how to pay the rent, how to be \\'happy.\\' They have an affair. They like each other. Stella ends up pregnant. Stella tells the guy the news. His response? \"How about an abortion?\" She replies, \"I just wanted a room full of balloons.\" He supplies the balloons, and the proposal, but she sees his heart is not in it, and has too much pride to accept. She sends him packing.<br /><br />Her daughter is eventually torn between the two lifestyles--the love she has for her mom and the advantages and happiness and love held out to her by her wealthy father. Stella, alone and unloved, and not wanting her daughter to become as unhappy as her someday, makes the ultimate sacrifice. She gives up the only love and happiness she has ever known to ensure the happiness of her daughter, and perhaps live vicariously, and with hope, knowing that at least her daughter found something to live for.<br /><br />Now, for the movie. Everything is right about it. Beautiful score, artful cinematography, great set design (contrast between the two lifestyles; the messy apt. and the decorated mansions), wonderful and heartfelt performances by the whole cast, with Bette Midler, in particular, Oscar-worthy.<br /><br />This is a film which is much more significant and well-made than you\\'ve been led to believe.'>, <tf.Tensor: shape=(), dtype=int32, numpy=1>)\n"
     ]
    }
   ],
   "source": [
    "for i in dataset.take(1):\n",
    "    print(i)"
   ],
   "metadata": {
    "collapsed": false,
    "ExecuteTime": {
     "end_time": "2024-02-12T17:35:01.343718513Z",
     "start_time": "2024-02-12T17:35:01.328393042Z"
    }
   },
   "id": "b6572d11f70659fc",
   "execution_count": 167
  },
  {
   "cell_type": "code",
   "outputs": [],
   "source": [
    "# Tensorflow way\n",
    "def imdb_dataset_2(filepaths_pos, filepaths_neg, num_parallel_calls=tf.data.experimental.AUTOTUNE):\n",
    "    dataset_pos = tf.data.TextLineDataset(filepaths_pos, num_parallel_reads=num_parallel_calls)\n",
    "    dataset_pos = dataset_pos.map(lambda review: (review, 1))\n",
    "    dataset_neg = tf.data.TextLineDataset(filepaths_neg, num_parallel_reads=num_parallel_calls)\n",
    "    dataset_neg = dataset_neg.map(lambda review: (review, 0))\n",
    "    dataset = tf.data.Dataset.concatenate(dataset_pos, dataset_neg)\n",
    "    return dataset    "
   ],
   "metadata": {
    "collapsed": false,
    "ExecuteTime": {
     "end_time": "2024-02-12T17:34:49.006015482Z",
     "start_time": "2024-02-12T17:34:48.993492571Z"
    }
   },
   "id": "6cb127b5a9896939",
   "execution_count": 165
  },
  {
   "cell_type": "code",
   "outputs": [],
   "source": [
    "dataset = imdb_dataset_2(train_pos, train_neg)"
   ],
   "metadata": {
    "collapsed": false,
    "ExecuteTime": {
     "end_time": "2024-02-12T17:34:57.788892114Z",
     "start_time": "2024-02-12T17:34:57.771358681Z"
    }
   },
   "id": "4c09a59e04793cad",
   "execution_count": 166
  },
  {
   "cell_type": "markdown",
   "source": [
    "**Saving the Dataset**"
   ],
   "metadata": {
    "collapsed": false
   },
   "id": "b721a194a58ac665"
  },
  {
   "cell_type": "code",
   "outputs": [
    {
     "name": "stdout",
     "output_type": "stream",
     "text": [
      "<class 'bytes'>\n"
     ]
    }
   ],
   "source": [
    "for i in dataset.take(1):\n",
    "    print(type(tf.io.serialize_tensor(i[0]).numpy()))"
   ],
   "metadata": {
    "collapsed": false,
    "ExecuteTime": {
     "end_time": "2024-02-12T17:35:14.462503403Z",
     "start_time": "2024-02-12T17:35:14.417403566Z"
    }
   },
   "id": "7278d3eeb231ece0",
   "execution_count": 168
  },
  {
   "cell_type": "code",
   "outputs": [],
   "source": [
    "def _bytes_feature(value):\n",
    "    \"\"\"Returns a bytes_list from a string / byte.\"\"\"\n",
    "    if isinstance(value, type(tf.constant(0))):  # If value is Tensor\n",
    "        value = tf.compat.as_bytes(value.numpy().decode('utf-8'))  # Requires eager execution!\n",
    "    else:\n",
    "        value = tf.compat.as_bytes(value)  # Directly convert string to bytes\n",
    "    return tf.train.Feature(bytes_list=tf.train.BytesList(value=[value]))\n",
    "\n",
    "def _int64_feature(value):\n",
    "    return tf.train.Feature(int64_list=tf.train.Int64List(value=[value]))"
   ],
   "metadata": {
    "collapsed": false,
    "ExecuteTime": {
     "end_time": "2024-02-12T17:35:30.922532724Z",
     "start_time": "2024-02-12T17:35:30.918272178Z"
    }
   },
   "id": "93c7d04518fb8e61",
   "execution_count": 169
  },
  {
   "cell_type": "code",
   "outputs": [],
   "source": [
    "def serialize_example(review, label):\n",
    "    features = {\n",
    "        'review': _bytes_feature(review),\n",
    "        'label': _int64_feature(label)\n",
    "    }\n",
    "    example_proto = tf.train.Example(features=tf.train.Features(feature=features))\n",
    "    return example_proto.SerializeToString()"
   ],
   "metadata": {
    "collapsed": false,
    "ExecuteTime": {
     "end_time": "2024-02-12T17:35:31.156574754Z",
     "start_time": "2024-02-12T17:35:31.093468467Z"
    }
   },
   "id": "bbc1158dc15315ff",
   "execution_count": 170
  },
  {
   "cell_type": "markdown",
   "source": [
    "**Putting it all together**"
   ],
   "metadata": {
    "collapsed": false
   },
   "id": "5945f73f4b9e2380"
  },
  {
   "cell_type": "code",
   "outputs": [],
   "source": [
    "def store_in_tfrecord(pos_path, neg_path, target_path):\n",
    "    dataset = imdb_dataset(pos_path, neg_path)\n",
    "    serialized_dataset = dataset.map(lambda review, label: tf.py_function(\n",
    "        serialize_example, [review, label], tf.string),                                                        # dataset.map() will return SymbolicTensors, it wont get a real Tensor until graph has been run\n",
    "                                     num_parallel_calls=tf.data.experimental.AUTOTUNE)\n",
    "\n",
    "    writer = tf.data.experimental.TFRecordWriter(target_path)\n",
    "    writer.write(serialized_dataset)"
   ],
   "metadata": {
    "collapsed": false,
    "ExecuteTime": {
     "end_time": "2024-02-12T17:35:35.050458087Z",
     "start_time": "2024-02-12T17:35:35.020159119Z"
    }
   },
   "id": "cc8a1a0d8c70de28",
   "execution_count": 171
  },
  {
   "cell_type": "code",
   "outputs": [],
   "source": [
    "store_in_tfrecord(train_pos, train_neg, 'data/train.tfrecord')\n",
    "store_in_tfrecord(valid_pos, valid_neg, 'data/valid.tfrecord')\n",
    "store_in_tfrecord(test_pos, valid_neg, 'data/test.tfrecord')"
   ],
   "metadata": {
    "collapsed": false,
    "ExecuteTime": {
     "end_time": "2024-02-12T17:35:53.215850713Z",
     "start_time": "2024-02-12T17:35:35.557650065Z"
    }
   },
   "id": "f2ac4906d8a1c9b",
   "execution_count": 172
  },
  {
   "cell_type": "markdown",
   "source": [
    "**Loading**"
   ],
   "metadata": {
    "collapsed": false
   },
   "id": "818b4fde5eba121d"
  },
  {
   "cell_type": "code",
   "outputs": [],
   "source": [
    "def parse_example(serialized_example):\n",
    "    feature_description = {\n",
    "        'review': tf.io.VarLenFeature(tf.string),\n",
    "        'label' : tf.io.VarLenFeature(tf.int64)\n",
    "    }\n",
    "    \n",
    "    example = tf.io.parse_single_example(serialized_example, feature_description)\n",
    "    \n",
    "    review = tf.sparse.to_dense(example['review'])\n",
    "    label = tf.sparse.to_dense(example['label'])\n",
    "    \n",
    "    return review, label    "
   ],
   "metadata": {
    "collapsed": false,
    "ExecuteTime": {
     "end_time": "2024-02-18T14:57:28.146543956Z",
     "start_time": "2024-02-18T14:57:28.144837129Z"
    }
   },
   "id": "38c459f3caa66711",
   "execution_count": 2
  },
  {
   "cell_type": "code",
   "outputs": [],
   "source": [
    "def read_tfrecord(path='data/train.tfrecord', num_parallel_reads=tf.data.experimental.AUTOTUNE):\n",
    "    dataset = tf.data.TFRecordDataset(path)\n",
    "    dataset = dataset.map(parse_example, num_parallel_calls=num_parallel_reads)\n",
    "    dataset = dataset.map(lambda x,y: (x[0], y[0]))\n",
    "    return dataset"
   ],
   "metadata": {
    "collapsed": false,
    "ExecuteTime": {
     "end_time": "2024-02-18T14:57:28.921876190Z",
     "start_time": "2024-02-18T14:57:28.918888054Z"
    }
   },
   "id": "fc5ae53a23d40762",
   "execution_count": 3
  },
  {
   "cell_type": "code",
   "outputs": [],
   "source": [
    "train_dataset = read_tfrecord('data/train.tfrecord')\n",
    "valid_dataset = read_tfrecord('data/valid.tfrecord')\n",
    "test_dataset = read_tfrecord('data/test.tfrecord')"
   ],
   "metadata": {
    "collapsed": false
   },
   "id": "4184a29a3e20d8f2",
   "execution_count": null
  },
  {
   "cell_type": "markdown",
   "source": [
    "**Preprocessing**"
   ],
   "metadata": {
    "collapsed": false
   },
   "id": "29839833b1bae935"
  },
  {
   "cell_type": "code",
   "outputs": [],
   "source": [
    "text_vec = keras.layers.TextVectorization(max_tokens=400, output_mode='int')\n",
    "text_vec.adapt(train_dataset.map(lambda x,y: x))"
   ],
   "metadata": {
    "collapsed": false
   },
   "id": "9b93e673f13195f4",
   "execution_count": null
  },
  {
   "cell_type": "code",
   "outputs": [],
   "source": [
    "emb = keras.layers.Embedding(input_dim=400)"
   ],
   "metadata": {
    "collapsed": false
   },
   "id": "7658ddfac097fefe"
  }
 ],
 "metadata": {
  "kernelspec": {
   "display_name": "Python 3",
   "language": "python",
   "name": "python3"
  },
  "language_info": {
   "codemirror_mode": {
    "name": "ipython",
    "version": 2
   },
   "file_extension": ".py",
   "mimetype": "text/x-python",
   "name": "python",
   "nbconvert_exporter": "python",
   "pygments_lexer": "ipython2",
   "version": "2.7.6"
  }
 },
 "nbformat": 4,
 "nbformat_minor": 5
}
