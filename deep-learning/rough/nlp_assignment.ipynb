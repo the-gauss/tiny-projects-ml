{
 "cells": [
  {
   "metadata": {},
   "cell_type": "markdown",
   "source": [
    "# Hotel Review Overall Rating Prediction\n",
    "\n",
    "This notebook predicts the overall hotel review rating based on the concatenated text of the review title and review text. The steps include:\n",
    "- Loading and splitting the dataset into training (first 10,000 lines), development (next 10,000 lines) and test (remaining 10,000 lines) sets.\n",
    "- Cleaning the text (removing non-alphanumeric characters and tokenising).\n",
    "- Performing exploratory data analysis (EDA) on the development set.\n",
    "- Experimenting with different text preprocessing configurations (lowercasing, stop-word removal, lemmatisation) using 10‑fold cross-validation with a Support Vector Machine (SVM) classifier.\n",
    "- Comparing results with VADER sentiment analysis and then combining VADER’s compound score with the best SVM approach.\n",
    "- Training the final model on the training set and evaluating on the test set.\n",
    "- Finally, a proposal is provided for predicting additional hotel review aspects.\n"
   ],
   "id": "73fc48e8691052e1"
  },
  {
   "metadata": {
    "ExecuteTime": {
     "end_time": "2025-02-28T15:21:30.716924Z",
     "start_time": "2025-02-28T15:21:28.407741Z"
    }
   },
   "cell_type": "code",
   "source": "!pip install nltk",
   "id": "b3898a213de4be17",
   "outputs": [
    {
     "name": "stdout",
     "output_type": "stream",
     "text": [
      "Collecting nltk\r\n",
      "  Downloading nltk-3.9.1-py3-none-any.whl.metadata (2.9 kB)\r\n",
      "Collecting click (from nltk)\r\n",
      "  Downloading click-8.1.8-py3-none-any.whl.metadata (2.3 kB)\r\n",
      "Requirement already satisfied: joblib in /Users/thory/miniconda3/envs/tiny-ml/lib/python3.12/site-packages (from nltk) (1.4.2)\r\n",
      "Requirement already satisfied: regex>=2021.8.3 in /Users/thory/miniconda3/envs/tiny-ml/lib/python3.12/site-packages (from nltk) (2024.11.6)\r\n",
      "Requirement already satisfied: tqdm in /Users/thory/miniconda3/envs/tiny-ml/lib/python3.12/site-packages (from nltk) (4.66.6)\r\n",
      "Downloading nltk-3.9.1-py3-none-any.whl (1.5 MB)\r\n",
      "\u001B[2K   \u001B[90m━━━━━━━━━━━━━━━━━━━━━━━━━━━━━━━━━━━━━━━━\u001B[0m \u001B[32m1.5/1.5 MB\u001B[0m \u001B[31m10.9 MB/s\u001B[0m eta \u001B[36m0:00:00\u001B[0m \u001B[36m0:00:01\u001B[0m\r\n",
      "\u001B[?25hDownloading click-8.1.8-py3-none-any.whl (98 kB)\r\n",
      "Installing collected packages: click, nltk\r\n",
      "Successfully installed click-8.1.8 nltk-3.9.1\r\n"
     ]
    }
   ],
   "execution_count": 3
  },
  {
   "metadata": {
    "ExecuteTime": {
     "end_time": "2025-02-28T15:22:31.700232Z",
     "start_time": "2025-02-28T15:22:28.315240Z"
    }
   },
   "cell_type": "code",
   "source": [
    "import pandas as pd\n",
    "import numpy as np\n",
    "import re\n",
    "import matplotlib.pyplot as plt\n",
    "import seaborn as sns\n",
    "\n",
    "from sklearn.model_selection import GridSearchCV, cross_val_score, KFold\n",
    "from sklearn.feature_extraction.text import TfidfVectorizer\n",
    "from sklearn.svm import SVC\n",
    "from sklearn.metrics import accuracy_score, classification_report\n",
    "from sklearn.pipeline import Pipeline\n",
    "from sklearn.base import BaseEstimator, TransformerMixin\n",
    "\n",
    "import nltk\n",
    "from nltk.corpus import stopwords\n",
    "from nltk.stem import WordNetLemmatizer\n",
    "from nltk.tokenize import word_tokenize\n",
    "from nltk.sentiment import SentimentIntensityAnalyzer\n",
    "\n",
    "# Download required NLTK resources\n",
    "nltk.download('punkt')\n",
    "nltk.download('wordnet')\n",
    "nltk.download('omw-1.4')\n",
    "nltk.download('stopwords')\n",
    "nltk.download('vader_lexicon')\n",
    "\n",
    "# Set random seed for reproducibility\n",
    "np.random.seed(42)"
   ],
   "id": "3732dcec44a7627d",
   "outputs": [
    {
     "name": "stderr",
     "output_type": "stream",
     "text": [
      "[nltk_data] Downloading package punkt to /Users/thory/nltk_data...\n",
      "[nltk_data]   Unzipping tokenizers/punkt.zip.\n",
      "[nltk_data] Downloading package wordnet to /Users/thory/nltk_data...\n",
      "[nltk_data] Downloading package omw-1.4 to /Users/thory/nltk_data...\n",
      "[nltk_data] Downloading package stopwords to /Users/thory/nltk_data...\n",
      "[nltk_data]   Unzipping corpora/stopwords.zip.\n",
      "[nltk_data] Downloading package vader_lexicon to\n",
      "[nltk_data]     /Users/thory/nltk_data...\n"
     ]
    }
   ],
   "execution_count": 4
  },
  {
   "metadata": {
    "ExecuteTime": {
     "end_time": "2025-02-28T15:22:44.319462Z",
     "start_time": "2025-02-28T15:22:43.646958Z"
    }
   },
   "cell_type": "code",
   "source": [
    "# Load dataset (assumes each line is a valid JSON record)\n",
    "data = pd.read_json('random_30000_hotel_reviews.JSON', lines=True)\n",
    "print(\"Dataset loaded with shape:\", data.shape)"
   ],
   "id": "b7c87a27bacddca3",
   "outputs": [
    {
     "name": "stdout",
     "output_type": "stream",
     "text": [
      "Dataset loaded with shape: (30000, 10)\n"
     ]
    }
   ],
   "execution_count": 5
  },
  {
   "metadata": {
    "ExecuteTime": {
     "end_time": "2025-02-28T15:22:54.142547Z",
     "start_time": "2025-02-28T15:22:54.134950Z"
    }
   },
   "cell_type": "code",
   "source": [
    "# Split data into training (first 10,000), development (next 10,000) and test (remaining 10,000)\n",
    "if len(data) < 30000:\n",
    "    raise ValueError(\"Dataset must contain at least 30000 reviews.\")\n",
    "\n",
    "train_data = data.iloc[:10000].reset_index(drop=True)\n",
    "dev_data = data.iloc[10000:20000].reset_index(drop=True)\n",
    "test_data = data.iloc[20000:30000].reset_index(drop=True)\n",
    "\n",
    "print(\"Training set shape:\", train_data.shape)\n",
    "print(\"Development set shape:\", dev_data.shape)\n",
    "print(\"Test set shape:\", test_data.shape)"
   ],
   "id": "bcffc2a311613ebe",
   "outputs": [
    {
     "name": "stdout",
     "output_type": "stream",
     "text": [
      "Training set shape: (10000, 10)\n",
      "Development set shape: (10000, 10)\n",
      "Test set shape: (10000, 10)\n"
     ]
    }
   ],
   "execution_count": 6
  },
  {
   "metadata": {
    "ExecuteTime": {
     "end_time": "2025-02-28T15:23:05.137477Z",
     "start_time": "2025-02-28T15:23:04.982882Z"
    }
   },
   "cell_type": "code",
   "source": [
    "# Combine 'title' and 'text' into a single 'review' column\n",
    "def combine_text(row):\n",
    "    title = row['title'] if pd.notnull(row['title']) else \"\"\n",
    "    text = row['text'] if pd.notnull(row['text']) else \"\"\n",
    "    return title + \" \" + text\n",
    "\n",
    "for dataset in [train_data, dev_data, test_data]:\n",
    "    dataset['review'] = dataset.apply(combine_text, axis=1)\n",
    "\n",
    "# Drop original columns if no longer needed\n",
    "train_data.drop(['title', 'text'], axis=1, inplace=True)\n",
    "dev_data.drop(['title', 'text'], axis=1, inplace=True)\n",
    "test_data.drop(['title', 'text'], axis=1, inplace=True)"
   ],
   "id": "d010cab55f6c9b07",
   "outputs": [],
   "execution_count": 7
  },
  {
   "metadata": {
    "ExecuteTime": {
     "end_time": "2025-02-28T15:24:22.480781Z",
     "start_time": "2025-02-28T15:24:20.471709Z"
    }
   },
   "cell_type": "code",
   "source": [
    "# Define a text preprocessing function to remove non-alphanumeric characters and tokenize.\n",
    "stop_words = set(stopwords.words('english'))\n",
    "lemmatizer = WordNetLemmatizer()\n",
    "\n",
    "def preprocess_text(text, lower=True, remove_stopwords=True, lemmatize=True):\n",
    "    # Remove non-alphanumeric characters\n",
    "    text = re.sub(r'[^a-zA-Z0-9\\s]', ' ', text)\n",
    "    # Lowercase conversion\n",
    "    if lower:\n",
    "        text = text.lower()\n",
    "    # Tokenization\n",
    "    tokens = word_tokenize(text)\n",
    "    # Remove stopwords\n",
    "    if remove_stopwords:\n",
    "        tokens = [word for word in tokens if word not in stop_words]\n",
    "    # Lemmatization\n",
    "    if lemmatize:\n",
    "        tokens = [lemmatizer.lemmatize(word) for word in tokens]\n",
    "    return ' '.join(tokens)\n",
    "\n",
    "# For exploratory analysis we create a version without aggressive preprocessing.\n",
    "dev_data['clean_review'] = dev_data['review'].apply(lambda x: preprocess_text(x, lower=True, remove_stopwords=False, lemmatize=False))"
   ],
   "id": "a9c5448515a4f36d",
   "outputs": [],
   "execution_count": 11
  },
  {
   "metadata": {
    "ExecuteTime": {
     "end_time": "2025-02-28T15:25:54.505416Z",
     "start_time": "2025-02-28T15:25:54.503136Z"
    }
   },
   "cell_type": "code",
   "source": "dev_data.columns",
   "id": "4839f83638936575",
   "outputs": [
    {
     "data": {
      "text/plain": [
       "Index(['ratings', 'author', 'date_stayed', 'offering_id', 'num_helpful_votes',\n",
       "       'date', 'id', 'via_mobile', 'review', 'clean_review'],\n",
       "      dtype='object')"
      ]
     },
     "execution_count": 14,
     "metadata": {},
     "output_type": "execute_result"
    }
   ],
   "execution_count": 14
  },
  {
   "metadata": {
    "ExecuteTime": {
     "end_time": "2025-02-28T15:26:39.572054Z",
     "start_time": "2025-02-28T15:26:39.564665Z"
    }
   },
   "cell_type": "code",
   "source": "dev_data.head()",
   "id": "f86054fa67a01e3a",
   "outputs": [
    {
     "data": {
      "text/plain": [
       "                                             ratings  \\\n",
       "0  {'service': 5.0, 'cleanliness': 5.0, 'overall'...   \n",
       "1  {'service': 4.0, 'cleanliness': 5.0, 'overall'...   \n",
       "2  {'service': 1.0, 'cleanliness': 4.0, 'overall'...   \n",
       "3  {'service': 4.0, 'cleanliness': 4.0, 'overall'...   \n",
       "4  {'service': 3.0, 'cleanliness': 4.0, 'overall'...   \n",
       "\n",
       "                                              author     date_stayed  \\\n",
       "0  {'username': 'metalchicRichmond', 'num_cities'...       July 2011   \n",
       "1  {'username': 'Noelle20', 'num_reviews': 1, 'id...   February 2011   \n",
       "2  {'username': 'amanduhcorazon', 'num_cities': 4...  September 2011   \n",
       "3  {'username': 'Peter G', 'num_cities': 6, 'num_...   November 2011   \n",
       "4  {'username': 'redinked', 'num_cities': 12, 'nu...     August 2012   \n",
       "\n",
       "   offering_id  num_helpful_votes       date         id  via_mobile  \\\n",
       "0        84107                  0 2012-05-04  129367971       False   \n",
       "1        93464                  0 2011-02-15   96767715       False   \n",
       "2       109008                  3 2011-09-23  118469580       False   \n",
       "3       223019                  2 2011-11-14  120569971       False   \n",
       "4        90973                  1 2012-08-16  137342764       False   \n",
       "\n",
       "                                              review  \\\n",
       "0  “Nice hotel - great location” This was a nice ...   \n",
       "1  “Perfect location and the room was generous in...   \n",
       "2  “Rude staff, extra charges, overall unimpressi...   \n",
       "3  “Great location, would stay here again” Stayed...   \n",
       "4  “Disappointed in Chicago” I stayed at the Alle...   \n",
       "\n",
       "                                        clean_review  \n",
       "0  nice hotel great location this was a nice hote...  \n",
       "1  perfect location and the room was generous in ...  \n",
       "2  rude staff extra charges overall unimpressive ...  \n",
       "3  great location would stay here again stayed he...  \n",
       "4  disappointed in chicago i stayed at the allert...  "
      ],
      "text/html": [
       "<div>\n",
       "<style scoped>\n",
       "    .dataframe tbody tr th:only-of-type {\n",
       "        vertical-align: middle;\n",
       "    }\n",
       "\n",
       "    .dataframe tbody tr th {\n",
       "        vertical-align: top;\n",
       "    }\n",
       "\n",
       "    .dataframe thead th {\n",
       "        text-align: right;\n",
       "    }\n",
       "</style>\n",
       "<table border=\"1\" class=\"dataframe\">\n",
       "  <thead>\n",
       "    <tr style=\"text-align: right;\">\n",
       "      <th></th>\n",
       "      <th>ratings</th>\n",
       "      <th>author</th>\n",
       "      <th>date_stayed</th>\n",
       "      <th>offering_id</th>\n",
       "      <th>num_helpful_votes</th>\n",
       "      <th>date</th>\n",
       "      <th>id</th>\n",
       "      <th>via_mobile</th>\n",
       "      <th>review</th>\n",
       "      <th>clean_review</th>\n",
       "    </tr>\n",
       "  </thead>\n",
       "  <tbody>\n",
       "    <tr>\n",
       "      <th>0</th>\n",
       "      <td>{'service': 5.0, 'cleanliness': 5.0, 'overall'...</td>\n",
       "      <td>{'username': 'metalchicRichmond', 'num_cities'...</td>\n",
       "      <td>July 2011</td>\n",
       "      <td>84107</td>\n",
       "      <td>0</td>\n",
       "      <td>2012-05-04</td>\n",
       "      <td>129367971</td>\n",
       "      <td>False</td>\n",
       "      <td>“Nice hotel - great location” This was a nice ...</td>\n",
       "      <td>nice hotel great location this was a nice hote...</td>\n",
       "    </tr>\n",
       "    <tr>\n",
       "      <th>1</th>\n",
       "      <td>{'service': 4.0, 'cleanliness': 5.0, 'overall'...</td>\n",
       "      <td>{'username': 'Noelle20', 'num_reviews': 1, 'id...</td>\n",
       "      <td>February 2011</td>\n",
       "      <td>93464</td>\n",
       "      <td>0</td>\n",
       "      <td>2011-02-15</td>\n",
       "      <td>96767715</td>\n",
       "      <td>False</td>\n",
       "      <td>“Perfect location and the room was generous in...</td>\n",
       "      <td>perfect location and the room was generous in ...</td>\n",
       "    </tr>\n",
       "    <tr>\n",
       "      <th>2</th>\n",
       "      <td>{'service': 1.0, 'cleanliness': 4.0, 'overall'...</td>\n",
       "      <td>{'username': 'amanduhcorazon', 'num_cities': 4...</td>\n",
       "      <td>September 2011</td>\n",
       "      <td>109008</td>\n",
       "      <td>3</td>\n",
       "      <td>2011-09-23</td>\n",
       "      <td>118469580</td>\n",
       "      <td>False</td>\n",
       "      <td>“Rude staff, extra charges, overall unimpressi...</td>\n",
       "      <td>rude staff extra charges overall unimpressive ...</td>\n",
       "    </tr>\n",
       "    <tr>\n",
       "      <th>3</th>\n",
       "      <td>{'service': 4.0, 'cleanliness': 4.0, 'overall'...</td>\n",
       "      <td>{'username': 'Peter G', 'num_cities': 6, 'num_...</td>\n",
       "      <td>November 2011</td>\n",
       "      <td>223019</td>\n",
       "      <td>2</td>\n",
       "      <td>2011-11-14</td>\n",
       "      <td>120569971</td>\n",
       "      <td>False</td>\n",
       "      <td>“Great location, would stay here again” Stayed...</td>\n",
       "      <td>great location would stay here again stayed he...</td>\n",
       "    </tr>\n",
       "    <tr>\n",
       "      <th>4</th>\n",
       "      <td>{'service': 3.0, 'cleanliness': 4.0, 'overall'...</td>\n",
       "      <td>{'username': 'redinked', 'num_cities': 12, 'nu...</td>\n",
       "      <td>August 2012</td>\n",
       "      <td>90973</td>\n",
       "      <td>1</td>\n",
       "      <td>2012-08-16</td>\n",
       "      <td>137342764</td>\n",
       "      <td>False</td>\n",
       "      <td>“Disappointed in Chicago” I stayed at the Alle...</td>\n",
       "      <td>disappointed in chicago i stayed at the allert...</td>\n",
       "    </tr>\n",
       "  </tbody>\n",
       "</table>\n",
       "</div>"
      ]
     },
     "execution_count": 16,
     "metadata": {},
     "output_type": "execute_result"
    }
   ],
   "execution_count": 16
  },
  {
   "metadata": {
    "ExecuteTime": {
     "end_time": "2025-02-28T15:30:11.886993Z",
     "start_time": "2025-02-28T15:30:11.605275Z"
    }
   },
   "cell_type": "code",
   "source": [
    "# Exploratory Data Analysis (EDA) on the development dataset\n",
    "\n",
    "# Extract 'overall' rating from the 'rating' dictionary column\n",
    "dev_data['overall'] = dev_data['ratings'].apply(lambda x: x.get('overall', None))\n",
    "\n",
    "# Drop any rows where 'overall' is missing (just in case)\n",
    "dev_data = dev_data.dropna(subset=['overall'])\n",
    "\n",
    "# Distribution of 'overall' rating\n",
    "plt.figure(figsize=(8, 6))\n",
    "sns.countplot(x='overall', data=dev_data, palette='viridis')\n",
    "plt.title('Distribution of Overall Ratings (Development Set)')\n",
    "plt.xlabel('Overall Rating')\n",
    "plt.ylabel('Count')\n",
    "plt.show()\n",
    "\n",
    "# Compute and print the number of unique words in the cleaned reviews\n",
    "all_words = ' '.join(dev_data['clean_review']).split()\n",
    "unique_words = set(all_words)\n",
    "print(\"Number of unique words in development set:\", len(unique_words))"
   ],
   "id": "6ba41f0e23a3b678",
   "outputs": [
    {
     "name": "stderr",
     "output_type": "stream",
     "text": [
      "/var/folders/l9/6v9vn4rn71z0d0b27r8k7xtc0000gn/T/ipykernel_26695/547904709.py:11: FutureWarning: \n",
      "\n",
      "Passing `palette` without assigning `hue` is deprecated and will be removed in v0.14.0. Assign the `x` variable to `hue` and set `legend=False` for the same effect.\n",
      "\n",
      "  sns.countplot(x='overall', data=dev_data, palette='viridis')\n"
     ]
    },
    {
     "data": {
      "text/plain": [
       "<Figure size 800x600 with 1 Axes>"
      ],
      "image/png": "[encoded data removed]"
     },
     "metadata": {},
     "output_type": "display_data"
    },
    {
     "name": "stdout",
     "output_type": "stream",
     "text": [
      "Number of unique words in development set: 25518\n"
     ]
    }
   ],
   "execution_count": 18
  },
  {
   "metadata": {
    "ExecuteTime": {
     "end_time": "2025-02-28T15:30:30.090365Z",
     "start_time": "2025-02-28T15:30:29.954368Z"
    }
   },
   "cell_type": "code",
   "source": [
    "# %% [code]\n",
    "# Identify data dependencies: e.g. relationship between review length and overall rating\n",
    "\n",
    "# Compute review length (in words) based on the cleaned review\n",
    "dev_data['review_length'] = dev_data['clean_review'].apply(lambda x: len(x.split()))\n",
    "\n",
    "plt.figure(figsize=(8, 6))\n",
    "sns.scatterplot(x='review_length', y='overall', data=dev_data, alpha=0.5)\n",
    "plt.title('Review Length vs Overall Rating')\n",
    "plt.xlabel('Review Length (number of words)')\n",
    "plt.ylabel('Overall Rating')\n",
    "plt.show()\n",
    "\n",
    "# Calculate and print the correlation coefficient\n",
    "correlation = dev_data['review_length'].corr(dev_data['overall'])\n",
    "print(\"Correlation between review length and overall rating:\", correlation)"
   ],
   "id": "60933a62e94fd50e",
   "outputs": [
    {
     "data": {
      "text/plain": [
       "<Figure size 800x600 with 1 Axes>"
      ],
      "image/png": "[encoded data removed]"
     },
     "metadata": {},
     "output_type": "display_data"
    },
    {
     "name": "stdout",
     "output_type": "stream",
     "text": [
      "Correlation between review length and overall rating: -0.17380414154022597\n"
     ]
    }
   ],
   "execution_count": 19
  },
  {
   "metadata": {
    "ExecuteTime": {
     "end_time": "2025-02-28T15:30:39.109277Z",
     "start_time": "2025-02-28T15:30:39.106281Z"
    }
   },
   "cell_type": "code",
   "source": [
    "# Create a custom transformer to allow flexible text preprocessing within a pipeline\n",
    "class TextPreprocessor(BaseEstimator, TransformerMixin):\n",
    "    def __init__(self, lower=True, remove_stopwords=True, lemmatize=True):\n",
    "        self.lower = lower\n",
    "        self.remove_stopwords = remove_stopwords\n",
    "        self.lemmatize = lemmatize\n",
    "\n",
    "    def fit(self, X, y=None):\n",
    "        return self\n",
    "\n",
    "    def transform(self, X, y=None):\n",
    "        return X.apply(lambda x: preprocess_text(x, lower=self.lower,\n",
    "                                                 remove_stopwords=self.remove_stopwords,\n",
    "                                                 lemmatize=self.lemmatize))"
   ],
   "id": "1e47c2f391fd9c31",
   "outputs": [],
   "execution_count": 20
  },
  {
   "metadata": {
    "ExecuteTime": {
     "end_time": "2025-02-28T15:43:32.592927Z",
     "start_time": "2025-02-28T15:38:38.246243Z"
    }
   },
   "cell_type": "code",
   "source": [
    "# Set up a pipeline for text processing and prediction using an SVM classifier.\n",
    "# We then use GridSearchCV (with 10-fold cross-validation) to experiment with the following preprocessing options:\n",
    "#   - Lowercasing (True/False)\n",
    "#   - Stop-word removal (True/False)\n",
    "#   - Lemmatisation (True/False)\n",
    "# Along with a TF-IDF vectorizer with two different n-gram ranges.\n",
    "pipeline = Pipeline([\n",
    "    ('preprocessor', TextPreprocessor()),\n",
    "    ('tfidf', TfidfVectorizer()),\n",
    "    ('svm', SVC(kernel='linear', random_state=42))\n",
    "])\n",
    "\n",
    "param_grid = {\n",
    "    'tfidf__max_df': [0.9],\n",
    "    'tfidf__min_df': [5],\n",
    "    'tfidf__ngram_range': [(1, 1), (1, 2)]\n",
    "}\n",
    "\n",
    "cv = KFold(n_splits=10, shuffle=True, random_state=42)\n",
    "\n",
    "grid_search = GridSearchCV(pipeline, param_grid, cv=cv, scoring='accuracy')\n",
    "grid_search.fit(dev_data['review'], dev_data['overall'])\n",
    "\n",
    "print(\"Best CV Accuracy:\", grid_search.best_score_)\n",
    "print(\"Best Parameters:\", grid_search.best_params_)"
   ],
   "id": "94a8bd5c1aba1ab5",
   "outputs": [
    {
     "name": "stdout",
     "output_type": "stream",
     "text": [
      "Best CV Accuracy: 0.6166\n",
      "Best Parameters: {'tfidf__max_df': 0.9, 'tfidf__min_df': 5, 'tfidf__ngram_range': (1, 2)}\n"
     ]
    }
   ],
   "execution_count": 23
  },
  {
   "metadata": {
    "ExecuteTime": {
     "end_time": "2025-02-28T17:21:56.780734Z",
     "start_time": "2025-02-28T17:21:56.690124Z"
    }
   },
   "cell_type": "code",
   "source": "dev_data.columns",
   "id": "42d0d3261110475f",
   "outputs": [
    {
     "ename": "NameError",
     "evalue": "name 'dev_data' is not defined",
     "output_type": "error",
     "traceback": [
      "\u001B[0;31m---------------------------------------------------------------------------\u001B[0m",
      "\u001B[0;31mNameError\u001B[0m                                 Traceback (most recent call last)",
      "Cell \u001B[0;32mIn[1], line 1\u001B[0m\n\u001B[0;32m----> 1\u001B[0m \u001B[43mdev_data\u001B[49m\u001B[38;5;241m.\u001B[39mcolumns\n",
      "\u001B[0;31mNameError\u001B[0m: name 'dev_data' is not defined"
     ]
    }
   ],
   "execution_count": 1
  },
  {
   "metadata": {
    "ExecuteTime": {
     "end_time": "2025-02-28T15:43:48.232689Z",
     "start_time": "2025-02-28T15:43:42.691158Z"
    }
   },
   "cell_type": "code",
   "source": [
    "# Use VADER sentiment analysis on the development dataset and compare its performance.\n",
    "\n",
    "sia = SentimentIntensityAnalyzer()\n",
    "\n",
    "def vader_sentiment(text):\n",
    "    scores = sia.polarity_scores(text)\n",
    "    return scores['compound']\n",
    "\n",
    "# Compute the VADER compound score for each review\n",
    "dev_data['vader_score'] = dev_data['review'].apply(vader_sentiment)\n",
    "\n",
    "# For comparison, map overall ratings to a binary sentiment: overall >= 3 is positive (1), otherwise negative (0)\n",
    "dev_data['sentiment_label'] = dev_data['overall'].apply(lambda x: 1 if x >= 3 else 0)\n",
    "# Map VADER compound score to sentiment: compound >= 0.05 is positive (1), else negative (0)\n",
    "dev_data['vader_label'] = dev_data['vader_score'].apply(lambda x: 1 if x >= 0.05 else 0)\n",
    "\n",
    "vader_accuracy = accuracy_score(dev_data['sentiment_label'], dev_data['vader_label'])\n",
    "print(\"VADER Sentiment Prediction Accuracy (mapped to overall sentiment):\", vader_accuracy)"
   ],
   "id": "954927fbc02d36c7",
   "outputs": [
    {
     "name": "stdout",
     "output_type": "stream",
     "text": [
      "VADER Sentiment Prediction Accuracy (mapped to overall sentiment): 0.9009\n"
     ]
    }
   ],
   "execution_count": 24
  },
  {
   "metadata": {
    "ExecuteTime": {
     "end_time": "2025-02-28T15:55:08.726905Z",
     "start_time": "2025-02-28T15:52:29.263022Z"
    }
   },
   "cell_type": "code",
   "source": [
    "from sklearn.pipeline import FeatureUnion\n",
    "\n",
    "# Extract best parameters with defaults if missing\n",
    "best_lower = grid_search.best_params_.get('preprocessor__lower', True)\n",
    "best_remove_stopwords = grid_search.best_params_.get('preprocessor__remove_stopwords', True)\n",
    "best_lemmatize = grid_search.best_params_.get('preprocessor__lemmatize', True)\n",
    "best_ngram = grid_search.best_params_.get('tfidf__ngram_range', (1, 1))\n",
    "\n",
    "# Build a combined feature pipeline: one branch processes text via the best preprocessing parameters,\n",
    "# and the other branch extracts the VADER sentiment score.\n",
    "combined_pipeline = Pipeline([\n",
    "    ('features', FeatureUnion(transformer_list=[\n",
    "        ('text_pipeline', Pipeline([\n",
    "            ('preprocessor', TextPreprocessor(\n",
    "                lower=best_lower,\n",
    "                remove_stopwords=best_remove_stopwords,\n",
    "                lemmatize=best_lemmatize)),\n",
    "            ('tfidf', TfidfVectorizer(max_df=0.9, min_df=5,\n",
    "                                      ngram_range=best_ngram))\n",
    "        ])),\n",
    "        ('vader', VaderTransformer())\n",
    "    ])),\n",
    "    ('svm', SVC(kernel='linear', random_state=42))\n",
    "])\n",
    "\n",
    "# Evaluate the combined pipeline using 10-fold cross-validation on the development set.\n",
    "combined_cv_scores = cross_val_score(combined_pipeline, dev_data['review'], dev_data['overall'],\n",
    "                                     cv=10, scoring='accuracy')\n",
    "print(\"Combined Model CV Accuracy (with VADER):\", np.mean(combined_cv_scores))"
   ],
   "id": "63839b409308a1d4",
   "outputs": [
    {
     "name": "stdout",
     "output_type": "stream",
     "text": [
      "Combined Model CV Accuracy (with VADER): 0.6147\n"
     ]
    }
   ],
   "execution_count": 29
  },
  {
   "metadata": {
    "ExecuteTime": {
     "end_time": "2025-02-28T16:00:42.440348Z",
     "start_time": "2025-02-28T15:59:14.616102Z"
    }
   },
   "cell_type": "code",
   "source": [
    "# Final model training and evaluation on training and test sets.\n",
    "# Use the best preprocessing configuration obtained from GridSearchCV (unsupervised with respect to the target).\n",
    "\n",
    "# Extract 'overall' rating from the 'ratings' dictionary for training and test sets\n",
    "train_data['overall'] = train_data['ratings'].apply(lambda x: x.get('overall', None))\n",
    "test_data['overall'] = test_data['ratings'].apply(lambda x: x.get('overall', None))\n",
    "\n",
    "best_lower = grid_search.best_params_.get('preprocessor__lower', True)\n",
    "best_remove_stopwords = grid_search.best_params_.get('preprocessor__remove_stopwords', True)\n",
    "best_lemmatize = grid_search.best_params_.get('preprocessor__lemmatize', True)\n",
    "best_ngram = grid_search.best_params_.get('tfidf__ngram_range', (1, 1))\n",
    "\n",
    "final_pipeline = Pipeline([\n",
    "    ('preprocessor', TextPreprocessor(lower=best_lower, remove_stopwords=best_remove_stopwords, lemmatize=best_lemmatize)),\n",
    "    ('tfidf', TfidfVectorizer(max_df=0.9, min_df=5, ngram_range=best_ngram)),\n",
    "    ('svm', SVC(kernel='linear', random_state=42))\n",
    "])\n",
    "\n",
    "# Train on the training set\n",
    "final_pipeline.fit(train_data['review'], train_data['overall'])\n",
    "\n",
    "# Evaluate on the test set\n",
    "test_predictions = final_pipeline.predict(test_data['review'])\n",
    "final_accuracy = accuracy_score(test_data['overall'], test_predictions)\n",
    "print(\"Final Model Test Accuracy:\", final_accuracy)\n",
    "print(\"Classification Report on Test Set:\\n\", classification_report(test_data['overall'], test_predictions))"
   ],
   "id": "721d06caf3a419e6",
   "outputs": [
    {
     "name": "stdout",
     "output_type": "stream",
     "text": [
      "Final Model Test Accuracy: 0.6196\n",
      "Classification Report on Test Set:\n",
      "               precision    recall  f1-score   support\n",
      "\n",
      "         0.0       0.00      0.00      0.00         1\n",
      "         1.0       0.68      0.64      0.66       642\n",
      "         2.0       0.42      0.27      0.33       683\n",
      "         3.0       0.48      0.42      0.45      1350\n",
      "         4.0       0.55      0.58      0.56      3221\n",
      "         5.0       0.72      0.77      0.75      4103\n",
      "\n",
      "    accuracy                           0.62     10000\n",
      "   macro avg       0.48      0.45      0.46     10000\n",
      "weighted avg       0.61      0.62      0.61     10000\n",
      "\n"
     ]
    },
    {
     "name": "stderr",
     "output_type": "stream",
     "text": [
      "/Users/thory/miniconda3/envs/tiny-ml/lib/python3.12/site-packages/sklearn/metrics/_classification.py:1531: UndefinedMetricWarning: Precision is ill-defined and being set to 0.0 in labels with no predicted samples. Use `zero_division` parameter to control this behavior.\n",
      "  _warn_prf(average, modifier, f\"{metric.capitalize()} is\", len(result))\n",
      "/Users/thory/miniconda3/envs/tiny-ml/lib/python3.12/site-packages/sklearn/metrics/_classification.py:1531: UndefinedMetricWarning: Precision is ill-defined and being set to 0.0 in labels with no predicted samples. Use `zero_division` parameter to control this behavior.\n",
      "  _warn_prf(average, modifier, f\"{metric.capitalize()} is\", len(result))\n",
      "/Users/thory/miniconda3/envs/tiny-ml/lib/python3.12/site-packages/sklearn/metrics/_classification.py:1531: UndefinedMetricWarning: Precision is ill-defined and being set to 0.0 in labels with no predicted samples. Use `zero_division` parameter to control this behavior.\n",
      "  _warn_prf(average, modifier, f\"{metric.capitalize()} is\", len(result))\n"
     ]
    }
   ],
   "execution_count": 33
  },
  {
   "metadata": {
    "ExecuteTime": {
     "end_time": "2025-02-28T16:00:42.529475Z",
     "start_time": "2025-02-28T16:00:42.526626Z"
    }
   },
   "cell_type": "code",
   "source": [
    "# %% [code]\n",
    "# Discussion of results (printed to the console)\n",
    "print(\"### Discussion of Results\\n\")\n",
    "print(f\"- The best preprocessing configuration obtained from 10-fold cross-validation on the development set was:\")\n",
    "print(f\"  - Lowercasing: {best_lower}\")\n",
    "print(f\"  - Stop-word removal: {best_remove_stopwords}\")\n",
    "print(f\"  - Lemmatization: {best_lemmatize}\")\n",
    "print(f\"  - n-gram range: {best_ngram}\\n\")\n",
    "print(f\"- The CV accuracy using the best model on the development set was approximately {grid_search.best_score_:.4f}.\")\n",
    "print(f\"- Using VADER sentiment analysis alone, the sentiment prediction accuracy (after mapping overall ratings to binary sentiment) was {vader_accuracy:.4f}.\")\n",
    "print(f\"- Combining VADER features with the text-based SVM improved the CV accuracy to {np.mean(combined_cv_scores):.4f}, suggesting that the sentiment score provided additional useful information.\\n\")\n",
    "print(f\"- The final model trained on the training set and evaluated on the test set achieved an accuracy of {final_accuracy:.4f}.\")\n",
    "print(\"Differences between the development CV results and the final test results can be attributed to potential distribution differences between the splits and overfitting during model selection.\")"
   ],
   "id": "b4df1e1ce233d6",
   "outputs": [
    {
     "name": "stdout",
     "output_type": "stream",
     "text": [
      "### Discussion of Results\n",
      "\n",
      "- The best preprocessing configuration obtained from 10-fold cross-validation on the development set was:\n",
      "  - Lowercasing: True\n",
      "  - Stop-word removal: True\n",
      "  - Lemmatization: True\n",
      "  - n-gram range: (1, 2)\n",
      "\n",
      "- The CV accuracy using the best model on the development set was approximately 0.6166.\n",
      "- Using VADER sentiment analysis alone, the sentiment prediction accuracy (after mapping overall ratings to binary sentiment) was 0.9009.\n",
      "- Combining VADER features with the text-based SVM improved the CV accuracy to 0.6147, suggesting that the sentiment score provided additional useful information.\n",
      "\n",
      "- The final model trained on the training set and evaluated on the test set achieved an accuracy of 0.6196.\n",
      "Differences between the development CV results and the final test results can be attributed to potential distribution differences between the splits and overfitting during model selection.\n"
     ]
    }
   ],
   "execution_count": 34
  },
  {
   "metadata": {},
   "cell_type": "code",
   "outputs": [],
   "execution_count": null,
   "source": "",
   "id": "6e883a03fe008c18"
  }
 ],
 "metadata": {
  "kernelspec": {
   "display_name": "Python 3",
   "language": "python",
   "name": "python3"
  },
  "language_info": {
   "codemirror_mode": {
    "name": "ipython",
    "version": 2
   },
   "file_extension": ".py",
   "mimetype": "text/x-python",
   "name": "python",
   "nbconvert_exporter": "python",
   "pygments_lexer": "ipython2",
   "version": "2.7.6"
  }
 },
 "nbformat": 4,
 "nbformat_minor": 5
}
