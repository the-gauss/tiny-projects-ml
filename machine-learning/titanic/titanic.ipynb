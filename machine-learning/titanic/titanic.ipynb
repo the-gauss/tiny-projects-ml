{
 "cells": [
  {
   "cell_type": "code",
   "execution_count": 1,
   "metadata": {
    "collapsed": true,
    "ExecuteTime": {
     "end_time": "2023-10-01T15:36:21.138069700Z",
     "start_time": "2023-10-01T15:36:15.419642500Z"
    }
   },
   "outputs": [],
   "source": [
    "import pandas as pd\n",
    "import numpy as np\n",
    "import scipy\n",
    "import joblib\n",
    "from sklearn import impute, preprocessing, model_selection, base, linear_model, pipeline, ensemble, svm, neighbors, compose, tree"
   ]
  },
  {
   "cell_type": "code",
   "execution_count": 2,
   "outputs": [],
   "source": [
    "titanic_train, titanic_test = pd.read_csv('data/train.csv'), pd.read_csv('data/test.csv')\n",
    "\n",
    "X_train, y_train = titanic_train.drop(['Survived', 'PassengerId'], axis=1), titanic_train['Survived']\n",
    "X_test = titanic_test.drop(['PassengerId'], axis=1)"
   ],
   "metadata": {
    "collapsed": false,
    "ExecuteTime": {
     "end_time": "2023-10-01T15:36:21.206715Z",
     "start_time": "2023-10-01T15:36:21.111247500Z"
    }
   }
  },
  {
   "cell_type": "markdown",
   "source": [
    "#### Data Preparation"
   ],
   "metadata": {
    "collapsed": false
   }
  },
  {
   "cell_type": "code",
   "execution_count": 48,
   "outputs": [
    {
     "data": {
      "text/plain": "     Pclass                                               Name     Sex   Age  \\\n0         3                            Braund, Mr. Owen Harris    male  22.0   \n1         1  Cumings, Mrs. John Bradley (Florence Briggs Th...  female  38.0   \n2         3                             Heikkinen, Miss. Laina  female  26.0   \n3         1       Futrelle, Mrs. Jacques Heath (Lily May Peel)  female  35.0   \n4         3                           Allen, Mr. William Henry    male  35.0   \n..      ...                                                ...     ...   ...   \n886       2                              Montvila, Rev. Juozas    male  27.0   \n887       1                       Graham, Miss. Margaret Edith  female  19.0   \n888       3           Johnston, Miss. Catherine Helen \"Carrie\"  female   NaN   \n889       1                              Behr, Mr. Karl Howell    male  26.0   \n890       3                                Dooley, Mr. Patrick    male  32.0   \n\n     SibSp  Parch            Ticket     Fare Cabin Embarked  \n0        1      0         A/5 21171   7.2500   NaN        S  \n1        1      0          PC 17599  71.2833   C85        C  \n2        0      0  STON/O2. 3101282   7.9250   NaN        S  \n3        1      0            113803  53.1000  C123        S  \n4        0      0            373450   8.0500   NaN        S  \n..     ...    ...               ...      ...   ...      ...  \n886      0      0            211536  13.0000   NaN        S  \n887      0      0            112053  30.0000   B42        S  \n888      1      2        W./C. 6607  23.4500   NaN        S  \n889      0      0            111369  30.0000  C148        C  \n890      0      0            370376   7.7500   NaN        Q  \n\n[891 rows x 10 columns]",
      "text/html": "<div>\n<style scoped>\n    .dataframe tbody tr th:only-of-type {\n        vertical-align: middle;\n    }\n\n    .dataframe tbody tr th {\n        vertical-align: top;\n    }\n\n    .dataframe thead th {\n        text-align: right;\n    }\n</style>\n<table border=\"1\" class=\"dataframe\">\n  <thead>\n    <tr style=\"text-align: right;\">\n      <th></th>\n      <th>Pclass</th>\n      <th>Name</th>\n      <th>Sex</th>\n      <th>Age</th>\n      <th>SibSp</th>\n      <th>Parch</th>\n      <th>Ticket</th>\n      <th>Fare</th>\n      <th>Cabin</th>\n      <th>Embarked</th>\n    </tr>\n  </thead>\n  <tbody>\n    <tr>\n      <th>0</th>\n      <td>3</td>\n      <td>Braund, Mr. Owen Harris</td>\n      <td>male</td>\n      <td>22.0</td>\n      <td>1</td>\n      <td>0</td>\n      <td>A/5 21171</td>\n      <td>7.2500</td>\n      <td>NaN</td>\n      <td>S</td>\n    </tr>\n    <tr>\n      <th>1</th>\n      <td>1</td>\n      <td>Cumings, Mrs. John Bradley (Florence Briggs Th...</td>\n      <td>female</td>\n      <td>38.0</td>\n      <td>1</td>\n      <td>0</td>\n      <td>PC 17599</td>\n      <td>71.2833</td>\n      <td>C85</td>\n      <td>C</td>\n    </tr>\n    <tr>\n      <th>2</th>\n      <td>3</td>\n      <td>Heikkinen, Miss. Laina</td>\n      <td>female</td>\n      <td>26.0</td>\n      <td>0</td>\n      <td>0</td>\n      <td>STON/O2. 3101282</td>\n      <td>7.9250</td>\n      <td>NaN</td>\n      <td>S</td>\n    </tr>\n    <tr>\n      <th>3</th>\n      <td>1</td>\n      <td>Futrelle, Mrs. Jacques Heath (Lily May Peel)</td>\n      <td>female</td>\n      <td>35.0</td>\n      <td>1</td>\n      <td>0</td>\n      <td>113803</td>\n      <td>53.1000</td>\n      <td>C123</td>\n      <td>S</td>\n    </tr>\n    <tr>\n      <th>4</th>\n      <td>3</td>\n      <td>Allen, Mr. William Henry</td>\n      <td>male</td>\n      <td>35.0</td>\n      <td>0</td>\n      <td>0</td>\n      <td>373450</td>\n      <td>8.0500</td>\n      <td>NaN</td>\n      <td>S</td>\n    </tr>\n    <tr>\n      <th>...</th>\n      <td>...</td>\n      <td>...</td>\n      <td>...</td>\n      <td>...</td>\n      <td>...</td>\n      <td>...</td>\n      <td>...</td>\n      <td>...</td>\n      <td>...</td>\n      <td>...</td>\n    </tr>\n    <tr>\n      <th>886</th>\n      <td>2</td>\n      <td>Montvila, Rev. Juozas</td>\n      <td>male</td>\n      <td>27.0</td>\n      <td>0</td>\n      <td>0</td>\n      <td>211536</td>\n      <td>13.0000</td>\n      <td>NaN</td>\n      <td>S</td>\n    </tr>\n    <tr>\n      <th>887</th>\n      <td>1</td>\n      <td>Graham, Miss. Margaret Edith</td>\n      <td>female</td>\n      <td>19.0</td>\n      <td>0</td>\n      <td>0</td>\n      <td>112053</td>\n      <td>30.0000</td>\n      <td>B42</td>\n      <td>S</td>\n    </tr>\n    <tr>\n      <th>888</th>\n      <td>3</td>\n      <td>Johnston, Miss. Catherine Helen \"Carrie\"</td>\n      <td>female</td>\n      <td>NaN</td>\n      <td>1</td>\n      <td>2</td>\n      <td>W./C. 6607</td>\n      <td>23.4500</td>\n      <td>NaN</td>\n      <td>S</td>\n    </tr>\n    <tr>\n      <th>889</th>\n      <td>1</td>\n      <td>Behr, Mr. Karl Howell</td>\n      <td>male</td>\n      <td>26.0</td>\n      <td>0</td>\n      <td>0</td>\n      <td>111369</td>\n      <td>30.0000</td>\n      <td>C148</td>\n      <td>C</td>\n    </tr>\n    <tr>\n      <th>890</th>\n      <td>3</td>\n      <td>Dooley, Mr. Patrick</td>\n      <td>male</td>\n      <td>32.0</td>\n      <td>0</td>\n      <td>0</td>\n      <td>370376</td>\n      <td>7.7500</td>\n      <td>NaN</td>\n      <td>Q</td>\n    </tr>\n  </tbody>\n</table>\n<p>891 rows × 10 columns</p>\n</div>"
     },
     "execution_count": 48,
     "metadata": {},
     "output_type": "execute_result"
    }
   ],
   "source": [
    "X_train"
   ],
   "metadata": {
    "collapsed": false,
    "ExecuteTime": {
     "end_time": "2023-10-01T00:47:18.655427200Z",
     "start_time": "2023-10-01T00:47:18.624169200Z"
    }
   }
  },
  {
   "cell_type": "code",
   "execution_count": 49,
   "outputs": [
    {
     "data": {
      "text/plain": "Pclass      1.000000\nName        1.000000\nSex         1.000000\nAge         0.801347\nSibSp       1.000000\nParch       1.000000\nTicket      1.000000\nFare        1.000000\nCabin       0.228956\nEmbarked    0.997755\ndtype: float64"
     },
     "execution_count": 49,
     "metadata": {},
     "output_type": "execute_result"
    }
   ],
   "source": [
    "X_train.count()/len(X_train)"
   ],
   "metadata": {
    "collapsed": false,
    "ExecuteTime": {
     "end_time": "2023-10-01T00:47:18.950278300Z",
     "start_time": "2023-10-01T00:47:18.858065400Z"
    }
   }
  },
  {
   "cell_type": "code",
   "execution_count": 50,
   "outputs": [
    {
     "data": {
      "text/plain": "Cabin\nNaN            687\nC23 C25 C27      4\nG6               4\nB96 B98          4\nC22 C26          3\n              ... \nE34              1\nC7               1\nC54              1\nE36              1\nC148             1\nName: count, Length: 148, dtype: int64"
     },
     "execution_count": 50,
     "metadata": {},
     "output_type": "execute_result"
    }
   ],
   "source": [
    "X_train['Cabin'].value_counts(dropna=False)"
   ],
   "metadata": {
    "collapsed": false,
    "ExecuteTime": {
     "end_time": "2023-10-01T00:47:19.171382300Z",
     "start_time": "2023-10-01T00:47:19.060138900Z"
    }
   }
  },
  {
   "cell_type": "code",
   "execution_count": 51,
   "outputs": [
    {
     "data": {
      "text/plain": "Ticket\n347082      7\nCA. 2343    7\n1601        7\n3101295     6\nCA 2144     6\n           ..\n9234        1\n19988       1\n2693        1\nPC 17612    1\n370376      1\nName: count, Length: 681, dtype: int64"
     },
     "execution_count": 51,
     "metadata": {},
     "output_type": "execute_result"
    }
   ],
   "source": [
    "X_train['Ticket'].value_counts()"
   ],
   "metadata": {
    "collapsed": false,
    "ExecuteTime": {
     "end_time": "2023-10-01T00:47:19.321594Z",
     "start_time": "2023-10-01T00:47:19.242600Z"
    }
   }
  },
  {
   "cell_type": "markdown",
   "source": [
    "First, I am going to extract Title from the full Name, as it might convey information about the status in society. VIP people might have higher chances of surviving. Second, From the SibSp and Parch attributes, I calculate the total number of family members of the passenger on the ship. Family members might help each other survive."
   ],
   "metadata": {
    "collapsed": false
   }
  },
  {
   "cell_type": "code",
   "execution_count": 52,
   "outputs": [],
   "source": [
    "# Extract Title from Name\n",
    "class TitleExtractor(base.BaseEstimator, base.TransformerMixin):\n",
    "    def __init__(self):\n",
    "        self.feature_names_in_= None\n",
    "    def fit(self, X, y=None):\n",
    "        self.feature_names_in_=X.columns\n",
    "        return self\n",
    "    def transform(self, X):\n",
    "        return pd.DataFrame(X['Name'].str.extract(' ([A-Za-z]+)\\.', expand=False))\n",
    "    def get_feature_names_out(self, inp=None):\n",
    "        return ['title']\n",
    "\n",
    "\n",
    "# Calculating Total Family Members\n",
    "class FamilyExtractor(base.BaseEstimator, base.TransformerMixin):\n",
    "    def __init__(self):\n",
    "        self.feature_names_in_ = None\n",
    "    def fit(self, X, y=None):\n",
    "        self.feature_names_in_ = X.columns\n",
    "        return self\n",
    "    def transform(self, X):\n",
    "        return pd.DataFrame(X['Parch']+X['SibSp'])\n",
    "    def get_feature_names_out(self, inp=None):\n",
    "        return ['family_mems']"
   ],
   "metadata": {
    "collapsed": false,
    "ExecuteTime": {
     "end_time": "2023-10-01T00:47:22.041134600Z",
     "start_time": "2023-10-01T00:47:22.025476100Z"
    }
   }
  },
  {
   "cell_type": "markdown",
   "source": [
    "Next, in the following cell, I have created a Custom Sklearn Transformer, which tackles the Cabin and Ticket attribute. The Cabin attribute has 687 null values, but the non null values might reveal a couple of things - the number of cabins and the deck. These seem to be useful as where the cabin was in the ship might be a decisive factor in whether the passenger survived or not.\n",
    "Also, I am categorizing the Ticket attribute into 13 categories.\n",
    "To summarize, in the following cell we carry out the following feature engineering steps:   \n",
    "\n",
    "* Extract Number of Cabins booked by the Passenger\n",
    "* Extract the Deck the Cabin is in (The first letter of the Cabin)\n",
    "* Categorize Ticket attribute\n",
    "* OneHot Encode the Ticket and Deck attributes\n",
    "* And finally remove the original Ticket and Cabin attribbutes as they are no longer needed."
   ],
   "metadata": {
    "collapsed": false
   }
  },
  {
   "cell_type": "code",
   "execution_count": 68,
   "outputs": [],
   "source": [
    "# Transformer for Cabin and Ticket\n",
    "\n",
    "class CabinTicketTransformer(base.BaseEstimator, base.TransformerMixin):\n",
    "    def __init__(self, type):\n",
    "        self.new_X = pd.DataFrame()\n",
    "        self.old_X = None\n",
    "        self.type = type\n",
    "        if self.type=='Cabin':\n",
    "            self.encoder = preprocessing.OneHotEncoder(drop=[np.nan], handle_unknown='ignore')\n",
    "        elif self.type=='Ticket':\n",
    "            self.encoder = preprocessing.OneHotEncoder(handle_unknown='ignore')\n",
    "        else:\n",
    "            raise TypeError('Only Cabin or Ticket columns are supported')\n",
    "\n",
    "    def fit(self, X, y=None):\n",
    "        return self\n",
    "\n",
    "    def transform(self, X, y=None):\n",
    "        self.old_X = pd.Series(X.squeeze())\n",
    "        if self.type=='Cabin':\n",
    "            decks = self.encoder.fit_transform(pd.DataFrame(self.old_X.str[0])).toarray()       #toarray because sparse matrix\n",
    "            cabins = self.old_X.apply(lambda x: 0 if pd.isna(x) else len(str(x).split(' ')))\n",
    "            self.new_X = pd.DataFrame(np.c_[decks, cabins])\n",
    "            return self.new_X\n",
    "        else:\n",
    "            new_features = pd.DataFrame()\n",
    "\n",
    "            new_features['Ticket_Cat'] = self.old_X.apply(self.ticket_cat)\n",
    "            new_features['IsNumeric'] = self.old_X.apply(lambda x: 1 if x.split(' ')[-1].isdigit() else 0)\n",
    "    \n",
    "            one_hot_features = self.encoder.fit_transform(new_features[['Ticket_Cat']])\n",
    "    \n",
    "            # If one_hot_features is sparse, convert it to dense\n",
    "            if isinstance(one_hot_features, scipy.sparse.csr_matrix):\n",
    "                one_hot_features = one_hot_features.toarray()\n",
    "    \n",
    "            # Make sure both arrays have the same number of rows\n",
    "            assert one_hot_features.shape[0] == new_features[['IsNumeric']].shape[0]\n",
    "    \n",
    "            # Combine one-hot encoded and numerical features\n",
    "            final_features = np.hstack([one_hot_features, new_features[['IsNumeric']].values])\n",
    "    \n",
    "            return final_features\n",
    "\n",
    "    def get_feature_names_out(self, inp=None):\n",
    "        feats = list(self.encoder.get_feature_names_out())\n",
    "        return feats + ['IsNumeric'] if self.type == 'Ticket' else feats + ['Cabins']\n",
    "\n",
    "    def ticket_cat(self, row):\n",
    "        ticket=row\n",
    "        if ticket.startswith('W'):\n",
    "            if 'C' in ticket:\n",
    "                return 1\n",
    "            else:\n",
    "                return 2\n",
    "        if ticket.startswith('S'):\n",
    "            if 'TON' in ticket:\n",
    "                return 3\n",
    "            elif 'PARIS' in ticket.upper():\n",
    "                return 4\n",
    "            else:\n",
    "                return 5\n",
    "        if ticket.startswith('A'):\n",
    "            return 6\n",
    "        if ticket.startswith('C'):\n",
    "            if 'A' in ticket:\n",
    "                return 7\n",
    "            else:\n",
    "                return 8\n",
    "        if ticket.startswith('F'):\n",
    "            return 9\n",
    "        if ticket.startswith('L'):\n",
    "            return 10\n",
    "        if ticket.startswith('P'):\n",
    "            if 'C' in ticket:\n",
    "                return 11\n",
    "            else:\n",
    "                return 12"
   ],
   "metadata": {
    "collapsed": false,
    "ExecuteTime": {
     "end_time": "2023-10-01T00:56:30.620012800Z",
     "start_time": "2023-10-01T00:56:30.557203800Z"
    }
   }
  },
  {
   "cell_type": "code",
   "execution_count": 74,
   "outputs": [],
   "source": [
    "# Pipeline for imputing and scaling the ``Age`` and ``Fare`` attribute\n",
    "num_pipe = pipeline.Pipeline([('num_impute', impute.SimpleImputer(strategy='median')),\n",
    "                              ('num_scale', preprocessing.StandardScaler())])\n",
    "\n",
    "# Pipeline for Embarked attribute\n",
    "emb_pipe = pipeline.Pipeline([('emb_impute', impute.SimpleImputer(strategy='most_frequent')),\n",
    "                              ('emb_encode', preprocessing.OneHotEncoder(handle_unknown='ignore'))])\n",
    "\n",
    "# Transformer for creating new attributes - family members and title\n",
    "column_creator = compose.ColumnTransformer([('title_create', TitleExtractor(), ['Name']),\n",
    "                                            ('fam_create', FamilyExtractor(), ['Parch', 'SibSp'])], remainder='passthrough')\n",
    "\n",
    "# Final Column Transformer\n",
    "column_transformer = compose.ColumnTransformer([('num_pipe', num_pipe, [4,6]),\n",
    "                                                ('title_encode', preprocessing.OneHotEncoder(handle_unknown='ignore'), [0]),\n",
    "                                           ('cab_pipe', CabinTicketTransformer('Cabin'), [7]),\n",
    "                                           ('ticket_pipe', CabinTicketTransformer('Ticket'), [5]),\n",
    "                                           ('emb_pipe', emb_pipe, [8]),\n",
    "                                           ('class_encode', preprocessing.OrdinalEncoder(), [2]),\n",
    "                                           ('sex_pipe', preprocessing.OrdinalEncoder(), [3])], remainder='passthrough', sparse_threshold=0)\n",
    "\n",
    "# Final Pipeline\n",
    "full_pipeline = pipeline.Pipeline([('new_cols', column_creator),\n",
    "                                   ('all_columns_trans', column_transformer)])\n",
    "\n",
    "X_train_prep = full_pipeline.fit_transform(X_train) "
   ],
   "metadata": {
    "collapsed": false,
    "ExecuteTime": {
     "end_time": "2023-10-01T00:58:07.854249600Z",
     "start_time": "2023-10-01T00:58:07.822643700Z"
    }
   }
  },
  {
   "cell_type": "code",
   "execution_count": 76,
   "outputs": [
    {
     "data": {
      "text/plain": "array(['num_pipe__remainder__Age', 'num_pipe__remainder__Fare',\n       'title_encode__title_create__title_Capt',\n       'title_encode__title_create__title_Col',\n       'title_encode__title_create__title_Countess',\n       'title_encode__title_create__title_Don',\n       'title_encode__title_create__title_Dr',\n       'title_encode__title_create__title_Jonkheer',\n       'title_encode__title_create__title_Lady',\n       'title_encode__title_create__title_Major',\n       'title_encode__title_create__title_Master',\n       'title_encode__title_create__title_Miss',\n       'title_encode__title_create__title_Mlle',\n       'title_encode__title_create__title_Mme',\n       'title_encode__title_create__title_Mr',\n       'title_encode__title_create__title_Mrs',\n       'title_encode__title_create__title_Ms',\n       'title_encode__title_create__title_Rev',\n       'title_encode__title_create__title_Sir', 'cab_pipe__x0_A',\n       'cab_pipe__x0_B', 'cab_pipe__x0_C', 'cab_pipe__x0_D',\n       'cab_pipe__x0_E', 'cab_pipe__x0_F', 'cab_pipe__x0_G',\n       'cab_pipe__x0_T', 'cab_pipe__Cabins',\n       'ticket_pipe__Ticket_Cat_1.0', 'ticket_pipe__Ticket_Cat_2.0',\n       'ticket_pipe__Ticket_Cat_3.0', 'ticket_pipe__Ticket_Cat_4.0',\n       'ticket_pipe__Ticket_Cat_5.0', 'ticket_pipe__Ticket_Cat_6.0',\n       'ticket_pipe__Ticket_Cat_7.0', 'ticket_pipe__Ticket_Cat_8.0',\n       'ticket_pipe__Ticket_Cat_9.0', 'ticket_pipe__Ticket_Cat_10.0',\n       'ticket_pipe__Ticket_Cat_11.0', 'ticket_pipe__Ticket_Cat_12.0',\n       'ticket_pipe__Ticket_Cat_nan', 'ticket_pipe__IsNumeric',\n       'emb_pipe__remainder__Embarked_C',\n       'emb_pipe__remainder__Embarked_Q',\n       'emb_pipe__remainder__Embarked_S',\n       'class_encode__remainder__Pclass', 'sex_pipe__remainder__Sex',\n       'remainder__fam_create__family_mems'], dtype=object)"
     },
     "execution_count": 76,
     "metadata": {},
     "output_type": "execute_result"
    }
   ],
   "source": [
    "full_pipeline.get_feature_names_out()"
   ],
   "metadata": {
    "collapsed": false,
    "ExecuteTime": {
     "end_time": "2023-10-01T00:58:15.264107Z",
     "start_time": "2023-10-01T00:58:15.216837700Z"
    }
   }
  },
  {
   "cell_type": "code",
   "execution_count": 77,
   "outputs": [
    {
     "data": {
      "text/plain": "array([[-0.5657364610748746, -0.5024451714361923, 0.0, ..., 2.0, 1.0, 1],\n       [0.6638610320657843, 0.7868452935884461, 0.0, ..., 0.0, 0.0, 1],\n       [-0.2583370877897099, -0.4888542575852486, 0.0, ..., 2.0, 0.0, 0],\n       ...,\n       [-0.10463740114712752, -0.17626323901354432, 0.0, ..., 2.0, 0.0,\n        3],\n       [-0.2583370877897099, -0.04438103794142432, 0.0, ..., 0.0, 1.0, 0],\n       [0.20276197213803718, -0.49237782784290063, 0.0, ..., 2.0, 1.0, 0]],\n      dtype=object)"
     },
     "execution_count": 77,
     "metadata": {},
     "output_type": "execute_result"
    }
   ],
   "source": [
    "X_train_prep"
   ],
   "metadata": {
    "collapsed": false,
    "ExecuteTime": {
     "end_time": "2023-10-01T00:58:17.945201400Z",
     "start_time": "2023-10-01T00:58:17.929607300Z"
    }
   }
  },
  {
   "cell_type": "markdown",
   "source": [
    "We finally end up with the following 50 features, fairly more than the original dataset."
   ],
   "metadata": {
    "collapsed": false
   }
  },
  {
   "cell_type": "code",
   "execution_count": 78,
   "outputs": [
    {
     "data": {
      "text/plain": "['saved_models/full_pipeline.pkl']"
     },
     "execution_count": 78,
     "metadata": {},
     "output_type": "execute_result"
    }
   ],
   "source": [
    "joblib.dump(full_pipeline, 'saved_models/full_pipeline.pkl')"
   ],
   "metadata": {
    "collapsed": false,
    "ExecuteTime": {
     "end_time": "2023-10-01T00:58:19.543944300Z",
     "start_time": "2023-10-01T00:58:19.512731900Z"
    }
   }
  },
  {
   "cell_type": "code",
   "execution_count": 79,
   "outputs": [
    {
     "data": {
      "text/plain": "    num_pipe__remainder__Age num_pipe__remainder__Fare  \\\n0                  -0.565736                 -0.502445   \n1                   0.663861                  0.786845   \n2                  -0.258337                 -0.488854   \n3                   0.433312                   0.42073   \n4                   0.433312                 -0.486337   \n..                       ...                       ...   \n886                -0.181487                 -0.386671   \n887                -0.796286                 -0.044381   \n888                -0.104637                 -0.176263   \n889                -0.258337                 -0.044381   \n890                 0.202762                 -0.492378   \n\n    title_encode__title_create__title_Capt  \\\n0                                      0.0   \n1                                      0.0   \n2                                      0.0   \n3                                      0.0   \n4                                      0.0   \n..                                     ...   \n886                                    0.0   \n887                                    0.0   \n888                                    0.0   \n889                                    0.0   \n890                                    0.0   \n\n    title_encode__title_create__title_Col  \\\n0                                     0.0   \n1                                     0.0   \n2                                     0.0   \n3                                     0.0   \n4                                     0.0   \n..                                    ...   \n886                                   0.0   \n887                                   0.0   \n888                                   0.0   \n889                                   0.0   \n890                                   0.0   \n\n    title_encode__title_create__title_Countess  \\\n0                                          0.0   \n1                                          0.0   \n2                                          0.0   \n3                                          0.0   \n4                                          0.0   \n..                                         ...   \n886                                        0.0   \n887                                        0.0   \n888                                        0.0   \n889                                        0.0   \n890                                        0.0   \n\n    title_encode__title_create__title_Don  \\\n0                                     0.0   \n1                                     0.0   \n2                                     0.0   \n3                                     0.0   \n4                                     0.0   \n..                                    ...   \n886                                   0.0   \n887                                   0.0   \n888                                   0.0   \n889                                   0.0   \n890                                   0.0   \n\n    title_encode__title_create__title_Dr  \\\n0                                    0.0   \n1                                    0.0   \n2                                    0.0   \n3                                    0.0   \n4                                    0.0   \n..                                   ...   \n886                                  0.0   \n887                                  0.0   \n888                                  0.0   \n889                                  0.0   \n890                                  0.0   \n\n    title_encode__title_create__title_Jonkheer  \\\n0                                          0.0   \n1                                          0.0   \n2                                          0.0   \n3                                          0.0   \n4                                          0.0   \n..                                         ...   \n886                                        0.0   \n887                                        0.0   \n888                                        0.0   \n889                                        0.0   \n890                                        0.0   \n\n    title_encode__title_create__title_Lady  \\\n0                                      0.0   \n1                                      0.0   \n2                                      0.0   \n3                                      0.0   \n4                                      0.0   \n..                                     ...   \n886                                    0.0   \n887                                    0.0   \n888                                    0.0   \n889                                    0.0   \n890                                    0.0   \n\n    title_encode__title_create__title_Major  ... ticket_pipe__Ticket_Cat_11.0  \\\n0                                       0.0  ...                          0.0   \n1                                       0.0  ...                          1.0   \n2                                       0.0  ...                          0.0   \n3                                       0.0  ...                          0.0   \n4                                       0.0  ...                          0.0   \n..                                      ...  ...                          ...   \n886                                     0.0  ...                          0.0   \n887                                     0.0  ...                          0.0   \n888                                     0.0  ...                          0.0   \n889                                     0.0  ...                          0.0   \n890                                     0.0  ...                          0.0   \n\n    ticket_pipe__Ticket_Cat_12.0 ticket_pipe__Ticket_Cat_nan  \\\n0                            0.0                         0.0   \n1                            0.0                         0.0   \n2                            0.0                         0.0   \n3                            0.0                         1.0   \n4                            0.0                         1.0   \n..                           ...                         ...   \n886                          0.0                         1.0   \n887                          0.0                         1.0   \n888                          0.0                         0.0   \n889                          0.0                         1.0   \n890                          0.0                         1.0   \n\n    ticket_pipe__IsNumeric emb_pipe__remainder__Embarked_C  \\\n0                      1.0                             0.0   \n1                      1.0                             1.0   \n2                      1.0                             0.0   \n3                      1.0                             0.0   \n4                      1.0                             0.0   \n..                     ...                             ...   \n886                    1.0                             0.0   \n887                    1.0                             0.0   \n888                    1.0                             0.0   \n889                    1.0                             1.0   \n890                    1.0                             0.0   \n\n    emb_pipe__remainder__Embarked_Q emb_pipe__remainder__Embarked_S  \\\n0                               0.0                             1.0   \n1                               0.0                             0.0   \n2                               0.0                             1.0   \n3                               0.0                             1.0   \n4                               0.0                             1.0   \n..                              ...                             ...   \n886                             0.0                             1.0   \n887                             0.0                             1.0   \n888                             0.0                             1.0   \n889                             0.0                             0.0   \n890                             1.0                             0.0   \n\n    class_encode__remainder__Pclass sex_pipe__remainder__Sex  \\\n0                               2.0                      1.0   \n1                               0.0                      0.0   \n2                               2.0                      0.0   \n3                               0.0                      0.0   \n4                               2.0                      1.0   \n..                              ...                      ...   \n886                             1.0                      1.0   \n887                             0.0                      0.0   \n888                             2.0                      0.0   \n889                             0.0                      1.0   \n890                             2.0                      1.0   \n\n    remainder__fam_create__family_mems  \n0                                    1  \n1                                    1  \n2                                    0  \n3                                    1  \n4                                    0  \n..                                 ...  \n886                                  0  \n887                                  0  \n888                                  3  \n889                                  0  \n890                                  0  \n\n[891 rows x 48 columns]",
      "text/html": "<div>\n<style scoped>\n    .dataframe tbody tr th:only-of-type {\n        vertical-align: middle;\n    }\n\n    .dataframe tbody tr th {\n        vertical-align: top;\n    }\n\n    .dataframe thead th {\n        text-align: right;\n    }\n</style>\n<table border=\"1\" class=\"dataframe\">\n  <thead>\n    <tr style=\"text-align: right;\">\n      <th></th>\n      <th>num_pipe__remainder__Age</th>\n      <th>num_pipe__remainder__Fare</th>\n      <th>title_encode__title_create__title_Capt</th>\n      <th>title_encode__title_create__title_Col</th>\n      <th>title_encode__title_create__title_Countess</th>\n      <th>title_encode__title_create__title_Don</th>\n      <th>title_encode__title_create__title_Dr</th>\n      <th>title_encode__title_create__title_Jonkheer</th>\n      <th>title_encode__title_create__title_Lady</th>\n      <th>title_encode__title_create__title_Major</th>\n      <th>...</th>\n      <th>ticket_pipe__Ticket_Cat_11.0</th>\n      <th>ticket_pipe__Ticket_Cat_12.0</th>\n      <th>ticket_pipe__Ticket_Cat_nan</th>\n      <th>ticket_pipe__IsNumeric</th>\n      <th>emb_pipe__remainder__Embarked_C</th>\n      <th>emb_pipe__remainder__Embarked_Q</th>\n      <th>emb_pipe__remainder__Embarked_S</th>\n      <th>class_encode__remainder__Pclass</th>\n      <th>sex_pipe__remainder__Sex</th>\n      <th>remainder__fam_create__family_mems</th>\n    </tr>\n  </thead>\n  <tbody>\n    <tr>\n      <th>0</th>\n      <td>-0.565736</td>\n      <td>-0.502445</td>\n      <td>0.0</td>\n      <td>0.0</td>\n      <td>0.0</td>\n      <td>0.0</td>\n      <td>0.0</td>\n      <td>0.0</td>\n      <td>0.0</td>\n      <td>0.0</td>\n      <td>...</td>\n      <td>0.0</td>\n      <td>0.0</td>\n      <td>0.0</td>\n      <td>1.0</td>\n      <td>0.0</td>\n      <td>0.0</td>\n      <td>1.0</td>\n      <td>2.0</td>\n      <td>1.0</td>\n      <td>1</td>\n    </tr>\n    <tr>\n      <th>1</th>\n      <td>0.663861</td>\n      <td>0.786845</td>\n      <td>0.0</td>\n      <td>0.0</td>\n      <td>0.0</td>\n      <td>0.0</td>\n      <td>0.0</td>\n      <td>0.0</td>\n      <td>0.0</td>\n      <td>0.0</td>\n      <td>...</td>\n      <td>1.0</td>\n      <td>0.0</td>\n      <td>0.0</td>\n      <td>1.0</td>\n      <td>1.0</td>\n      <td>0.0</td>\n      <td>0.0</td>\n      <td>0.0</td>\n      <td>0.0</td>\n      <td>1</td>\n    </tr>\n    <tr>\n      <th>2</th>\n      <td>-0.258337</td>\n      <td>-0.488854</td>\n      <td>0.0</td>\n      <td>0.0</td>\n      <td>0.0</td>\n      <td>0.0</td>\n      <td>0.0</td>\n      <td>0.0</td>\n      <td>0.0</td>\n      <td>0.0</td>\n      <td>...</td>\n      <td>0.0</td>\n      <td>0.0</td>\n      <td>0.0</td>\n      <td>1.0</td>\n      <td>0.0</td>\n      <td>0.0</td>\n      <td>1.0</td>\n      <td>2.0</td>\n      <td>0.0</td>\n      <td>0</td>\n    </tr>\n    <tr>\n      <th>3</th>\n      <td>0.433312</td>\n      <td>0.42073</td>\n      <td>0.0</td>\n      <td>0.0</td>\n      <td>0.0</td>\n      <td>0.0</td>\n      <td>0.0</td>\n      <td>0.0</td>\n      <td>0.0</td>\n      <td>0.0</td>\n      <td>...</td>\n      <td>0.0</td>\n      <td>0.0</td>\n      <td>1.0</td>\n      <td>1.0</td>\n      <td>0.0</td>\n      <td>0.0</td>\n      <td>1.0</td>\n      <td>0.0</td>\n      <td>0.0</td>\n      <td>1</td>\n    </tr>\n    <tr>\n      <th>4</th>\n      <td>0.433312</td>\n      <td>-0.486337</td>\n      <td>0.0</td>\n      <td>0.0</td>\n      <td>0.0</td>\n      <td>0.0</td>\n      <td>0.0</td>\n      <td>0.0</td>\n      <td>0.0</td>\n      <td>0.0</td>\n      <td>...</td>\n      <td>0.0</td>\n      <td>0.0</td>\n      <td>1.0</td>\n      <td>1.0</td>\n      <td>0.0</td>\n      <td>0.0</td>\n      <td>1.0</td>\n      <td>2.0</td>\n      <td>1.0</td>\n      <td>0</td>\n    </tr>\n    <tr>\n      <th>...</th>\n      <td>...</td>\n      <td>...</td>\n      <td>...</td>\n      <td>...</td>\n      <td>...</td>\n      <td>...</td>\n      <td>...</td>\n      <td>...</td>\n      <td>...</td>\n      <td>...</td>\n      <td>...</td>\n      <td>...</td>\n      <td>...</td>\n      <td>...</td>\n      <td>...</td>\n      <td>...</td>\n      <td>...</td>\n      <td>...</td>\n      <td>...</td>\n      <td>...</td>\n      <td>...</td>\n    </tr>\n    <tr>\n      <th>886</th>\n      <td>-0.181487</td>\n      <td>-0.386671</td>\n      <td>0.0</td>\n      <td>0.0</td>\n      <td>0.0</td>\n      <td>0.0</td>\n      <td>0.0</td>\n      <td>0.0</td>\n      <td>0.0</td>\n      <td>0.0</td>\n      <td>...</td>\n      <td>0.0</td>\n      <td>0.0</td>\n      <td>1.0</td>\n      <td>1.0</td>\n      <td>0.0</td>\n      <td>0.0</td>\n      <td>1.0</td>\n      <td>1.0</td>\n      <td>1.0</td>\n      <td>0</td>\n    </tr>\n    <tr>\n      <th>887</th>\n      <td>-0.796286</td>\n      <td>-0.044381</td>\n      <td>0.0</td>\n      <td>0.0</td>\n      <td>0.0</td>\n      <td>0.0</td>\n      <td>0.0</td>\n      <td>0.0</td>\n      <td>0.0</td>\n      <td>0.0</td>\n      <td>...</td>\n      <td>0.0</td>\n      <td>0.0</td>\n      <td>1.0</td>\n      <td>1.0</td>\n      <td>0.0</td>\n      <td>0.0</td>\n      <td>1.0</td>\n      <td>0.0</td>\n      <td>0.0</td>\n      <td>0</td>\n    </tr>\n    <tr>\n      <th>888</th>\n      <td>-0.104637</td>\n      <td>-0.176263</td>\n      <td>0.0</td>\n      <td>0.0</td>\n      <td>0.0</td>\n      <td>0.0</td>\n      <td>0.0</td>\n      <td>0.0</td>\n      <td>0.0</td>\n      <td>0.0</td>\n      <td>...</td>\n      <td>0.0</td>\n      <td>0.0</td>\n      <td>0.0</td>\n      <td>1.0</td>\n      <td>0.0</td>\n      <td>0.0</td>\n      <td>1.0</td>\n      <td>2.0</td>\n      <td>0.0</td>\n      <td>3</td>\n    </tr>\n    <tr>\n      <th>889</th>\n      <td>-0.258337</td>\n      <td>-0.044381</td>\n      <td>0.0</td>\n      <td>0.0</td>\n      <td>0.0</td>\n      <td>0.0</td>\n      <td>0.0</td>\n      <td>0.0</td>\n      <td>0.0</td>\n      <td>0.0</td>\n      <td>...</td>\n      <td>0.0</td>\n      <td>0.0</td>\n      <td>1.0</td>\n      <td>1.0</td>\n      <td>1.0</td>\n      <td>0.0</td>\n      <td>0.0</td>\n      <td>0.0</td>\n      <td>1.0</td>\n      <td>0</td>\n    </tr>\n    <tr>\n      <th>890</th>\n      <td>0.202762</td>\n      <td>-0.492378</td>\n      <td>0.0</td>\n      <td>0.0</td>\n      <td>0.0</td>\n      <td>0.0</td>\n      <td>0.0</td>\n      <td>0.0</td>\n      <td>0.0</td>\n      <td>0.0</td>\n      <td>...</td>\n      <td>0.0</td>\n      <td>0.0</td>\n      <td>1.0</td>\n      <td>1.0</td>\n      <td>0.0</td>\n      <td>1.0</td>\n      <td>0.0</td>\n      <td>2.0</td>\n      <td>1.0</td>\n      <td>0</td>\n    </tr>\n  </tbody>\n</table>\n<p>891 rows × 48 columns</p>\n</div>"
     },
     "execution_count": 79,
     "metadata": {},
     "output_type": "execute_result"
    }
   ],
   "source": [
    "final_df = pd.DataFrame(X_train_prep, columns=list(full_pipeline.get_feature_names_out()))\n",
    "final_df"
   ],
   "metadata": {
    "collapsed": false,
    "ExecuteTime": {
     "end_time": "2023-10-01T00:58:19.990940700Z",
     "start_time": "2023-10-01T00:58:19.954789200Z"
    }
   }
  },
  {
   "cell_type": "code",
   "execution_count": 80,
   "outputs": [],
   "source": [
    "final_df.to_csv('data/final_df.csv')"
   ],
   "metadata": {
    "collapsed": false,
    "ExecuteTime": {
     "end_time": "2023-10-01T00:58:44.338495900Z",
     "start_time": "2023-10-01T00:58:44.309779Z"
    }
   }
  },
  {
   "cell_type": "markdown",
   "source": [
    "I am renaming the ``X_train_prep`` to `X_train`, this should not be confused with X_train above, we are no longer going to use that."
   ],
   "metadata": {
    "collapsed": false
   }
  },
  {
   "cell_type": "code",
   "execution_count": 81,
   "outputs": [],
   "source": [
    "# Prepared Dataframe\n",
    "cols = final_df.columns\n",
    "\n",
    "# Arrays for modelling phase\n",
    "X_train = X_train_prep\n",
    "# y_train"
   ],
   "metadata": {
    "collapsed": false,
    "ExecuteTime": {
     "end_time": "2023-10-01T00:58:51.945274800Z",
     "start_time": "2023-10-01T00:58:51.917494Z"
    }
   }
  },
  {
   "cell_type": "markdown",
   "source": [
    "#### Training"
   ],
   "metadata": {
    "collapsed": false
   }
  },
  {
   "cell_type": "code",
   "execution_count": 83,
   "outputs": [],
   "source": [
    "sgd_clf = linear_model.SGDClassifier()\n",
    "knn_clf = neighbors.KNeighborsClassifier()\n",
    "dt_clf = tree.DecisionTreeClassifier()\n",
    "svm_clf = svm.SVC()\n",
    "\n",
    "scores = []\n",
    "for model in [sgd_clf, knn_clf, dt_clf, svm_clf]:\n",
    "    scores.append(model_selection.cross_validate(model, X_train, y_train, cv=3, scoring='accuracy'))"
   ],
   "metadata": {
    "collapsed": false,
    "ExecuteTime": {
     "end_time": "2023-10-01T00:59:44.623754300Z",
     "start_time": "2023-10-01T00:59:43.721490400Z"
    }
   }
  },
  {
   "cell_type": "code",
   "execution_count": 84,
   "outputs": [
    {
     "data": {
      "text/plain": "[0.7811447811447811,\n 0.8114478114478114,\n 0.7631874298540966,\n 0.8338945005611672]"
     },
     "execution_count": 84,
     "metadata": {},
     "output_type": "execute_result"
    }
   ],
   "source": [
    "[scores[i]['test_score'].mean() for i in range(4)]"
   ],
   "metadata": {
    "collapsed": false,
    "ExecuteTime": {
     "end_time": "2023-10-01T00:59:45.701481500Z",
     "start_time": "2023-10-01T00:59:45.685858100Z"
    }
   }
  },
  {
   "cell_type": "markdown",
   "source": [
    "Clearly, SVC and KNN show the best initial fit results. Let's explore some hyperparameter settings to see if this can be improved."
   ],
   "metadata": {
    "collapsed": false
   }
  },
  {
   "cell_type": "code",
   "execution_count": 652,
   "outputs": [
    {
     "data": {
      "text/plain": "GridSearchCV(cv=3, estimator=SVC(), n_jobs=-1,\n             param_grid=[{'C': [0.1, 1, 10, 100], 'gamma': ['auto', 'scale'],\n                          'kernel': ['rbf', 'sigmoid']},\n                         {'C': [0.1, 1, 10, 100], 'degree': [2, 3, 4, 5],\n                          'gamma': ['auto', 'scale'], 'kernel': ['poly']}],\n             scoring='accuracy')",
      "text/html": "<style>#sk-container-id-2 {color: black;}#sk-container-id-2 pre{padding: 0;}#sk-container-id-2 div.sk-toggleable {background-color: white;}#sk-container-id-2 label.sk-toggleable__label {cursor: pointer;display: block;width: 100%;margin-bottom: 0;padding: 0.3em;box-sizing: border-box;text-align: center;}#sk-container-id-2 label.sk-toggleable__label-arrow:before {content: \"▸\";float: left;margin-right: 0.25em;color: #696969;}#sk-container-id-2 label.sk-toggleable__label-arrow:hover:before {color: black;}#sk-container-id-2 div.sk-estimator:hover label.sk-toggleable__label-arrow:before {color: black;}#sk-container-id-2 div.sk-toggleable__content {max-height: 0;max-width: 0;overflow: hidden;text-align: left;background-color: #f0f8ff;}#sk-container-id-2 div.sk-toggleable__content pre {margin: 0.2em;color: black;border-radius: 0.25em;background-color: #f0f8ff;}#sk-container-id-2 input.sk-toggleable__control:checked~div.sk-toggleable__content {max-height: 200px;max-width: 100%;overflow: auto;}#sk-container-id-2 input.sk-toggleable__control:checked~label.sk-toggleable__label-arrow:before {content: \"▾\";}#sk-container-id-2 div.sk-estimator input.sk-toggleable__control:checked~label.sk-toggleable__label {background-color: #d4ebff;}#sk-container-id-2 div.sk-label input.sk-toggleable__control:checked~label.sk-toggleable__label {background-color: #d4ebff;}#sk-container-id-2 input.sk-hidden--visually {border: 0;clip: rect(1px 1px 1px 1px);clip: rect(1px, 1px, 1px, 1px);height: 1px;margin: -1px;overflow: hidden;padding: 0;position: absolute;width: 1px;}#sk-container-id-2 div.sk-estimator {font-family: monospace;background-color: #f0f8ff;border: 1px dotted black;border-radius: 0.25em;box-sizing: border-box;margin-bottom: 0.5em;}#sk-container-id-2 div.sk-estimator:hover {background-color: #d4ebff;}#sk-container-id-2 div.sk-parallel-item::after {content: \"\";width: 100%;border-bottom: 1px solid gray;flex-grow: 1;}#sk-container-id-2 div.sk-label:hover label.sk-toggleable__label {background-color: #d4ebff;}#sk-container-id-2 div.sk-serial::before {content: \"\";position: absolute;border-left: 1px solid gray;box-sizing: border-box;top: 0;bottom: 0;left: 50%;z-index: 0;}#sk-container-id-2 div.sk-serial {display: flex;flex-direction: column;align-items: center;background-color: white;padding-right: 0.2em;padding-left: 0.2em;position: relative;}#sk-container-id-2 div.sk-item {position: relative;z-index: 1;}#sk-container-id-2 div.sk-parallel {display: flex;align-items: stretch;justify-content: center;background-color: white;position: relative;}#sk-container-id-2 div.sk-item::before, #sk-container-id-2 div.sk-parallel-item::before {content: \"\";position: absolute;border-left: 1px solid gray;box-sizing: border-box;top: 0;bottom: 0;left: 50%;z-index: -1;}#sk-container-id-2 div.sk-parallel-item {display: flex;flex-direction: column;z-index: 1;position: relative;background-color: white;}#sk-container-id-2 div.sk-parallel-item:first-child::after {align-self: flex-end;width: 50%;}#sk-container-id-2 div.sk-parallel-item:last-child::after {align-self: flex-start;width: 50%;}#sk-container-id-2 div.sk-parallel-item:only-child::after {width: 0;}#sk-container-id-2 div.sk-dashed-wrapped {border: 1px dashed gray;margin: 0 0.4em 0.5em 0.4em;box-sizing: border-box;padding-bottom: 0.4em;background-color: white;}#sk-container-id-2 div.sk-label label {font-family: monospace;font-weight: bold;display: inline-block;line-height: 1.2em;}#sk-container-id-2 div.sk-label-container {text-align: center;}#sk-container-id-2 div.sk-container {/* jupyter's `normalize.less` sets `[hidden] { display: none; }` but bootstrap.min.css set `[hidden] { display: none !important; }` so we also need the `!important` here to be able to override the default hidden behavior on the sphinx rendered scikit-learn.org. See: https://github.com/scikit-learn/scikit-learn/issues/21755 */display: inline-block !important;position: relative;}#sk-container-id-2 div.sk-text-repr-fallback {display: none;}</style><div id=\"sk-container-id-2\" class=\"sk-top-container\"><div class=\"sk-text-repr-fallback\"><pre>GridSearchCV(cv=3, estimator=SVC(), n_jobs=-1,\n             param_grid=[{&#x27;C&#x27;: [0.1, 1, 10, 100], &#x27;gamma&#x27;: [&#x27;auto&#x27;, &#x27;scale&#x27;],\n                          &#x27;kernel&#x27;: [&#x27;rbf&#x27;, &#x27;sigmoid&#x27;]},\n                         {&#x27;C&#x27;: [0.1, 1, 10, 100], &#x27;degree&#x27;: [2, 3, 4, 5],\n                          &#x27;gamma&#x27;: [&#x27;auto&#x27;, &#x27;scale&#x27;], &#x27;kernel&#x27;: [&#x27;poly&#x27;]}],\n             scoring=&#x27;accuracy&#x27;)</pre><b>In a Jupyter environment, please rerun this cell to show the HTML representation or trust the notebook. <br />On GitHub, the HTML representation is unable to render, please try loading this page with nbviewer.org.</b></div><div class=\"sk-container\" hidden><div class=\"sk-item sk-dashed-wrapped\"><div class=\"sk-label-container\"><div class=\"sk-label sk-toggleable\"><input class=\"sk-toggleable__control sk-hidden--visually\" id=\"sk-estimator-id-8\" type=\"checkbox\" ><label for=\"sk-estimator-id-8\" class=\"sk-toggleable__label sk-toggleable__label-arrow\">GridSearchCV</label><div class=\"sk-toggleable__content\"><pre>GridSearchCV(cv=3, estimator=SVC(), n_jobs=-1,\n             param_grid=[{&#x27;C&#x27;: [0.1, 1, 10, 100], &#x27;gamma&#x27;: [&#x27;auto&#x27;, &#x27;scale&#x27;],\n                          &#x27;kernel&#x27;: [&#x27;rbf&#x27;, &#x27;sigmoid&#x27;]},\n                         {&#x27;C&#x27;: [0.1, 1, 10, 100], &#x27;degree&#x27;: [2, 3, 4, 5],\n                          &#x27;gamma&#x27;: [&#x27;auto&#x27;, &#x27;scale&#x27;], &#x27;kernel&#x27;: [&#x27;poly&#x27;]}],\n             scoring=&#x27;accuracy&#x27;)</pre></div></div></div><div class=\"sk-parallel\"><div class=\"sk-parallel-item\"><div class=\"sk-item\"><div class=\"sk-label-container\"><div class=\"sk-label sk-toggleable\"><input class=\"sk-toggleable__control sk-hidden--visually\" id=\"sk-estimator-id-9\" type=\"checkbox\" ><label for=\"sk-estimator-id-9\" class=\"sk-toggleable__label sk-toggleable__label-arrow\">estimator: SVC</label><div class=\"sk-toggleable__content\"><pre>SVC()</pre></div></div></div><div class=\"sk-serial\"><div class=\"sk-item\"><div class=\"sk-estimator sk-toggleable\"><input class=\"sk-toggleable__control sk-hidden--visually\" id=\"sk-estimator-id-10\" type=\"checkbox\" ><label for=\"sk-estimator-id-10\" class=\"sk-toggleable__label sk-toggleable__label-arrow\">SVC</label><div class=\"sk-toggleable__content\"><pre>SVC()</pre></div></div></div></div></div></div></div></div></div></div>"
     },
     "execution_count": 652,
     "metadata": {},
     "output_type": "execute_result"
    }
   ],
   "source": [
    "params_grid = [{'C':[0.1, 1, 10, 100], 'kernel':['rbf', 'sigmoid'], 'gamma':['auto', 'scale']}, {'C':[0.1, 1, 10, 100], 'kernel':['poly'], 'gamma':['auto', 'scale'], 'degree':[2,3,4,5]}]\n",
    "grid = model_selection.GridSearchCV(svm_clf, params_grid, cv=3, scoring='accuracy', n_jobs=-1)\n",
    "\n",
    "grid.fit(X_train, y_train)"
   ],
   "metadata": {
    "collapsed": false,
    "ExecuteTime": {
     "end_time": "2023-09-23T05:38:28.751043500Z",
     "start_time": "2023-09-23T05:38:22.364928500Z"
    }
   }
  },
  {
   "cell_type": "code",
   "execution_count": 653,
   "outputs": [
    {
     "data": {
      "text/plain": "      scores                                             params\n6   0.833895        {'C': 1, 'gamma': 'scale', 'kernel': 'rbf'}\n35  0.830527  {'C': 10, 'degree': 3, 'gamma': 'scale', 'kern...\n10  0.829405       {'C': 10, 'gamma': 'scale', 'kernel': 'rbf'}\n8   0.829405        {'C': 10, 'gamma': 'auto', 'kernel': 'rbf'}\n42  0.828283  {'C': 100, 'degree': 3, 'gamma': 'auto', 'kern...\n33  0.828283  {'C': 10, 'degree': 2, 'gamma': 'scale', 'kern...\n12  0.827160       {'C': 100, 'gamma': 'auto', 'kernel': 'rbf'}\n32  0.827160  {'C': 10, 'degree': 2, 'gamma': 'auto', 'kerne...\n37  0.826038  {'C': 10, 'degree': 4, 'gamma': 'scale', 'kern...\n25  0.826038  {'C': 1, 'degree': 2, 'gamma': 'scale', 'kerne...\n40  0.824916  {'C': 100, 'degree': 2, 'gamma': 'auto', 'kern...\n4   0.823793         {'C': 1, 'gamma': 'auto', 'kernel': 'rbf'}\n43  0.821549  {'C': 100, 'degree': 3, 'gamma': 'scale', 'ker...\n2   0.820426      {'C': 0.1, 'gamma': 'scale', 'kernel': 'rbf'}\n14  0.820426      {'C': 100, 'gamma': 'scale', 'kernel': 'rbf'}\n39  0.815937  {'C': 10, 'degree': 5, 'gamma': 'scale', 'kern...\n45  0.814815  {'C': 100, 'degree': 4, 'gamma': 'scale', 'ker...\n41  0.812570  {'C': 100, 'degree': 2, 'gamma': 'scale', 'ker...\n27  0.811448  {'C': 1, 'degree': 3, 'gamma': 'scale', 'kerne...\n17  0.808081  {'C': 0.1, 'degree': 2, 'gamma': 'scale', 'ker...\n44  0.808081  {'C': 100, 'degree': 4, 'gamma': 'auto', 'kern...\n29  0.806958  {'C': 1, 'degree': 4, 'gamma': 'scale', 'kerne...\n47  0.806958  {'C': 100, 'degree': 5, 'gamma': 'scale', 'ker...\n24  0.805836  {'C': 1, 'degree': 2, 'gamma': 'auto', 'kernel...\n34  0.801347  {'C': 10, 'degree': 3, 'gamma': 'auto', 'kerne...\n19  0.799102  {'C': 0.1, 'degree': 3, 'gamma': 'scale', 'ker...\n31  0.796857  {'C': 1, 'degree': 5, 'gamma': 'scale', 'kerne...\n36  0.768799  {'C': 10, 'degree': 4, 'gamma': 'auto', 'kerne...\n21  0.767677  {'C': 0.1, 'degree': 4, 'gamma': 'scale', 'ker...\n46  0.764310  {'C': 100, 'degree': 5, 'gamma': 'auto', 'kern...\n0   0.763187       {'C': 0.1, 'gamma': 'auto', 'kernel': 'rbf'}\n23  0.756453  {'C': 0.1, 'degree': 5, 'gamma': 'scale', 'ker...\n5   0.747475     {'C': 1, 'gamma': 'auto', 'kernel': 'sigmoid'}\n3   0.727273  {'C': 0.1, 'gamma': 'scale', 'kernel': 'sigmoid'}\n15  0.717172  {'C': 100, 'gamma': 'scale', 'kernel': 'sigmoid'}\n26  0.707071  {'C': 1, 'degree': 3, 'gamma': 'auto', 'kernel...\n13  0.707071   {'C': 100, 'gamma': 'auto', 'kernel': 'sigmoid'}\n11  0.686869   {'C': 10, 'gamma': 'scale', 'kernel': 'sigmoid'}\n38  0.671156  {'C': 10, 'degree': 5, 'gamma': 'auto', 'kerne...\n9   0.670034    {'C': 10, 'gamma': 'auto', 'kernel': 'sigmoid'}\n7   0.658810    {'C': 1, 'gamma': 'scale', 'kernel': 'sigmoid'}\n1   0.640853   {'C': 0.1, 'gamma': 'auto', 'kernel': 'sigmoid'}\n28  0.618406  {'C': 1, 'degree': 4, 'gamma': 'auto', 'kernel...\n30  0.618406  {'C': 1, 'degree': 5, 'gamma': 'auto', 'kernel...\n20  0.616162  {'C': 0.1, 'degree': 4, 'gamma': 'auto', 'kern...\n16  0.616162  {'C': 0.1, 'degree': 2, 'gamma': 'auto', 'kern...\n18  0.616162  {'C': 0.1, 'degree': 3, 'gamma': 'auto', 'kern...\n22  0.616162  {'C': 0.1, 'degree': 5, 'gamma': 'auto', 'kern...",
      "text/html": "<div>\n<style scoped>\n    .dataframe tbody tr th:only-of-type {\n        vertical-align: middle;\n    }\n\n    .dataframe tbody tr th {\n        vertical-align: top;\n    }\n\n    .dataframe thead th {\n        text-align: right;\n    }\n</style>\n<table border=\"1\" class=\"dataframe\">\n  <thead>\n    <tr style=\"text-align: right;\">\n      <th></th>\n      <th>scores</th>\n      <th>params</th>\n    </tr>\n  </thead>\n  <tbody>\n    <tr>\n      <th>6</th>\n      <td>0.833895</td>\n      <td>{'C': 1, 'gamma': 'scale', 'kernel': 'rbf'}</td>\n    </tr>\n    <tr>\n      <th>35</th>\n      <td>0.830527</td>\n      <td>{'C': 10, 'degree': 3, 'gamma': 'scale', 'kern...</td>\n    </tr>\n    <tr>\n      <th>10</th>\n      <td>0.829405</td>\n      <td>{'C': 10, 'gamma': 'scale', 'kernel': 'rbf'}</td>\n    </tr>\n    <tr>\n      <th>8</th>\n      <td>0.829405</td>\n      <td>{'C': 10, 'gamma': 'auto', 'kernel': 'rbf'}</td>\n    </tr>\n    <tr>\n      <th>42</th>\n      <td>0.828283</td>\n      <td>{'C': 100, 'degree': 3, 'gamma': 'auto', 'kern...</td>\n    </tr>\n    <tr>\n      <th>33</th>\n      <td>0.828283</td>\n      <td>{'C': 10, 'degree': 2, 'gamma': 'scale', 'kern...</td>\n    </tr>\n    <tr>\n      <th>12</th>\n      <td>0.827160</td>\n      <td>{'C': 100, 'gamma': 'auto', 'kernel': 'rbf'}</td>\n    </tr>\n    <tr>\n      <th>32</th>\n      <td>0.827160</td>\n      <td>{'C': 10, 'degree': 2, 'gamma': 'auto', 'kerne...</td>\n    </tr>\n    <tr>\n      <th>37</th>\n      <td>0.826038</td>\n      <td>{'C': 10, 'degree': 4, 'gamma': 'scale', 'kern...</td>\n    </tr>\n    <tr>\n      <th>25</th>\n      <td>0.826038</td>\n      <td>{'C': 1, 'degree': 2, 'gamma': 'scale', 'kerne...</td>\n    </tr>\n    <tr>\n      <th>40</th>\n      <td>0.824916</td>\n      <td>{'C': 100, 'degree': 2, 'gamma': 'auto', 'kern...</td>\n    </tr>\n    <tr>\n      <th>4</th>\n      <td>0.823793</td>\n      <td>{'C': 1, 'gamma': 'auto', 'kernel': 'rbf'}</td>\n    </tr>\n    <tr>\n      <th>43</th>\n      <td>0.821549</td>\n      <td>{'C': 100, 'degree': 3, 'gamma': 'scale', 'ker...</td>\n    </tr>\n    <tr>\n      <th>2</th>\n      <td>0.820426</td>\n      <td>{'C': 0.1, 'gamma': 'scale', 'kernel': 'rbf'}</td>\n    </tr>\n    <tr>\n      <th>14</th>\n      <td>0.820426</td>\n      <td>{'C': 100, 'gamma': 'scale', 'kernel': 'rbf'}</td>\n    </tr>\n    <tr>\n      <th>39</th>\n      <td>0.815937</td>\n      <td>{'C': 10, 'degree': 5, 'gamma': 'scale', 'kern...</td>\n    </tr>\n    <tr>\n      <th>45</th>\n      <td>0.814815</td>\n      <td>{'C': 100, 'degree': 4, 'gamma': 'scale', 'ker...</td>\n    </tr>\n    <tr>\n      <th>41</th>\n      <td>0.812570</td>\n      <td>{'C': 100, 'degree': 2, 'gamma': 'scale', 'ker...</td>\n    </tr>\n    <tr>\n      <th>27</th>\n      <td>0.811448</td>\n      <td>{'C': 1, 'degree': 3, 'gamma': 'scale', 'kerne...</td>\n    </tr>\n    <tr>\n      <th>17</th>\n      <td>0.808081</td>\n      <td>{'C': 0.1, 'degree': 2, 'gamma': 'scale', 'ker...</td>\n    </tr>\n    <tr>\n      <th>44</th>\n      <td>0.808081</td>\n      <td>{'C': 100, 'degree': 4, 'gamma': 'auto', 'kern...</td>\n    </tr>\n    <tr>\n      <th>29</th>\n      <td>0.806958</td>\n      <td>{'C': 1, 'degree': 4, 'gamma': 'scale', 'kerne...</td>\n    </tr>\n    <tr>\n      <th>47</th>\n      <td>0.806958</td>\n      <td>{'C': 100, 'degree': 5, 'gamma': 'scale', 'ker...</td>\n    </tr>\n    <tr>\n      <th>24</th>\n      <td>0.805836</td>\n      <td>{'C': 1, 'degree': 2, 'gamma': 'auto', 'kernel...</td>\n    </tr>\n    <tr>\n      <th>34</th>\n      <td>0.801347</td>\n      <td>{'C': 10, 'degree': 3, 'gamma': 'auto', 'kerne...</td>\n    </tr>\n    <tr>\n      <th>19</th>\n      <td>0.799102</td>\n      <td>{'C': 0.1, 'degree': 3, 'gamma': 'scale', 'ker...</td>\n    </tr>\n    <tr>\n      <th>31</th>\n      <td>0.796857</td>\n      <td>{'C': 1, 'degree': 5, 'gamma': 'scale', 'kerne...</td>\n    </tr>\n    <tr>\n      <th>36</th>\n      <td>0.768799</td>\n      <td>{'C': 10, 'degree': 4, 'gamma': 'auto', 'kerne...</td>\n    </tr>\n    <tr>\n      <th>21</th>\n      <td>0.767677</td>\n      <td>{'C': 0.1, 'degree': 4, 'gamma': 'scale', 'ker...</td>\n    </tr>\n    <tr>\n      <th>46</th>\n      <td>0.764310</td>\n      <td>{'C': 100, 'degree': 5, 'gamma': 'auto', 'kern...</td>\n    </tr>\n    <tr>\n      <th>0</th>\n      <td>0.763187</td>\n      <td>{'C': 0.1, 'gamma': 'auto', 'kernel': 'rbf'}</td>\n    </tr>\n    <tr>\n      <th>23</th>\n      <td>0.756453</td>\n      <td>{'C': 0.1, 'degree': 5, 'gamma': 'scale', 'ker...</td>\n    </tr>\n    <tr>\n      <th>5</th>\n      <td>0.747475</td>\n      <td>{'C': 1, 'gamma': 'auto', 'kernel': 'sigmoid'}</td>\n    </tr>\n    <tr>\n      <th>3</th>\n      <td>0.727273</td>\n      <td>{'C': 0.1, 'gamma': 'scale', 'kernel': 'sigmoid'}</td>\n    </tr>\n    <tr>\n      <th>15</th>\n      <td>0.717172</td>\n      <td>{'C': 100, 'gamma': 'scale', 'kernel': 'sigmoid'}</td>\n    </tr>\n    <tr>\n      <th>26</th>\n      <td>0.707071</td>\n      <td>{'C': 1, 'degree': 3, 'gamma': 'auto', 'kernel...</td>\n    </tr>\n    <tr>\n      <th>13</th>\n      <td>0.707071</td>\n      <td>{'C': 100, 'gamma': 'auto', 'kernel': 'sigmoid'}</td>\n    </tr>\n    <tr>\n      <th>11</th>\n      <td>0.686869</td>\n      <td>{'C': 10, 'gamma': 'scale', 'kernel': 'sigmoid'}</td>\n    </tr>\n    <tr>\n      <th>38</th>\n      <td>0.671156</td>\n      <td>{'C': 10, 'degree': 5, 'gamma': 'auto', 'kerne...</td>\n    </tr>\n    <tr>\n      <th>9</th>\n      <td>0.670034</td>\n      <td>{'C': 10, 'gamma': 'auto', 'kernel': 'sigmoid'}</td>\n    </tr>\n    <tr>\n      <th>7</th>\n      <td>0.658810</td>\n      <td>{'C': 1, 'gamma': 'scale', 'kernel': 'sigmoid'}</td>\n    </tr>\n    <tr>\n      <th>1</th>\n      <td>0.640853</td>\n      <td>{'C': 0.1, 'gamma': 'auto', 'kernel': 'sigmoid'}</td>\n    </tr>\n    <tr>\n      <th>28</th>\n      <td>0.618406</td>\n      <td>{'C': 1, 'degree': 4, 'gamma': 'auto', 'kernel...</td>\n    </tr>\n    <tr>\n      <th>30</th>\n      <td>0.618406</td>\n      <td>{'C': 1, 'degree': 5, 'gamma': 'auto', 'kernel...</td>\n    </tr>\n    <tr>\n      <th>20</th>\n      <td>0.616162</td>\n      <td>{'C': 0.1, 'degree': 4, 'gamma': 'auto', 'kern...</td>\n    </tr>\n    <tr>\n      <th>16</th>\n      <td>0.616162</td>\n      <td>{'C': 0.1, 'degree': 2, 'gamma': 'auto', 'kern...</td>\n    </tr>\n    <tr>\n      <th>18</th>\n      <td>0.616162</td>\n      <td>{'C': 0.1, 'degree': 3, 'gamma': 'auto', 'kern...</td>\n    </tr>\n    <tr>\n      <th>22</th>\n      <td>0.616162</td>\n      <td>{'C': 0.1, 'degree': 5, 'gamma': 'auto', 'kern...</td>\n    </tr>\n  </tbody>\n</table>\n</div>"
     },
     "execution_count": 653,
     "metadata": {},
     "output_type": "execute_result"
    }
   ],
   "source": [
    "pd.DataFrame({'scores':grid.cv_results_['mean_test_score'], 'params':grid.cv_results_['params']}).sort_values(by='scores', ascending=False)"
   ],
   "metadata": {
    "collapsed": false,
    "ExecuteTime": {
     "end_time": "2023-09-23T05:38:32.871057500Z",
     "start_time": "2023-09-23T05:38:32.784264600Z"
    }
   }
  },
  {
   "cell_type": "code",
   "execution_count": 664,
   "outputs": [
    {
     "data": {
      "text/plain": "GridSearchCV(cv=3, estimator=SVC(), n_jobs=-1,\n             param_grid=[{'C': [11, 13, 15], 'gamma': ['auto', 'scale'],\n                          'kernel': ['rbf']},\n                         {'C': [50, 100, 15], 'degree': [2, 3, 4],\n                          'kernel': ['poly']}],\n             scoring='accuracy')",
      "text/html": "<style>#sk-container-id-8 {color: black;}#sk-container-id-8 pre{padding: 0;}#sk-container-id-8 div.sk-toggleable {background-color: white;}#sk-container-id-8 label.sk-toggleable__label {cursor: pointer;display: block;width: 100%;margin-bottom: 0;padding: 0.3em;box-sizing: border-box;text-align: center;}#sk-container-id-8 label.sk-toggleable__label-arrow:before {content: \"▸\";float: left;margin-right: 0.25em;color: #696969;}#sk-container-id-8 label.sk-toggleable__label-arrow:hover:before {color: black;}#sk-container-id-8 div.sk-estimator:hover label.sk-toggleable__label-arrow:before {color: black;}#sk-container-id-8 div.sk-toggleable__content {max-height: 0;max-width: 0;overflow: hidden;text-align: left;background-color: #f0f8ff;}#sk-container-id-8 div.sk-toggleable__content pre {margin: 0.2em;color: black;border-radius: 0.25em;background-color: #f0f8ff;}#sk-container-id-8 input.sk-toggleable__control:checked~div.sk-toggleable__content {max-height: 200px;max-width: 100%;overflow: auto;}#sk-container-id-8 input.sk-toggleable__control:checked~label.sk-toggleable__label-arrow:before {content: \"▾\";}#sk-container-id-8 div.sk-estimator input.sk-toggleable__control:checked~label.sk-toggleable__label {background-color: #d4ebff;}#sk-container-id-8 div.sk-label input.sk-toggleable__control:checked~label.sk-toggleable__label {background-color: #d4ebff;}#sk-container-id-8 input.sk-hidden--visually {border: 0;clip: rect(1px 1px 1px 1px);clip: rect(1px, 1px, 1px, 1px);height: 1px;margin: -1px;overflow: hidden;padding: 0;position: absolute;width: 1px;}#sk-container-id-8 div.sk-estimator {font-family: monospace;background-color: #f0f8ff;border: 1px dotted black;border-radius: 0.25em;box-sizing: border-box;margin-bottom: 0.5em;}#sk-container-id-8 div.sk-estimator:hover {background-color: #d4ebff;}#sk-container-id-8 div.sk-parallel-item::after {content: \"\";width: 100%;border-bottom: 1px solid gray;flex-grow: 1;}#sk-container-id-8 div.sk-label:hover label.sk-toggleable__label {background-color: #d4ebff;}#sk-container-id-8 div.sk-serial::before {content: \"\";position: absolute;border-left: 1px solid gray;box-sizing: border-box;top: 0;bottom: 0;left: 50%;z-index: 0;}#sk-container-id-8 div.sk-serial {display: flex;flex-direction: column;align-items: center;background-color: white;padding-right: 0.2em;padding-left: 0.2em;position: relative;}#sk-container-id-8 div.sk-item {position: relative;z-index: 1;}#sk-container-id-8 div.sk-parallel {display: flex;align-items: stretch;justify-content: center;background-color: white;position: relative;}#sk-container-id-8 div.sk-item::before, #sk-container-id-8 div.sk-parallel-item::before {content: \"\";position: absolute;border-left: 1px solid gray;box-sizing: border-box;top: 0;bottom: 0;left: 50%;z-index: -1;}#sk-container-id-8 div.sk-parallel-item {display: flex;flex-direction: column;z-index: 1;position: relative;background-color: white;}#sk-container-id-8 div.sk-parallel-item:first-child::after {align-self: flex-end;width: 50%;}#sk-container-id-8 div.sk-parallel-item:last-child::after {align-self: flex-start;width: 50%;}#sk-container-id-8 div.sk-parallel-item:only-child::after {width: 0;}#sk-container-id-8 div.sk-dashed-wrapped {border: 1px dashed gray;margin: 0 0.4em 0.5em 0.4em;box-sizing: border-box;padding-bottom: 0.4em;background-color: white;}#sk-container-id-8 div.sk-label label {font-family: monospace;font-weight: bold;display: inline-block;line-height: 1.2em;}#sk-container-id-8 div.sk-label-container {text-align: center;}#sk-container-id-8 div.sk-container {/* jupyter's `normalize.less` sets `[hidden] { display: none; }` but bootstrap.min.css set `[hidden] { display: none !important; }` so we also need the `!important` here to be able to override the default hidden behavior on the sphinx rendered scikit-learn.org. See: https://github.com/scikit-learn/scikit-learn/issues/21755 */display: inline-block !important;position: relative;}#sk-container-id-8 div.sk-text-repr-fallback {display: none;}</style><div id=\"sk-container-id-8\" class=\"sk-top-container\"><div class=\"sk-text-repr-fallback\"><pre>GridSearchCV(cv=3, estimator=SVC(), n_jobs=-1,\n             param_grid=[{&#x27;C&#x27;: [11, 13, 15], &#x27;gamma&#x27;: [&#x27;auto&#x27;, &#x27;scale&#x27;],\n                          &#x27;kernel&#x27;: [&#x27;rbf&#x27;]},\n                         {&#x27;C&#x27;: [50, 100, 15], &#x27;degree&#x27;: [2, 3, 4],\n                          &#x27;kernel&#x27;: [&#x27;poly&#x27;]}],\n             scoring=&#x27;accuracy&#x27;)</pre><b>In a Jupyter environment, please rerun this cell to show the HTML representation or trust the notebook. <br />On GitHub, the HTML representation is unable to render, please try loading this page with nbviewer.org.</b></div><div class=\"sk-container\" hidden><div class=\"sk-item sk-dashed-wrapped\"><div class=\"sk-label-container\"><div class=\"sk-label sk-toggleable\"><input class=\"sk-toggleable__control sk-hidden--visually\" id=\"sk-estimator-id-26\" type=\"checkbox\" ><label for=\"sk-estimator-id-26\" class=\"sk-toggleable__label sk-toggleable__label-arrow\">GridSearchCV</label><div class=\"sk-toggleable__content\"><pre>GridSearchCV(cv=3, estimator=SVC(), n_jobs=-1,\n             param_grid=[{&#x27;C&#x27;: [11, 13, 15], &#x27;gamma&#x27;: [&#x27;auto&#x27;, &#x27;scale&#x27;],\n                          &#x27;kernel&#x27;: [&#x27;rbf&#x27;]},\n                         {&#x27;C&#x27;: [50, 100, 15], &#x27;degree&#x27;: [2, 3, 4],\n                          &#x27;kernel&#x27;: [&#x27;poly&#x27;]}],\n             scoring=&#x27;accuracy&#x27;)</pre></div></div></div><div class=\"sk-parallel\"><div class=\"sk-parallel-item\"><div class=\"sk-item\"><div class=\"sk-label-container\"><div class=\"sk-label sk-toggleable\"><input class=\"sk-toggleable__control sk-hidden--visually\" id=\"sk-estimator-id-27\" type=\"checkbox\" ><label for=\"sk-estimator-id-27\" class=\"sk-toggleable__label sk-toggleable__label-arrow\">estimator: SVC</label><div class=\"sk-toggleable__content\"><pre>SVC()</pre></div></div></div><div class=\"sk-serial\"><div class=\"sk-item\"><div class=\"sk-estimator sk-toggleable\"><input class=\"sk-toggleable__control sk-hidden--visually\" id=\"sk-estimator-id-28\" type=\"checkbox\" ><label for=\"sk-estimator-id-28\" class=\"sk-toggleable__label sk-toggleable__label-arrow\">SVC</label><div class=\"sk-toggleable__content\"><pre>SVC()</pre></div></div></div></div></div></div></div></div></div></div>"
     },
     "execution_count": 664,
     "metadata": {},
     "output_type": "execute_result"
    }
   ],
   "source": [
    "params_grid2 = [{'C':[11, 13, 15], 'kernel':['rbf'], 'gamma':['auto', 'scale']},\n",
    "                {'C':[50, 100, 15], 'kernel':['poly'], 'degree':[2,3,4]}]\n",
    "grid2 = model_selection.GridSearchCV(svm_clf, params_grid2, cv=3, scoring='accuracy', n_jobs=-1)\n",
    "\n",
    "grid2.fit(X_train, y_train)"
   ],
   "metadata": {
    "collapsed": false,
    "ExecuteTime": {
     "end_time": "2023-09-23T05:46:17.375871900Z",
     "start_time": "2023-09-23T05:46:16.071621500Z"
    }
   }
  },
  {
   "cell_type": "code",
   "execution_count": 758,
   "outputs": [
    {
     "name": "stdout",
     "output_type": "stream",
     "text": [
      "Best Score: 0.8327721661054994\n",
      "Best Parameters: {'C': 15, 'degree': 3, 'kernel': 'poly'}\n"
     ]
    }
   ],
   "source": [
    "print(f'Best Score: {grid2.best_score_}\\nBest Parameters: {grid2.best_params_}')"
   ],
   "metadata": {
    "collapsed": false,
    "ExecuteTime": {
     "end_time": "2023-09-23T07:05:29.531084700Z",
     "start_time": "2023-09-23T07:05:29.515457600Z"
    }
   }
  },
  {
   "cell_type": "markdown",
   "source": [
    "Let's try for KNN as well. After a while of wide search, I end up with following parameters for narrow search."
   ],
   "metadata": {
    "collapsed": false
   }
  },
  {
   "cell_type": "code",
   "execution_count": 100,
   "outputs": [
    {
     "name": "stdout",
     "output_type": "stream",
     "text": [
      "Fitting 3 folds for each of 48 candidates, totalling 144 fits\n"
     ]
    },
    {
     "data": {
      "text/plain": "GridSearchCV(cv=3, estimator=KNeighborsClassifier(), n_jobs=-1,\n             param_grid={'algorithm': ['auto', 'ball_tree', 'kd_tree'],\n                         'leaf_size': [10], 'n_neighbors': [11, 12, 13, 14],\n                         'p': [1, 2], 'weights': ['uniform', 'distance']},\n             verbose=2)",
      "text/html": "<style>#sk-container-id-8 {color: black;}#sk-container-id-8 pre{padding: 0;}#sk-container-id-8 div.sk-toggleable {background-color: white;}#sk-container-id-8 label.sk-toggleable__label {cursor: pointer;display: block;width: 100%;margin-bottom: 0;padding: 0.3em;box-sizing: border-box;text-align: center;}#sk-container-id-8 label.sk-toggleable__label-arrow:before {content: \"▸\";float: left;margin-right: 0.25em;color: #696969;}#sk-container-id-8 label.sk-toggleable__label-arrow:hover:before {color: black;}#sk-container-id-8 div.sk-estimator:hover label.sk-toggleable__label-arrow:before {color: black;}#sk-container-id-8 div.sk-toggleable__content {max-height: 0;max-width: 0;overflow: hidden;text-align: left;background-color: #f0f8ff;}#sk-container-id-8 div.sk-toggleable__content pre {margin: 0.2em;color: black;border-radius: 0.25em;background-color: #f0f8ff;}#sk-container-id-8 input.sk-toggleable__control:checked~div.sk-toggleable__content {max-height: 200px;max-width: 100%;overflow: auto;}#sk-container-id-8 input.sk-toggleable__control:checked~label.sk-toggleable__label-arrow:before {content: \"▾\";}#sk-container-id-8 div.sk-estimator input.sk-toggleable__control:checked~label.sk-toggleable__label {background-color: #d4ebff;}#sk-container-id-8 div.sk-label input.sk-toggleable__control:checked~label.sk-toggleable__label {background-color: #d4ebff;}#sk-container-id-8 input.sk-hidden--visually {border: 0;clip: rect(1px 1px 1px 1px);clip: rect(1px, 1px, 1px, 1px);height: 1px;margin: -1px;overflow: hidden;padding: 0;position: absolute;width: 1px;}#sk-container-id-8 div.sk-estimator {font-family: monospace;background-color: #f0f8ff;border: 1px dotted black;border-radius: 0.25em;box-sizing: border-box;margin-bottom: 0.5em;}#sk-container-id-8 div.sk-estimator:hover {background-color: #d4ebff;}#sk-container-id-8 div.sk-parallel-item::after {content: \"\";width: 100%;border-bottom: 1px solid gray;flex-grow: 1;}#sk-container-id-8 div.sk-label:hover label.sk-toggleable__label {background-color: #d4ebff;}#sk-container-id-8 div.sk-serial::before {content: \"\";position: absolute;border-left: 1px solid gray;box-sizing: border-box;top: 0;bottom: 0;left: 50%;z-index: 0;}#sk-container-id-8 div.sk-serial {display: flex;flex-direction: column;align-items: center;background-color: white;padding-right: 0.2em;padding-left: 0.2em;position: relative;}#sk-container-id-8 div.sk-item {position: relative;z-index: 1;}#sk-container-id-8 div.sk-parallel {display: flex;align-items: stretch;justify-content: center;background-color: white;position: relative;}#sk-container-id-8 div.sk-item::before, #sk-container-id-8 div.sk-parallel-item::before {content: \"\";position: absolute;border-left: 1px solid gray;box-sizing: border-box;top: 0;bottom: 0;left: 50%;z-index: -1;}#sk-container-id-8 div.sk-parallel-item {display: flex;flex-direction: column;z-index: 1;position: relative;background-color: white;}#sk-container-id-8 div.sk-parallel-item:first-child::after {align-self: flex-end;width: 50%;}#sk-container-id-8 div.sk-parallel-item:last-child::after {align-self: flex-start;width: 50%;}#sk-container-id-8 div.sk-parallel-item:only-child::after {width: 0;}#sk-container-id-8 div.sk-dashed-wrapped {border: 1px dashed gray;margin: 0 0.4em 0.5em 0.4em;box-sizing: border-box;padding-bottom: 0.4em;background-color: white;}#sk-container-id-8 div.sk-label label {font-family: monospace;font-weight: bold;display: inline-block;line-height: 1.2em;}#sk-container-id-8 div.sk-label-container {text-align: center;}#sk-container-id-8 div.sk-container {/* jupyter's `normalize.less` sets `[hidden] { display: none; }` but bootstrap.min.css set `[hidden] { display: none !important; }` so we also need the `!important` here to be able to override the default hidden behavior on the sphinx rendered scikit-learn.org. See: https://github.com/scikit-learn/scikit-learn/issues/21755 */display: inline-block !important;position: relative;}#sk-container-id-8 div.sk-text-repr-fallback {display: none;}</style><div id=\"sk-container-id-8\" class=\"sk-top-container\"><div class=\"sk-text-repr-fallback\"><pre>GridSearchCV(cv=3, estimator=KNeighborsClassifier(), n_jobs=-1,\n             param_grid={&#x27;algorithm&#x27;: [&#x27;auto&#x27;, &#x27;ball_tree&#x27;, &#x27;kd_tree&#x27;],\n                         &#x27;leaf_size&#x27;: [10], &#x27;n_neighbors&#x27;: [11, 12, 13, 14],\n                         &#x27;p&#x27;: [1, 2], &#x27;weights&#x27;: [&#x27;uniform&#x27;, &#x27;distance&#x27;]},\n             verbose=2)</pre><b>In a Jupyter environment, please rerun this cell to show the HTML representation or trust the notebook. <br />On GitHub, the HTML representation is unable to render, please try loading this page with nbviewer.org.</b></div><div class=\"sk-container\" hidden><div class=\"sk-item sk-dashed-wrapped\"><div class=\"sk-label-container\"><div class=\"sk-label sk-toggleable\"><input class=\"sk-toggleable__control sk-hidden--visually\" id=\"sk-estimator-id-22\" type=\"checkbox\" ><label for=\"sk-estimator-id-22\" class=\"sk-toggleable__label sk-toggleable__label-arrow\">GridSearchCV</label><div class=\"sk-toggleable__content\"><pre>GridSearchCV(cv=3, estimator=KNeighborsClassifier(), n_jobs=-1,\n             param_grid={&#x27;algorithm&#x27;: [&#x27;auto&#x27;, &#x27;ball_tree&#x27;, &#x27;kd_tree&#x27;],\n                         &#x27;leaf_size&#x27;: [10], &#x27;n_neighbors&#x27;: [11, 12, 13, 14],\n                         &#x27;p&#x27;: [1, 2], &#x27;weights&#x27;: [&#x27;uniform&#x27;, &#x27;distance&#x27;]},\n             verbose=2)</pre></div></div></div><div class=\"sk-parallel\"><div class=\"sk-parallel-item\"><div class=\"sk-item\"><div class=\"sk-label-container\"><div class=\"sk-label sk-toggleable\"><input class=\"sk-toggleable__control sk-hidden--visually\" id=\"sk-estimator-id-23\" type=\"checkbox\" ><label for=\"sk-estimator-id-23\" class=\"sk-toggleable__label sk-toggleable__label-arrow\">estimator: KNeighborsClassifier</label><div class=\"sk-toggleable__content\"><pre>KNeighborsClassifier()</pre></div></div></div><div class=\"sk-serial\"><div class=\"sk-item\"><div class=\"sk-estimator sk-toggleable\"><input class=\"sk-toggleable__control sk-hidden--visually\" id=\"sk-estimator-id-24\" type=\"checkbox\" ><label for=\"sk-estimator-id-24\" class=\"sk-toggleable__label sk-toggleable__label-arrow\">KNeighborsClassifier</label><div class=\"sk-toggleable__content\"><pre>KNeighborsClassifier()</pre></div></div></div></div></div></div></div></div></div></div>"
     },
     "execution_count": 100,
     "metadata": {},
     "output_type": "execute_result"
    }
   ],
   "source": [
    "knn_params = {\n",
    "    'n_neighbors': [11, 12, 13,14],\n",
    "    'weights': ['uniform', 'distance'],\n",
    "    'algorithm': ['auto', 'ball_tree', 'kd_tree'],\n",
    "    'p': [1, 2],\n",
    "    'leaf_size': [10, 20, 30]\n",
    "}\n",
    "\n",
    "knn_grid = model_selection.GridSearchCV(knn_clf, knn_params, cv=3, n_jobs=-1, verbose=2)\n",
    "knn_grid.fit(X_train, y_train)"
   ],
   "metadata": {
    "collapsed": false,
    "ExecuteTime": {
     "end_time": "2023-10-01T01:11:27.974431300Z",
     "start_time": "2023-10-01T01:11:26.733979100Z"
    }
   }
  },
  {
   "cell_type": "code",
   "execution_count": 101,
   "outputs": [
    {
     "data": {
      "text/plain": "      scores                                             params\n0   0.830527  {'algorithm': 'auto', 'leaf_size': 10, 'n_neig...\n32  0.829405  {'algorithm': 'kd_tree', 'leaf_size': 10, 'n_n...\n16  0.829405  {'algorithm': 'ball_tree', 'leaf_size': 10, 'n...\n12  0.823793  {'algorithm': 'auto', 'leaf_size': 10, 'n_neig...\n44  0.823793  {'algorithm': 'kd_tree', 'leaf_size': 10, 'n_n...\n28  0.823793  {'algorithm': 'ball_tree', 'leaf_size': 10, 'n...\n4   0.818182  {'algorithm': 'auto', 'leaf_size': 10, 'n_neig...\n36  0.818182  {'algorithm': 'kd_tree', 'leaf_size': 10, 'n_n...\n20  0.818182  {'algorithm': 'ball_tree', 'leaf_size': 10, 'n...\n40  0.815937  {'algorithm': 'kd_tree', 'leaf_size': 10, 'n_n...\n24  0.815937  {'algorithm': 'ball_tree', 'leaf_size': 10, 'n...\n8   0.815937  {'algorithm': 'auto', 'leaf_size': 10, 'n_neig...\n34  0.814815  {'algorithm': 'kd_tree', 'leaf_size': 10, 'n_n...\n18  0.814815  {'algorithm': 'ball_tree', 'leaf_size': 10, 'n...\n2   0.814815  {'algorithm': 'auto', 'leaf_size': 10, 'n_neig...\n38  0.811448  {'algorithm': 'kd_tree', 'leaf_size': 10, 'n_n...\n6   0.811448  {'algorithm': 'auto', 'leaf_size': 10, 'n_neig...\n22  0.811448  {'algorithm': 'ball_tree', 'leaf_size': 10, 'n...\n26  0.809203  {'algorithm': 'ball_tree', 'leaf_size': 10, 'n...\n10  0.809203  {'algorithm': 'auto', 'leaf_size': 10, 'n_neig...\n42  0.809203  {'algorithm': 'kd_tree', 'leaf_size': 10, 'n_n...\n46  0.806958  {'algorithm': 'kd_tree', 'leaf_size': 10, 'n_n...\n14  0.805836  {'algorithm': 'auto', 'leaf_size': 10, 'n_neig...\n30  0.805836  {'algorithm': 'ball_tree', 'leaf_size': 10, 'n...\n17  0.801347  {'algorithm': 'ball_tree', 'leaf_size': 10, 'n...\n33  0.801347  {'algorithm': 'kd_tree', 'leaf_size': 10, 'n_n...\n1   0.801347  {'algorithm': 'auto', 'leaf_size': 10, 'n_neig...\n29  0.797980  {'algorithm': 'ball_tree', 'leaf_size': 10, 'n...\n45  0.797980  {'algorithm': 'kd_tree', 'leaf_size': 10, 'n_n...\n25  0.797980  {'algorithm': 'ball_tree', 'leaf_size': 10, 'n...\n9   0.797980  {'algorithm': 'auto', 'leaf_size': 10, 'n_neig...\n13  0.797980  {'algorithm': 'auto', 'leaf_size': 10, 'n_neig...\n41  0.797980  {'algorithm': 'kd_tree', 'leaf_size': 10, 'n_n...\n21  0.792368  {'algorithm': 'ball_tree', 'leaf_size': 10, 'n...\n5   0.792368  {'algorithm': 'auto', 'leaf_size': 10, 'n_neig...\n37  0.792368  {'algorithm': 'kd_tree', 'leaf_size': 10, 'n_n...\n7   0.791246  {'algorithm': 'auto', 'leaf_size': 10, 'n_neig...\n23  0.791246  {'algorithm': 'ball_tree', 'leaf_size': 10, 'n...\n19  0.791246  {'algorithm': 'ball_tree', 'leaf_size': 10, 'n...\n35  0.791246  {'algorithm': 'kd_tree', 'leaf_size': 10, 'n_n...\n39  0.791246  {'algorithm': 'kd_tree', 'leaf_size': 10, 'n_n...\n3   0.791246  {'algorithm': 'auto', 'leaf_size': 10, 'n_neig...\n47  0.786756  {'algorithm': 'kd_tree', 'leaf_size': 10, 'n_n...\n31  0.786756  {'algorithm': 'ball_tree', 'leaf_size': 10, 'n...\n15  0.786756  {'algorithm': 'auto', 'leaf_size': 10, 'n_neig...\n43  0.784512  {'algorithm': 'kd_tree', 'leaf_size': 10, 'n_n...\n27  0.784512  {'algorithm': 'ball_tree', 'leaf_size': 10, 'n...\n11  0.784512  {'algorithm': 'auto', 'leaf_size': 10, 'n_neig...",
      "text/html": "<div>\n<style scoped>\n    .dataframe tbody tr th:only-of-type {\n        vertical-align: middle;\n    }\n\n    .dataframe tbody tr th {\n        vertical-align: top;\n    }\n\n    .dataframe thead th {\n        text-align: right;\n    }\n</style>\n<table border=\"1\" class=\"dataframe\">\n  <thead>\n    <tr style=\"text-align: right;\">\n      <th></th>\n      <th>scores</th>\n      <th>params</th>\n    </tr>\n  </thead>\n  <tbody>\n    <tr>\n      <th>0</th>\n      <td>0.830527</td>\n      <td>{'algorithm': 'auto', 'leaf_size': 10, 'n_neig...</td>\n    </tr>\n    <tr>\n      <th>32</th>\n      <td>0.829405</td>\n      <td>{'algorithm': 'kd_tree', 'leaf_size': 10, 'n_n...</td>\n    </tr>\n    <tr>\n      <th>16</th>\n      <td>0.829405</td>\n      <td>{'algorithm': 'ball_tree', 'leaf_size': 10, 'n...</td>\n    </tr>\n    <tr>\n      <th>12</th>\n      <td>0.823793</td>\n      <td>{'algorithm': 'auto', 'leaf_size': 10, 'n_neig...</td>\n    </tr>\n    <tr>\n      <th>44</th>\n      <td>0.823793</td>\n      <td>{'algorithm': 'kd_tree', 'leaf_size': 10, 'n_n...</td>\n    </tr>\n    <tr>\n      <th>28</th>\n      <td>0.823793</td>\n      <td>{'algorithm': 'ball_tree', 'leaf_size': 10, 'n...</td>\n    </tr>\n    <tr>\n      <th>4</th>\n      <td>0.818182</td>\n      <td>{'algorithm': 'auto', 'leaf_size': 10, 'n_neig...</td>\n    </tr>\n    <tr>\n      <th>36</th>\n      <td>0.818182</td>\n      <td>{'algorithm': 'kd_tree', 'leaf_size': 10, 'n_n...</td>\n    </tr>\n    <tr>\n      <th>20</th>\n      <td>0.818182</td>\n      <td>{'algorithm': 'ball_tree', 'leaf_size': 10, 'n...</td>\n    </tr>\n    <tr>\n      <th>40</th>\n      <td>0.815937</td>\n      <td>{'algorithm': 'kd_tree', 'leaf_size': 10, 'n_n...</td>\n    </tr>\n    <tr>\n      <th>24</th>\n      <td>0.815937</td>\n      <td>{'algorithm': 'ball_tree', 'leaf_size': 10, 'n...</td>\n    </tr>\n    <tr>\n      <th>8</th>\n      <td>0.815937</td>\n      <td>{'algorithm': 'auto', 'leaf_size': 10, 'n_neig...</td>\n    </tr>\n    <tr>\n      <th>34</th>\n      <td>0.814815</td>\n      <td>{'algorithm': 'kd_tree', 'leaf_size': 10, 'n_n...</td>\n    </tr>\n    <tr>\n      <th>18</th>\n      <td>0.814815</td>\n      <td>{'algorithm': 'ball_tree', 'leaf_size': 10, 'n...</td>\n    </tr>\n    <tr>\n      <th>2</th>\n      <td>0.814815</td>\n      <td>{'algorithm': 'auto', 'leaf_size': 10, 'n_neig...</td>\n    </tr>\n    <tr>\n      <th>38</th>\n      <td>0.811448</td>\n      <td>{'algorithm': 'kd_tree', 'leaf_size': 10, 'n_n...</td>\n    </tr>\n    <tr>\n      <th>6</th>\n      <td>0.811448</td>\n      <td>{'algorithm': 'auto', 'leaf_size': 10, 'n_neig...</td>\n    </tr>\n    <tr>\n      <th>22</th>\n      <td>0.811448</td>\n      <td>{'algorithm': 'ball_tree', 'leaf_size': 10, 'n...</td>\n    </tr>\n    <tr>\n      <th>26</th>\n      <td>0.809203</td>\n      <td>{'algorithm': 'ball_tree', 'leaf_size': 10, 'n...</td>\n    </tr>\n    <tr>\n      <th>10</th>\n      <td>0.809203</td>\n      <td>{'algorithm': 'auto', 'leaf_size': 10, 'n_neig...</td>\n    </tr>\n    <tr>\n      <th>42</th>\n      <td>0.809203</td>\n      <td>{'algorithm': 'kd_tree', 'leaf_size': 10, 'n_n...</td>\n    </tr>\n    <tr>\n      <th>46</th>\n      <td>0.806958</td>\n      <td>{'algorithm': 'kd_tree', 'leaf_size': 10, 'n_n...</td>\n    </tr>\n    <tr>\n      <th>14</th>\n      <td>0.805836</td>\n      <td>{'algorithm': 'auto', 'leaf_size': 10, 'n_neig...</td>\n    </tr>\n    <tr>\n      <th>30</th>\n      <td>0.805836</td>\n      <td>{'algorithm': 'ball_tree', 'leaf_size': 10, 'n...</td>\n    </tr>\n    <tr>\n      <th>17</th>\n      <td>0.801347</td>\n      <td>{'algorithm': 'ball_tree', 'leaf_size': 10, 'n...</td>\n    </tr>\n    <tr>\n      <th>33</th>\n      <td>0.801347</td>\n      <td>{'algorithm': 'kd_tree', 'leaf_size': 10, 'n_n...</td>\n    </tr>\n    <tr>\n      <th>1</th>\n      <td>0.801347</td>\n      <td>{'algorithm': 'auto', 'leaf_size': 10, 'n_neig...</td>\n    </tr>\n    <tr>\n      <th>29</th>\n      <td>0.797980</td>\n      <td>{'algorithm': 'ball_tree', 'leaf_size': 10, 'n...</td>\n    </tr>\n    <tr>\n      <th>45</th>\n      <td>0.797980</td>\n      <td>{'algorithm': 'kd_tree', 'leaf_size': 10, 'n_n...</td>\n    </tr>\n    <tr>\n      <th>25</th>\n      <td>0.797980</td>\n      <td>{'algorithm': 'ball_tree', 'leaf_size': 10, 'n...</td>\n    </tr>\n    <tr>\n      <th>9</th>\n      <td>0.797980</td>\n      <td>{'algorithm': 'auto', 'leaf_size': 10, 'n_neig...</td>\n    </tr>\n    <tr>\n      <th>13</th>\n      <td>0.797980</td>\n      <td>{'algorithm': 'auto', 'leaf_size': 10, 'n_neig...</td>\n    </tr>\n    <tr>\n      <th>41</th>\n      <td>0.797980</td>\n      <td>{'algorithm': 'kd_tree', 'leaf_size': 10, 'n_n...</td>\n    </tr>\n    <tr>\n      <th>21</th>\n      <td>0.792368</td>\n      <td>{'algorithm': 'ball_tree', 'leaf_size': 10, 'n...</td>\n    </tr>\n    <tr>\n      <th>5</th>\n      <td>0.792368</td>\n      <td>{'algorithm': 'auto', 'leaf_size': 10, 'n_neig...</td>\n    </tr>\n    <tr>\n      <th>37</th>\n      <td>0.792368</td>\n      <td>{'algorithm': 'kd_tree', 'leaf_size': 10, 'n_n...</td>\n    </tr>\n    <tr>\n      <th>7</th>\n      <td>0.791246</td>\n      <td>{'algorithm': 'auto', 'leaf_size': 10, 'n_neig...</td>\n    </tr>\n    <tr>\n      <th>23</th>\n      <td>0.791246</td>\n      <td>{'algorithm': 'ball_tree', 'leaf_size': 10, 'n...</td>\n    </tr>\n    <tr>\n      <th>19</th>\n      <td>0.791246</td>\n      <td>{'algorithm': 'ball_tree', 'leaf_size': 10, 'n...</td>\n    </tr>\n    <tr>\n      <th>35</th>\n      <td>0.791246</td>\n      <td>{'algorithm': 'kd_tree', 'leaf_size': 10, 'n_n...</td>\n    </tr>\n    <tr>\n      <th>39</th>\n      <td>0.791246</td>\n      <td>{'algorithm': 'kd_tree', 'leaf_size': 10, 'n_n...</td>\n    </tr>\n    <tr>\n      <th>3</th>\n      <td>0.791246</td>\n      <td>{'algorithm': 'auto', 'leaf_size': 10, 'n_neig...</td>\n    </tr>\n    <tr>\n      <th>47</th>\n      <td>0.786756</td>\n      <td>{'algorithm': 'kd_tree', 'leaf_size': 10, 'n_n...</td>\n    </tr>\n    <tr>\n      <th>31</th>\n      <td>0.786756</td>\n      <td>{'algorithm': 'ball_tree', 'leaf_size': 10, 'n...</td>\n    </tr>\n    <tr>\n      <th>15</th>\n      <td>0.786756</td>\n      <td>{'algorithm': 'auto', 'leaf_size': 10, 'n_neig...</td>\n    </tr>\n    <tr>\n      <th>43</th>\n      <td>0.784512</td>\n      <td>{'algorithm': 'kd_tree', 'leaf_size': 10, 'n_n...</td>\n    </tr>\n    <tr>\n      <th>27</th>\n      <td>0.784512</td>\n      <td>{'algorithm': 'ball_tree', 'leaf_size': 10, 'n...</td>\n    </tr>\n    <tr>\n      <th>11</th>\n      <td>0.784512</td>\n      <td>{'algorithm': 'auto', 'leaf_size': 10, 'n_neig...</td>\n    </tr>\n  </tbody>\n</table>\n</div>"
     },
     "execution_count": 101,
     "metadata": {},
     "output_type": "execute_result"
    }
   ],
   "source": [
    "pd.DataFrame({'scores':knn_grid.cv_results_['mean_test_score'], 'params':knn_grid.cv_results_['params']}).sort_values(by='scores', ascending=False)"
   ],
   "metadata": {
    "collapsed": false,
    "ExecuteTime": {
     "end_time": "2023-10-01T01:11:28.686864100Z",
     "start_time": "2023-10-01T01:11:28.653077Z"
    }
   }
  },
  {
   "cell_type": "markdown",
   "source": [
    "And lastly, a Random Forest Classifier."
   ],
   "metadata": {
    "collapsed": false
   }
  },
  {
   "cell_type": "code",
   "execution_count": 108,
   "outputs": [
    {
     "name": "stdout",
     "output_type": "stream",
     "text": [
      "Fitting 3 folds for each of 108 candidates, totalling 324 fits\n"
     ]
    },
    {
     "data": {
      "text/plain": "GridSearchCV(cv=3, estimator=RandomForestClassifier(), n_jobs=-1,\n             param_grid={'bootstrap': [True, False], 'max_depth': [40, 50, 60],\n                         'max_features': ['sqrt'],\n                         'min_samples_leaf': [2, 4, 6],\n                         'min_samples_split': [2, 5],\n                         'n_estimators': [40, 50, 60]},\n             verbose=1)",
      "text/html": "<style>#sk-container-id-12 {color: black;}#sk-container-id-12 pre{padding: 0;}#sk-container-id-12 div.sk-toggleable {background-color: white;}#sk-container-id-12 label.sk-toggleable__label {cursor: pointer;display: block;width: 100%;margin-bottom: 0;padding: 0.3em;box-sizing: border-box;text-align: center;}#sk-container-id-12 label.sk-toggleable__label-arrow:before {content: \"▸\";float: left;margin-right: 0.25em;color: #696969;}#sk-container-id-12 label.sk-toggleable__label-arrow:hover:before {color: black;}#sk-container-id-12 div.sk-estimator:hover label.sk-toggleable__label-arrow:before {color: black;}#sk-container-id-12 div.sk-toggleable__content {max-height: 0;max-width: 0;overflow: hidden;text-align: left;background-color: #f0f8ff;}#sk-container-id-12 div.sk-toggleable__content pre {margin: 0.2em;color: black;border-radius: 0.25em;background-color: #f0f8ff;}#sk-container-id-12 input.sk-toggleable__control:checked~div.sk-toggleable__content {max-height: 200px;max-width: 100%;overflow: auto;}#sk-container-id-12 input.sk-toggleable__control:checked~label.sk-toggleable__label-arrow:before {content: \"▾\";}#sk-container-id-12 div.sk-estimator input.sk-toggleable__control:checked~label.sk-toggleable__label {background-color: #d4ebff;}#sk-container-id-12 div.sk-label input.sk-toggleable__control:checked~label.sk-toggleable__label {background-color: #d4ebff;}#sk-container-id-12 input.sk-hidden--visually {border: 0;clip: rect(1px 1px 1px 1px);clip: rect(1px, 1px, 1px, 1px);height: 1px;margin: -1px;overflow: hidden;padding: 0;position: absolute;width: 1px;}#sk-container-id-12 div.sk-estimator {font-family: monospace;background-color: #f0f8ff;border: 1px dotted black;border-radius: 0.25em;box-sizing: border-box;margin-bottom: 0.5em;}#sk-container-id-12 div.sk-estimator:hover {background-color: #d4ebff;}#sk-container-id-12 div.sk-parallel-item::after {content: \"\";width: 100%;border-bottom: 1px solid gray;flex-grow: 1;}#sk-container-id-12 div.sk-label:hover label.sk-toggleable__label {background-color: #d4ebff;}#sk-container-id-12 div.sk-serial::before {content: \"\";position: absolute;border-left: 1px solid gray;box-sizing: border-box;top: 0;bottom: 0;left: 50%;z-index: 0;}#sk-container-id-12 div.sk-serial {display: flex;flex-direction: column;align-items: center;background-color: white;padding-right: 0.2em;padding-left: 0.2em;position: relative;}#sk-container-id-12 div.sk-item {position: relative;z-index: 1;}#sk-container-id-12 div.sk-parallel {display: flex;align-items: stretch;justify-content: center;background-color: white;position: relative;}#sk-container-id-12 div.sk-item::before, #sk-container-id-12 div.sk-parallel-item::before {content: \"\";position: absolute;border-left: 1px solid gray;box-sizing: border-box;top: 0;bottom: 0;left: 50%;z-index: -1;}#sk-container-id-12 div.sk-parallel-item {display: flex;flex-direction: column;z-index: 1;position: relative;background-color: white;}#sk-container-id-12 div.sk-parallel-item:first-child::after {align-self: flex-end;width: 50%;}#sk-container-id-12 div.sk-parallel-item:last-child::after {align-self: flex-start;width: 50%;}#sk-container-id-12 div.sk-parallel-item:only-child::after {width: 0;}#sk-container-id-12 div.sk-dashed-wrapped {border: 1px dashed gray;margin: 0 0.4em 0.5em 0.4em;box-sizing: border-box;padding-bottom: 0.4em;background-color: white;}#sk-container-id-12 div.sk-label label {font-family: monospace;font-weight: bold;display: inline-block;line-height: 1.2em;}#sk-container-id-12 div.sk-label-container {text-align: center;}#sk-container-id-12 div.sk-container {/* jupyter's `normalize.less` sets `[hidden] { display: none; }` but bootstrap.min.css set `[hidden] { display: none !important; }` so we also need the `!important` here to be able to override the default hidden behavior on the sphinx rendered scikit-learn.org. See: https://github.com/scikit-learn/scikit-learn/issues/21755 */display: inline-block !important;position: relative;}#sk-container-id-12 div.sk-text-repr-fallback {display: none;}</style><div id=\"sk-container-id-12\" class=\"sk-top-container\"><div class=\"sk-text-repr-fallback\"><pre>GridSearchCV(cv=3, estimator=RandomForestClassifier(), n_jobs=-1,\n             param_grid={&#x27;bootstrap&#x27;: [True, False], &#x27;max_depth&#x27;: [40, 50, 60],\n                         &#x27;max_features&#x27;: [&#x27;sqrt&#x27;],\n                         &#x27;min_samples_leaf&#x27;: [2, 4, 6],\n                         &#x27;min_samples_split&#x27;: [2, 5],\n                         &#x27;n_estimators&#x27;: [40, 50, 60]},\n             verbose=1)</pre><b>In a Jupyter environment, please rerun this cell to show the HTML representation or trust the notebook. <br />On GitHub, the HTML representation is unable to render, please try loading this page with nbviewer.org.</b></div><div class=\"sk-container\" hidden><div class=\"sk-item sk-dashed-wrapped\"><div class=\"sk-label-container\"><div class=\"sk-label sk-toggleable\"><input class=\"sk-toggleable__control sk-hidden--visually\" id=\"sk-estimator-id-34\" type=\"checkbox\" ><label for=\"sk-estimator-id-34\" class=\"sk-toggleable__label sk-toggleable__label-arrow\">GridSearchCV</label><div class=\"sk-toggleable__content\"><pre>GridSearchCV(cv=3, estimator=RandomForestClassifier(), n_jobs=-1,\n             param_grid={&#x27;bootstrap&#x27;: [True, False], &#x27;max_depth&#x27;: [40, 50, 60],\n                         &#x27;max_features&#x27;: [&#x27;sqrt&#x27;],\n                         &#x27;min_samples_leaf&#x27;: [2, 4, 6],\n                         &#x27;min_samples_split&#x27;: [2, 5],\n                         &#x27;n_estimators&#x27;: [40, 50, 60]},\n             verbose=1)</pre></div></div></div><div class=\"sk-parallel\"><div class=\"sk-parallel-item\"><div class=\"sk-item\"><div class=\"sk-label-container\"><div class=\"sk-label sk-toggleable\"><input class=\"sk-toggleable__control sk-hidden--visually\" id=\"sk-estimator-id-35\" type=\"checkbox\" ><label for=\"sk-estimator-id-35\" class=\"sk-toggleable__label sk-toggleable__label-arrow\">estimator: RandomForestClassifier</label><div class=\"sk-toggleable__content\"><pre>RandomForestClassifier()</pre></div></div></div><div class=\"sk-serial\"><div class=\"sk-item\"><div class=\"sk-estimator sk-toggleable\"><input class=\"sk-toggleable__control sk-hidden--visually\" id=\"sk-estimator-id-36\" type=\"checkbox\" ><label for=\"sk-estimator-id-36\" class=\"sk-toggleable__label sk-toggleable__label-arrow\">RandomForestClassifier</label><div class=\"sk-toggleable__content\"><pre>RandomForestClassifier()</pre></div></div></div></div></div></div></div></div></div></div>"
     },
     "execution_count": 108,
     "metadata": {},
     "output_type": "execute_result"
    }
   ],
   "source": [
    "rf_params = {\n",
    "    'n_estimators': [40, 50, 60],\n",
    "    'max_features': ['sqrt', 'log2', 'auto'],\n",
    "    'max_depth': [40, 50, 60],\n",
    "    'min_samples_split': [2, 5],\n",
    "    'min_samples_leaf': [2, 4, 6],\n",
    "    'bootstrap': [True, False]\n",
    "}\n",
    "\n",
    "rf_clf = ensemble.RandomForestClassifier()\n",
    "\n",
    "rf_grid = model_selection.GridSearchCV(rf_clf, rf_params, cv=3, verbose=1, n_jobs=-1)\n",
    "rf_grid.fit(X_train, y_train)"
   ],
   "metadata": {
    "collapsed": false,
    "ExecuteTime": {
     "end_time": "2023-10-01T01:27:17.676010900Z",
     "start_time": "2023-10-01T01:27:09.782317600Z"
    }
   }
  },
  {
   "cell_type": "code",
   "execution_count": 109,
   "outputs": [
    {
     "data": {
      "text/plain": "      scores                                             params\n21  0.833895  {'bootstrap': True, 'max_depth': 50, 'max_feat...\n97  0.833895  {'bootstrap': False, 'max_depth': 60, 'max_fea...\n5   0.831650  {'bootstrap': True, 'max_depth': 40, 'max_feat...\n54  0.831650  {'bootstrap': False, 'max_depth': 40, 'max_fea...\n37  0.831650  {'bootstrap': True, 'max_depth': 60, 'max_feat...\n..       ...                                                ...\n31  0.806958  {'bootstrap': True, 'max_depth': 50, 'max_feat...\n24  0.805836  {'bootstrap': True, 'max_depth': 50, 'max_feat...\n89  0.805836  {'bootstrap': False, 'max_depth': 50, 'max_fea...\n13  0.804714  {'bootstrap': True, 'max_depth': 40, 'max_feat...\n45  0.803591  {'bootstrap': True, 'max_depth': 60, 'max_feat...\n\n[108 rows x 2 columns]",
      "text/html": "<div>\n<style scoped>\n    .dataframe tbody tr th:only-of-type {\n        vertical-align: middle;\n    }\n\n    .dataframe tbody tr th {\n        vertical-align: top;\n    }\n\n    .dataframe thead th {\n        text-align: right;\n    }\n</style>\n<table border=\"1\" class=\"dataframe\">\n  <thead>\n    <tr style=\"text-align: right;\">\n      <th></th>\n      <th>scores</th>\n      <th>params</th>\n    </tr>\n  </thead>\n  <tbody>\n    <tr>\n      <th>21</th>\n      <td>0.833895</td>\n      <td>{'bootstrap': True, 'max_depth': 50, 'max_feat...</td>\n    </tr>\n    <tr>\n      <th>97</th>\n      <td>0.833895</td>\n      <td>{'bootstrap': False, 'max_depth': 60, 'max_fea...</td>\n    </tr>\n    <tr>\n      <th>5</th>\n      <td>0.831650</td>\n      <td>{'bootstrap': True, 'max_depth': 40, 'max_feat...</td>\n    </tr>\n    <tr>\n      <th>54</th>\n      <td>0.831650</td>\n      <td>{'bootstrap': False, 'max_depth': 40, 'max_fea...</td>\n    </tr>\n    <tr>\n      <th>37</th>\n      <td>0.831650</td>\n      <td>{'bootstrap': True, 'max_depth': 60, 'max_feat...</td>\n    </tr>\n    <tr>\n      <th>...</th>\n      <td>...</td>\n      <td>...</td>\n    </tr>\n    <tr>\n      <th>31</th>\n      <td>0.806958</td>\n      <td>{'bootstrap': True, 'max_depth': 50, 'max_feat...</td>\n    </tr>\n    <tr>\n      <th>24</th>\n      <td>0.805836</td>\n      <td>{'bootstrap': True, 'max_depth': 50, 'max_feat...</td>\n    </tr>\n    <tr>\n      <th>89</th>\n      <td>0.805836</td>\n      <td>{'bootstrap': False, 'max_depth': 50, 'max_fea...</td>\n    </tr>\n    <tr>\n      <th>13</th>\n      <td>0.804714</td>\n      <td>{'bootstrap': True, 'max_depth': 40, 'max_feat...</td>\n    </tr>\n    <tr>\n      <th>45</th>\n      <td>0.803591</td>\n      <td>{'bootstrap': True, 'max_depth': 60, 'max_feat...</td>\n    </tr>\n  </tbody>\n</table>\n<p>108 rows × 2 columns</p>\n</div>"
     },
     "execution_count": 109,
     "metadata": {},
     "output_type": "execute_result"
    }
   ],
   "source": [
    "pd.DataFrame({'scores':rf_grid.cv_results_['mean_test_score'], 'params':rf_grid.cv_results_['params']}).sort_values(by='scores', ascending=False)"
   ],
   "metadata": {
    "collapsed": false,
    "ExecuteTime": {
     "end_time": "2023-10-01T01:27:17.711016400Z",
     "start_time": "2023-10-01T01:27:17.691609900Z"
    }
   }
  },
  {
   "cell_type": "markdown",
   "source": [
    "Finally, let's club all three of theses classifiers, with their best parameters, into a Voting Classifier"
   ],
   "metadata": {
    "collapsed": false
   }
  },
  {
   "cell_type": "code",
   "execution_count": 110,
   "outputs": [
    {
     "data": {
      "text/plain": "VotingClassifier(estimators=[('rf',\n                              RandomForestClassifier(bootstrap=False,\n                                                     max_depth=50,\n                                                     min_samples_leaf=2,\n                                                     min_samples_split=5,\n                                                     n_estimators=50)),\n                             ('svm',\n                              SVC(C=15, kernel='poly', probability=True)),\n                             ('knn',\n                              KNeighborsClassifier(leaf_size=10, n_neighbors=11,\n                                                   p=1))],\n                 voting='soft')",
      "text/html": "<style>#sk-container-id-13 {color: black;}#sk-container-id-13 pre{padding: 0;}#sk-container-id-13 div.sk-toggleable {background-color: white;}#sk-container-id-13 label.sk-toggleable__label {cursor: pointer;display: block;width: 100%;margin-bottom: 0;padding: 0.3em;box-sizing: border-box;text-align: center;}#sk-container-id-13 label.sk-toggleable__label-arrow:before {content: \"▸\";float: left;margin-right: 0.25em;color: #696969;}#sk-container-id-13 label.sk-toggleable__label-arrow:hover:before {color: black;}#sk-container-id-13 div.sk-estimator:hover label.sk-toggleable__label-arrow:before {color: black;}#sk-container-id-13 div.sk-toggleable__content {max-height: 0;max-width: 0;overflow: hidden;text-align: left;background-color: #f0f8ff;}#sk-container-id-13 div.sk-toggleable__content pre {margin: 0.2em;color: black;border-radius: 0.25em;background-color: #f0f8ff;}#sk-container-id-13 input.sk-toggleable__control:checked~div.sk-toggleable__content {max-height: 200px;max-width: 100%;overflow: auto;}#sk-container-id-13 input.sk-toggleable__control:checked~label.sk-toggleable__label-arrow:before {content: \"▾\";}#sk-container-id-13 div.sk-estimator input.sk-toggleable__control:checked~label.sk-toggleable__label {background-color: #d4ebff;}#sk-container-id-13 div.sk-label input.sk-toggleable__control:checked~label.sk-toggleable__label {background-color: #d4ebff;}#sk-container-id-13 input.sk-hidden--visually {border: 0;clip: rect(1px 1px 1px 1px);clip: rect(1px, 1px, 1px, 1px);height: 1px;margin: -1px;overflow: hidden;padding: 0;position: absolute;width: 1px;}#sk-container-id-13 div.sk-estimator {font-family: monospace;background-color: #f0f8ff;border: 1px dotted black;border-radius: 0.25em;box-sizing: border-box;margin-bottom: 0.5em;}#sk-container-id-13 div.sk-estimator:hover {background-color: #d4ebff;}#sk-container-id-13 div.sk-parallel-item::after {content: \"\";width: 100%;border-bottom: 1px solid gray;flex-grow: 1;}#sk-container-id-13 div.sk-label:hover label.sk-toggleable__label {background-color: #d4ebff;}#sk-container-id-13 div.sk-serial::before {content: \"\";position: absolute;border-left: 1px solid gray;box-sizing: border-box;top: 0;bottom: 0;left: 50%;z-index: 0;}#sk-container-id-13 div.sk-serial {display: flex;flex-direction: column;align-items: center;background-color: white;padding-right: 0.2em;padding-left: 0.2em;position: relative;}#sk-container-id-13 div.sk-item {position: relative;z-index: 1;}#sk-container-id-13 div.sk-parallel {display: flex;align-items: stretch;justify-content: center;background-color: white;position: relative;}#sk-container-id-13 div.sk-item::before, #sk-container-id-13 div.sk-parallel-item::before {content: \"\";position: absolute;border-left: 1px solid gray;box-sizing: border-box;top: 0;bottom: 0;left: 50%;z-index: -1;}#sk-container-id-13 div.sk-parallel-item {display: flex;flex-direction: column;z-index: 1;position: relative;background-color: white;}#sk-container-id-13 div.sk-parallel-item:first-child::after {align-self: flex-end;width: 50%;}#sk-container-id-13 div.sk-parallel-item:last-child::after {align-self: flex-start;width: 50%;}#sk-container-id-13 div.sk-parallel-item:only-child::after {width: 0;}#sk-container-id-13 div.sk-dashed-wrapped {border: 1px dashed gray;margin: 0 0.4em 0.5em 0.4em;box-sizing: border-box;padding-bottom: 0.4em;background-color: white;}#sk-container-id-13 div.sk-label label {font-family: monospace;font-weight: bold;display: inline-block;line-height: 1.2em;}#sk-container-id-13 div.sk-label-container {text-align: center;}#sk-container-id-13 div.sk-container {/* jupyter's `normalize.less` sets `[hidden] { display: none; }` but bootstrap.min.css set `[hidden] { display: none !important; }` so we also need the `!important` here to be able to override the default hidden behavior on the sphinx rendered scikit-learn.org. See: https://github.com/scikit-learn/scikit-learn/issues/21755 */display: inline-block !important;position: relative;}#sk-container-id-13 div.sk-text-repr-fallback {display: none;}</style><div id=\"sk-container-id-13\" class=\"sk-top-container\"><div class=\"sk-text-repr-fallback\"><pre>VotingClassifier(estimators=[(&#x27;rf&#x27;,\n                              RandomForestClassifier(bootstrap=False,\n                                                     max_depth=50,\n                                                     min_samples_leaf=2,\n                                                     min_samples_split=5,\n                                                     n_estimators=50)),\n                             (&#x27;svm&#x27;,\n                              SVC(C=15, kernel=&#x27;poly&#x27;, probability=True)),\n                             (&#x27;knn&#x27;,\n                              KNeighborsClassifier(leaf_size=10, n_neighbors=11,\n                                                   p=1))],\n                 voting=&#x27;soft&#x27;)</pre><b>In a Jupyter environment, please rerun this cell to show the HTML representation or trust the notebook. <br />On GitHub, the HTML representation is unable to render, please try loading this page with nbviewer.org.</b></div><div class=\"sk-container\" hidden><div class=\"sk-item sk-dashed-wrapped\"><div class=\"sk-label-container\"><div class=\"sk-label sk-toggleable\"><input class=\"sk-toggleable__control sk-hidden--visually\" id=\"sk-estimator-id-37\" type=\"checkbox\" ><label for=\"sk-estimator-id-37\" class=\"sk-toggleable__label sk-toggleable__label-arrow\">VotingClassifier</label><div class=\"sk-toggleable__content\"><pre>VotingClassifier(estimators=[(&#x27;rf&#x27;,\n                              RandomForestClassifier(bootstrap=False,\n                                                     max_depth=50,\n                                                     min_samples_leaf=2,\n                                                     min_samples_split=5,\n                                                     n_estimators=50)),\n                             (&#x27;svm&#x27;,\n                              SVC(C=15, kernel=&#x27;poly&#x27;, probability=True)),\n                             (&#x27;knn&#x27;,\n                              KNeighborsClassifier(leaf_size=10, n_neighbors=11,\n                                                   p=1))],\n                 voting=&#x27;soft&#x27;)</pre></div></div></div><div class=\"sk-parallel\"><div class=\"sk-parallel-item\"><div class=\"sk-item\"><div class=\"sk-label-container\"><div class=\"sk-label sk-toggleable\"><label>rf</label></div></div><div class=\"sk-serial\"><div class=\"sk-item\"><div class=\"sk-estimator sk-toggleable\"><input class=\"sk-toggleable__control sk-hidden--visually\" id=\"sk-estimator-id-38\" type=\"checkbox\" ><label for=\"sk-estimator-id-38\" class=\"sk-toggleable__label sk-toggleable__label-arrow\">RandomForestClassifier</label><div class=\"sk-toggleable__content\"><pre>RandomForestClassifier(bootstrap=False, max_depth=50, min_samples_leaf=2,\n                       min_samples_split=5, n_estimators=50)</pre></div></div></div></div></div></div><div class=\"sk-parallel-item\"><div class=\"sk-item\"><div class=\"sk-label-container\"><div class=\"sk-label sk-toggleable\"><label>svm</label></div></div><div class=\"sk-serial\"><div class=\"sk-item\"><div class=\"sk-estimator sk-toggleable\"><input class=\"sk-toggleable__control sk-hidden--visually\" id=\"sk-estimator-id-39\" type=\"checkbox\" ><label for=\"sk-estimator-id-39\" class=\"sk-toggleable__label sk-toggleable__label-arrow\">SVC</label><div class=\"sk-toggleable__content\"><pre>SVC(C=15, kernel=&#x27;poly&#x27;, probability=True)</pre></div></div></div></div></div></div><div class=\"sk-parallel-item\"><div class=\"sk-item\"><div class=\"sk-label-container\"><div class=\"sk-label sk-toggleable\"><label>knn</label></div></div><div class=\"sk-serial\"><div class=\"sk-item\"><div class=\"sk-estimator sk-toggleable\"><input class=\"sk-toggleable__control sk-hidden--visually\" id=\"sk-estimator-id-40\" type=\"checkbox\" ><label for=\"sk-estimator-id-40\" class=\"sk-toggleable__label sk-toggleable__label-arrow\">KNeighborsClassifier</label><div class=\"sk-toggleable__content\"><pre>KNeighborsClassifier(leaf_size=10, n_neighbors=11, p=1)</pre></div></div></div></div></div></div></div></div></div></div>"
     },
     "execution_count": 110,
     "metadata": {},
     "output_type": "execute_result"
    }
   ],
   "source": [
    "rf_clf = ensemble.RandomForestClassifier(n_estimators=50, max_features='sqrt', min_samples_leaf=2, min_samples_split=5, max_depth=50, bootstrap=False)\n",
    "svm_clf = svm.SVC(C=15, kernel='poly', degree=3, probability=True)\n",
    "knn_clf = neighbors.KNeighborsClassifier(algorithm='auto', leaf_size=10, n_neighbors=11, p=1, weights='uniform')\n",
    "\n",
    "voting_clf = ensemble.VotingClassifier(estimators=[('rf', rf_clf), ('svm', svm_clf), ('knn', knn_clf)], voting='soft')\n",
    "\n",
    "voting_clf.fit(X_train, y_train)"
   ],
   "metadata": {
    "collapsed": false,
    "ExecuteTime": {
     "end_time": "2023-10-01T01:33:37.763580200Z",
     "start_time": "2023-10-01T01:33:37.456655500Z"
    }
   }
  },
  {
   "cell_type": "code",
   "execution_count": 111,
   "outputs": [
    {
     "data": {
      "text/plain": "['saved_models/voting_clf.pkl']"
     },
     "execution_count": 111,
     "metadata": {},
     "output_type": "execute_result"
    }
   ],
   "source": [
    "joblib.dump(voting_clf, 'saved_models/voting_clf.pkl')"
   ],
   "metadata": {
    "collapsed": false,
    "ExecuteTime": {
     "end_time": "2023-10-01T01:34:23.004976800Z",
     "start_time": "2023-10-01T01:34:22.941894600Z"
    }
   }
  },
  {
   "cell_type": "code",
   "execution_count": null,
   "outputs": [],
   "source": [
    "X_test_prep = full_pipeline.transform(X_test)"
   ],
   "metadata": {
    "collapsed": false
   }
  },
  {
   "cell_type": "markdown",
   "source": [
    "Now, before we go to prediction stage, there is a slight problem. The test set had no people residing in the 'T' Cabin, because of which the `X_test_prep` has one less column. Let us fix that by inserting the Cabin T column at correct index."
   ],
   "metadata": {
    "collapsed": false
   }
  },
  {
   "cell_type": "code",
   "execution_count": 113,
   "outputs": [
    {
     "data": {
      "text/plain": "26"
     },
     "execution_count": 113,
     "metadata": {},
     "output_type": "execute_result"
    }
   ],
   "source": [
    "list(cols).index('cab_pipe__x0_T')"
   ],
   "metadata": {
    "collapsed": false,
    "ExecuteTime": {
     "end_time": "2023-10-01T01:35:03.606604Z",
     "start_time": "2023-10-01T01:35:03.575342100Z"
    }
   }
  },
  {
   "cell_type": "code",
   "execution_count": 114,
   "outputs": [
    {
     "data": {
      "text/plain": "array([[0.3948865804412651, -0.49078316061772326, 0.0, ..., 2.0, 1.0, 0],\n       [1.3555096219574048, -0.5074788432328381, 0.0, ..., 2.0, 0.0, 1],\n       [2.5082572717767726, -0.4533668714188957, 0.0, ..., 1.0, 1.0, 0],\n       ...,\n       [0.7022859537264299, -0.5024451714361923, 0.0, ..., 2.0, 1.0, 0],\n       [-0.10463740114712752, -0.4863374216869257, 0.0, ..., 2.0, 1.0, 0],\n       [-0.10463740114712752, -0.19824427701513722, 0.0, ..., 2.0, 1.0,\n        2]], dtype=object)"
     },
     "execution_count": 114,
     "metadata": {},
     "output_type": "execute_result"
    }
   ],
   "source": [
    "Cabin_T = np.zeros(X_test_prep.shape[0])\n",
    "X_test_prep = np.insert(X_test_prep, 26, Cabin_T, axis=1)\n",
    "X_test_prep"
   ],
   "metadata": {
    "collapsed": false,
    "ExecuteTime": {
     "end_time": "2023-10-01T01:35:04.069172800Z",
     "start_time": "2023-10-01T01:35:04.022105300Z"
    }
   }
  },
  {
   "cell_type": "code",
   "execution_count": 119,
   "outputs": [
    {
     "data": {
      "text/plain": "array([0, 0, 0, 0, 1, 0, 1, 0, 1, 0, 0, 0, 1, 0, 1, 1, 0, 0, 0, 1, 0, 1,\n       1, 0, 1, 0, 1, 0, 0, 0, 0, 0, 1, 0, 1, 0, 0, 0, 0, 0, 0, 0, 0, 1,\n       1, 0, 0, 0, 1, 1, 0, 0, 1, 1, 0, 0, 0, 0, 0, 1, 0, 0, 0, 1, 1, 1,\n       1, 0, 1, 1, 1, 0, 0, 1, 1, 0, 0, 1, 0, 1, 1, 0, 0, 0, 0, 0, 1, 0,\n       1, 1, 1, 0, 1, 0, 0, 0, 1, 0, 0, 0, 1, 0, 0, 0, 1, 0, 0, 0, 0, 0,\n       0, 1, 1, 1, 1, 0, 0, 1, 1, 1, 1, 0, 1, 0, 0, 0, 0, 1, 0, 0, 0, 1,\n       0, 0, 0, 0, 0, 0, 0, 0, 0, 1, 1, 0, 0, 0, 0, 0, 0, 0, 1, 0, 0, 1,\n       0, 0, 1, 0, 0, 1, 1, 1, 1, 0, 0, 1, 0, 0, 1, 0, 0, 0, 0, 0, 0, 1,\n       1, 0, 1, 1, 0, 1, 1, 0, 1, 0, 1, 0, 0, 0, 0, 0, 1, 0, 1, 0, 1, 0,\n       0, 1, 1, 1, 1, 1, 0, 0, 1, 0, 1, 0, 0, 0, 0, 1, 0, 0, 1, 0, 1, 0,\n       1, 0, 1, 0, 1, 1, 0, 1, 0, 0, 0, 1, 0, 0, 0, 0, 0, 0, 1, 1, 1, 1,\n       0, 0, 0, 0, 1, 0, 1, 1, 1, 0, 1, 0, 0, 0, 0, 0, 1, 0, 0, 0, 1, 1,\n       0, 0, 0, 0, 0, 0, 0, 0, 1, 1, 0, 1, 0, 0, 0, 0, 0, 1, 1, 1, 1, 0,\n       0, 0, 0, 0, 0, 1, 0, 1, 0, 0, 1, 0, 0, 0, 0, 0, 0, 0, 1, 1, 0, 1,\n       1, 1, 0, 0, 0, 1, 1, 1, 0, 0, 0, 0, 0, 0, 0, 0, 1, 0, 1, 0, 0, 0,\n       1, 0, 0, 1, 0, 0, 0, 0, 0, 1, 0, 0, 0, 1, 0, 1, 0, 1, 0, 1, 1, 0,\n       0, 0, 1, 0, 1, 0, 0, 1, 0, 1, 1, 0, 1, 0, 0, 1, 1, 0, 0, 1, 0, 0,\n       1, 1, 0, 0, 0, 0, 0, 0, 1, 1, 0, 1, 0, 0, 0, 0, 0, 1, 1, 0, 0, 1,\n       0, 1, 0, 0, 1, 0, 1, 0, 1, 0, 0, 0, 1, 1, 1, 1, 0, 0, 1, 0, 0, 1],\n      dtype=int64)"
     },
     "execution_count": 119,
     "metadata": {},
     "output_type": "execute_result"
    }
   ],
   "source": [
    "y_pred = voting_clf.predict(X_test_prep)\n",
    "y_pred"
   ],
   "metadata": {
    "collapsed": false,
    "ExecuteTime": {
     "end_time": "2023-10-01T01:40:18.148585500Z",
     "start_time": "2023-10-01T01:40:18.101288800Z"
    }
   }
  },
  {
   "cell_type": "code",
   "execution_count": 120,
   "outputs": [],
   "source": [
    "predictions = pd.DataFrame({'PassengerId':titanic_test['PassengerId'], 'Survived':y_pred})\n",
    "predictions.to_csv('data/predictions.csv')"
   ],
   "metadata": {
    "collapsed": false,
    "ExecuteTime": {
     "end_time": "2023-10-01T01:40:31.139783700Z",
     "start_time": "2023-10-01T01:40:31.077287400Z"
    }
   }
  },
  {
   "cell_type": "markdown",
   "source": [
    "**...............................................................................................................................................................................................................................**\n",
    "**...............................................................................................................................................................................................................................**"
   ],
   "metadata": {
    "collapsed": false
   }
  },
  {
   "cell_type": "markdown",
   "source": [
    "This model did not live up to expectations and scored a 0.78 on the competetion. Let us go simple and revise feature engineering a little bit.\n",
    "In the revised version, I am checking if getting rid of column can be useful. Also, I am going to ditch Ticket as well. Moreover, The family members attribute can be replaced by an IsAlone column which I think makes more sense."
   ],
   "metadata": {
    "collapsed": false
   }
  },
  {
   "cell_type": "code",
   "execution_count": 128,
   "outputs": [
    {
     "data": {
      "text/plain": "     Pclass                                               Name     Sex   Age  \\\n0         3                            Braund, Mr. Owen Harris    male  22.0   \n1         1  Cumings, Mrs. John Bradley (Florence Briggs Th...  female  38.0   \n2         3                             Heikkinen, Miss. Laina  female  26.0   \n3         1       Futrelle, Mrs. Jacques Heath (Lily May Peel)  female  35.0   \n4         3                           Allen, Mr. William Henry    male  35.0   \n..      ...                                                ...     ...   ...   \n886       2                              Montvila, Rev. Juozas    male  27.0   \n887       1                       Graham, Miss. Margaret Edith  female  19.0   \n888       3           Johnston, Miss. Catherine Helen \"Carrie\"  female   NaN   \n889       1                              Behr, Mr. Karl Howell    male  26.0   \n890       3                                Dooley, Mr. Patrick    male  32.0   \n\n     SibSp  Parch     Fare Embarked  \n0        1      0   7.2500        S  \n1        1      0  71.2833        C  \n2        0      0   7.9250        S  \n3        1      0  53.1000        S  \n4        0      0   8.0500        S  \n..     ...    ...      ...      ...  \n886      0      0  13.0000        S  \n887      0      0  30.0000        S  \n888      1      2  23.4500        S  \n889      0      0  30.0000        C  \n890      0      0   7.7500        Q  \n\n[891 rows x 8 columns]",
      "text/html": "<div>\n<style scoped>\n    .dataframe tbody tr th:only-of-type {\n        vertical-align: middle;\n    }\n\n    .dataframe tbody tr th {\n        vertical-align: top;\n    }\n\n    .dataframe thead th {\n        text-align: right;\n    }\n</style>\n<table border=\"1\" class=\"dataframe\">\n  <thead>\n    <tr style=\"text-align: right;\">\n      <th></th>\n      <th>Pclass</th>\n      <th>Name</th>\n      <th>Sex</th>\n      <th>Age</th>\n      <th>SibSp</th>\n      <th>Parch</th>\n      <th>Fare</th>\n      <th>Embarked</th>\n    </tr>\n  </thead>\n  <tbody>\n    <tr>\n      <th>0</th>\n      <td>3</td>\n      <td>Braund, Mr. Owen Harris</td>\n      <td>male</td>\n      <td>22.0</td>\n      <td>1</td>\n      <td>0</td>\n      <td>7.2500</td>\n      <td>S</td>\n    </tr>\n    <tr>\n      <th>1</th>\n      <td>1</td>\n      <td>Cumings, Mrs. John Bradley (Florence Briggs Th...</td>\n      <td>female</td>\n      <td>38.0</td>\n      <td>1</td>\n      <td>0</td>\n      <td>71.2833</td>\n      <td>C</td>\n    </tr>\n    <tr>\n      <th>2</th>\n      <td>3</td>\n      <td>Heikkinen, Miss. Laina</td>\n      <td>female</td>\n      <td>26.0</td>\n      <td>0</td>\n      <td>0</td>\n      <td>7.9250</td>\n      <td>S</td>\n    </tr>\n    <tr>\n      <th>3</th>\n      <td>1</td>\n      <td>Futrelle, Mrs. Jacques Heath (Lily May Peel)</td>\n      <td>female</td>\n      <td>35.0</td>\n      <td>1</td>\n      <td>0</td>\n      <td>53.1000</td>\n      <td>S</td>\n    </tr>\n    <tr>\n      <th>4</th>\n      <td>3</td>\n      <td>Allen, Mr. William Henry</td>\n      <td>male</td>\n      <td>35.0</td>\n      <td>0</td>\n      <td>0</td>\n      <td>8.0500</td>\n      <td>S</td>\n    </tr>\n    <tr>\n      <th>...</th>\n      <td>...</td>\n      <td>...</td>\n      <td>...</td>\n      <td>...</td>\n      <td>...</td>\n      <td>...</td>\n      <td>...</td>\n      <td>...</td>\n    </tr>\n    <tr>\n      <th>886</th>\n      <td>2</td>\n      <td>Montvila, Rev. Juozas</td>\n      <td>male</td>\n      <td>27.0</td>\n      <td>0</td>\n      <td>0</td>\n      <td>13.0000</td>\n      <td>S</td>\n    </tr>\n    <tr>\n      <th>887</th>\n      <td>1</td>\n      <td>Graham, Miss. Margaret Edith</td>\n      <td>female</td>\n      <td>19.0</td>\n      <td>0</td>\n      <td>0</td>\n      <td>30.0000</td>\n      <td>S</td>\n    </tr>\n    <tr>\n      <th>888</th>\n      <td>3</td>\n      <td>Johnston, Miss. Catherine Helen \"Carrie\"</td>\n      <td>female</td>\n      <td>NaN</td>\n      <td>1</td>\n      <td>2</td>\n      <td>23.4500</td>\n      <td>S</td>\n    </tr>\n    <tr>\n      <th>889</th>\n      <td>1</td>\n      <td>Behr, Mr. Karl Howell</td>\n      <td>male</td>\n      <td>26.0</td>\n      <td>0</td>\n      <td>0</td>\n      <td>30.0000</td>\n      <td>C</td>\n    </tr>\n    <tr>\n      <th>890</th>\n      <td>3</td>\n      <td>Dooley, Mr. Patrick</td>\n      <td>male</td>\n      <td>32.0</td>\n      <td>0</td>\n      <td>0</td>\n      <td>7.7500</td>\n      <td>Q</td>\n    </tr>\n  </tbody>\n</table>\n<p>891 rows × 8 columns</p>\n</div>"
     },
     "execution_count": 128,
     "metadata": {},
     "output_type": "execute_result"
    }
   ],
   "source": [
    "X_train_2 = X_train.copy()[['Pclass', 'Name', 'Sex', 'Age', 'SibSp', 'Parch', 'Fare', 'Embarked']]\n",
    "X_train_2"
   ],
   "metadata": {
    "collapsed": false,
    "ExecuteTime": {
     "end_time": "2023-10-01T01:52:00.907304100Z",
     "start_time": "2023-10-01T01:52:00.761551600Z"
    }
   }
  },
  {
   "cell_type": "code",
   "execution_count": 3,
   "outputs": [],
   "source": [
    "# Finding if a person is alone\n",
    "class IsAlone(base.BaseEstimator, base.TransformerMixin):\n",
    "    def __init__(self):\n",
    "        self.feature_names_in_ = None\n",
    "    def fit(self, X, y=None):\n",
    "        self.feature_names_in_ = X.columns\n",
    "        return self\n",
    "    def transform(self, X):\n",
    "        return pd.DataFrame((X['Parch']+X['SibSp'])==0)\n",
    "    def get_feature_names_out(self, inp=None):\n",
    "        return ['is_alone']"
   ],
   "metadata": {
    "collapsed": false,
    "ExecuteTime": {
     "end_time": "2023-10-01T15:37:00.998573500Z",
     "start_time": "2023-10-01T15:37:00.922594600Z"
    }
   }
  },
  {
   "cell_type": "code",
   "execution_count": 178,
   "outputs": [],
   "source": [
    "# Pipeline for imputing and scaling the ``Age`` and ``Fare`` attribute\n",
    "num_pipe = pipeline.Pipeline([('num_impute', impute.SimpleImputer(strategy='median')),\n",
    "                              ('num_scale', preprocessing.StandardScaler())])\n",
    "\n",
    "# Pipeline for Embarked attribute\n",
    "emb_pipe = pipeline.Pipeline([('emb_impute', impute.SimpleImputer(strategy='most_frequent')),\n",
    "                              ('emb_encode', preprocessing.OneHotEncoder(handle_unknown='ignore'))])\n",
    "\n",
    "# Transformer for creating new attributes - family members and title\n",
    "column_creator = compose.ColumnTransformer([\n",
    "                                            ('is_alone', IsAlone(), ['Parch', 'SibSp'])], remainder='passthrough')\n",
    "\n",
    "# Final Column Transformer\n",
    "column_transformer = compose.ColumnTransformer([('num_pipe', num_pipe, [4,5]),\n",
    "                                                ('isalone', preprocessing.OrdinalEncoder(), [0]),\n",
    "                                                ('emb_pipe', emb_pipe, [6]),\n",
    "                                                ('class_encode', preprocessing.OrdinalEncoder(), [1]),\n",
    "                                                ('sex_pipe', preprocessing.OrdinalEncoder(), [3])], remainder='drop', sparse_threshold=0)\n",
    "\n",
    "# Final Pipeline\n",
    "full_pipeline_2 = pipeline.Pipeline([('new_cols', column_creator),\n",
    "                                   ('all_columns_trans', column_transformer)])\n",
    "\n",
    "\n",
    "X_train_prep_2 = full_pipeline_2.fit_transform(X_train_2) "
   ],
   "metadata": {
    "collapsed": false,
    "ExecuteTime": {
     "end_time": "2023-10-01T02:39:57.553074700Z",
     "start_time": "2023-10-01T02:39:57.506201600Z"
    }
   }
  },
  {
   "cell_type": "code",
   "execution_count": 179,
   "outputs": [
    {
     "data": {
      "text/plain": "array(['num_pipe__remainder__Age', 'num_pipe__remainder__Fare',\n       'isalone__is_alone__is_alone', 'emb_pipe__remainder__Embarked_C',\n       'emb_pipe__remainder__Embarked_Q',\n       'emb_pipe__remainder__Embarked_S',\n       'class_encode__remainder__Pclass', 'sex_pipe__remainder__Sex'],\n      dtype=object)"
     },
     "execution_count": 179,
     "metadata": {},
     "output_type": "execute_result"
    }
   ],
   "source": [
    "full_pipeline_2.get_feature_names_out()"
   ],
   "metadata": {
    "collapsed": false,
    "ExecuteTime": {
     "end_time": "2023-10-01T02:40:03.402964900Z",
     "start_time": "2023-10-01T02:40:03.371717300Z"
    }
   }
  },
  {
   "cell_type": "code",
   "execution_count": 180,
   "outputs": [],
   "source": [
    "sgd_clf = linear_model.SGDClassifier()\n",
    "knn_clf = neighbors.KNeighborsClassifier()\n",
    "rf_clf = ensemble.RandomForestClassifier()\n",
    "svm_clf = svm.SVC()\n",
    "\n",
    "scores = []\n",
    "for model in [sgd_clf, knn_clf, rf_clf, svm_clf]:\n",
    "    scores.append(model_selection.cross_validate(model, X_train_prep_2, y_train, cv=3, scoring='accuracy'))"
   ],
   "metadata": {
    "collapsed": false,
    "ExecuteTime": {
     "end_time": "2023-10-01T02:40:19.274004900Z",
     "start_time": "2023-10-01T02:40:18.540231600Z"
    }
   }
  },
  {
   "cell_type": "code",
   "execution_count": 181,
   "outputs": [
    {
     "data": {
      "text/plain": "[0.787878787878788, 0.7777777777777777, 0.787878787878788, 0.8159371492704826]"
     },
     "execution_count": 181,
     "metadata": {},
     "output_type": "execute_result"
    }
   ],
   "source": [
    "[scores[i]['test_score'].mean() for i in range(4)]"
   ],
   "metadata": {
    "collapsed": false,
    "ExecuteTime": {
     "end_time": "2023-10-01T02:40:20.037181700Z",
     "start_time": "2023-10-01T02:40:20.005936900Z"
    }
   }
  },
  {
   "cell_type": "code",
   "execution_count": 182,
   "outputs": [
    {
     "name": "stdout",
     "output_type": "stream",
     "text": [
      "Fitting 3 folds for each of 48 candidates, totalling 144 fits\n",
      "Best Score: 0.8159371492704826\n",
      "Best Parameters: {'C': 1, 'gamma': 'scale', 'kernel': 'rbf'}\n"
     ]
    }
   ],
   "source": [
    "svm_params = [{'C':[0.1, 1, 10, 100], 'kernel':['rbf', 'sigmoid'], 'gamma':['auto', 'scale']}, {'C':[0.1, 1, 10, 100], 'kernel':['poly'], 'gamma':['auto', 'scale'], 'degree':[2,3,4,5]}]\n",
    "svm_grid = model_selection.GridSearchCV(svm_clf, svm_params, cv=3, scoring='accuracy', n_jobs=-1, verbose=2)\n",
    "\n",
    "svm_grid.fit(X_train_prep_2, y_train)\n",
    "\n",
    "print(f'Best Score: {svm_grid.best_score_}\\nBest Parameters: {svm_grid.best_params_}')"
   ],
   "metadata": {
    "collapsed": false,
    "ExecuteTime": {
     "end_time": "2023-10-01T02:40:30.565361Z",
     "start_time": "2023-10-01T02:40:25.197774Z"
    }
   }
  },
  {
   "cell_type": "code",
   "execution_count": 183,
   "outputs": [
    {
     "name": "stdout",
     "output_type": "stream",
     "text": [
      "Fitting 3 folds for each of 144 candidates, totalling 432 fits\n",
      "Best Score: 0.7923681257014591\n",
      "Best Parameters: {'algorithm': 'auto', 'leaf_size': 10, 'n_neighbors': 13, 'p': 1, 'weights': 'uniform'}\n"
     ]
    }
   ],
   "source": [
    "knn_params_2 = {\n",
    "    'n_neighbors': [11, 12, 13,14],\n",
    "    'weights': ['uniform', 'distance'],\n",
    "    'algorithm': ['auto', 'ball_tree', 'kd_tree'],\n",
    "    'p': [1, 2],\n",
    "    'leaf_size': [10, 20, 30]\n",
    "}\n",
    "\n",
    "knn_grid_2 = model_selection.GridSearchCV(knn_clf, knn_params_2, cv=3, n_jobs=-1, verbose=2)\n",
    "knn_grid_2.fit(X_train_prep_2, y_train)\n",
    "\n",
    "print(f'Best Score: {knn_grid_2.best_score_}\\nBest Parameters: {knn_grid_2.best_params_}')"
   ],
   "metadata": {
    "collapsed": false,
    "ExecuteTime": {
     "end_time": "2023-10-01T02:40:33.706874Z",
     "start_time": "2023-10-01T02:40:31.557600100Z"
    }
   }
  },
  {
   "cell_type": "code",
   "execution_count": 184,
   "outputs": [
    {
     "name": "stdout",
     "output_type": "stream",
     "text": [
      "Fitting 3 folds for each of 432 candidates, totalling 1296 fits\n",
      "Best Score: 0.8282828282828282\n",
      "Best Parameters: {'bootstrap': False, 'max_depth': 30, 'max_features': 'log2', 'min_samples_leaf': 4, 'min_samples_split': 2, 'n_estimators': 30}\n"
     ]
    },
    {
     "name": "stderr",
     "output_type": "stream",
     "text": [
      "C:\\Users\\thory\\miniconda3\\envs\\main\\lib\\site-packages\\sklearn\\model_selection\\_validation.py:425: FitFailedWarning: \n",
      "432 fits failed out of a total of 1296.\n",
      "The score on these train-test partitions for these parameters will be set to nan.\n",
      "If these failures are not expected, you can try to debug them by setting error_score='raise'.\n",
      "\n",
      "Below are more details about the failures:\n",
      "--------------------------------------------------------------------------------\n",
      "101 fits failed with the following error:\n",
      "Traceback (most recent call last):\n",
      "  File \"C:\\Users\\thory\\miniconda3\\envs\\main\\lib\\site-packages\\sklearn\\model_selection\\_validation.py\", line 732, in _fit_and_score\n",
      "    estimator.fit(X_train, y_train, **fit_params)\n",
      "  File \"C:\\Users\\thory\\miniconda3\\envs\\main\\lib\\site-packages\\sklearn\\base.py\", line 1144, in wrapper\n",
      "    estimator._validate_params()\n",
      "  File \"C:\\Users\\thory\\miniconda3\\envs\\main\\lib\\site-packages\\sklearn\\base.py\", line 637, in _validate_params\n",
      "    validate_parameter_constraints(\n",
      "  File \"C:\\Users\\thory\\miniconda3\\envs\\main\\lib\\site-packages\\sklearn\\utils\\_param_validation.py\", line 95, in validate_parameter_constraints\n",
      "    raise InvalidParameterError(\n",
      "sklearn.utils._param_validation.InvalidParameterError: The 'max_features' parameter of RandomForestClassifier must be an int in the range [1, inf), a float in the range (0.0, 1.0], a str among {'log2', 'sqrt'} or None. Got 'auto' instead.\n",
      "\n",
      "--------------------------------------------------------------------------------\n",
      "331 fits failed with the following error:\n",
      "Traceback (most recent call last):\n",
      "  File \"C:\\Users\\thory\\miniconda3\\envs\\main\\lib\\site-packages\\sklearn\\model_selection\\_validation.py\", line 732, in _fit_and_score\n",
      "    estimator.fit(X_train, y_train, **fit_params)\n",
      "  File \"C:\\Users\\thory\\miniconda3\\envs\\main\\lib\\site-packages\\sklearn\\base.py\", line 1144, in wrapper\n",
      "    estimator._validate_params()\n",
      "  File \"C:\\Users\\thory\\miniconda3\\envs\\main\\lib\\site-packages\\sklearn\\base.py\", line 637, in _validate_params\n",
      "    validate_parameter_constraints(\n",
      "  File \"C:\\Users\\thory\\miniconda3\\envs\\main\\lib\\site-packages\\sklearn\\utils\\_param_validation.py\", line 95, in validate_parameter_constraints\n",
      "    raise InvalidParameterError(\n",
      "sklearn.utils._param_validation.InvalidParameterError: The 'max_features' parameter of RandomForestClassifier must be an int in the range [1, inf), a float in the range (0.0, 1.0], a str among {'sqrt', 'log2'} or None. Got 'auto' instead.\n",
      "\n",
      "  warnings.warn(some_fits_failed_message, FitFailedWarning)\n",
      "C:\\Users\\thory\\miniconda3\\envs\\main\\lib\\site-packages\\sklearn\\model_selection\\_search.py:976: UserWarning: One or more of the test scores are non-finite: [0.80920314 0.81257015 0.80808081 0.80920314 0.80920314 0.81705948\n",
      " 0.80583614 0.80583614 0.81369248 0.81032548 0.81257015 0.81369248\n",
      " 0.81144781 0.81032548 0.80808081 0.8047138  0.81144781 0.7979798\n",
      " 0.80359147 0.80583614 0.80583614 0.79349046 0.80808081 0.80695847\n",
      " 0.81257015 0.80920314 0.81705948 0.81818182 0.81481481 0.81818182\n",
      " 0.81818182 0.81144781 0.80359147 0.80583614 0.80695847 0.80359147\n",
      " 0.8047138  0.82154882 0.80695847 0.81705948 0.79685746 0.8047138\n",
      " 0.81032548 0.80583614 0.81032548 0.80808081 0.81257015 0.80022447\n",
      "        nan        nan        nan        nan        nan        nan\n",
      "        nan        nan        nan        nan        nan        nan\n",
      "        nan        nan        nan        nan        nan        nan\n",
      "        nan        nan        nan        nan        nan        nan\n",
      " 0.8047138  0.81032548 0.81481481 0.81144781 0.81032548 0.81032548\n",
      " 0.82042649 0.81032548 0.81369248 0.80920314 0.81032548 0.8013468\n",
      " 0.80808081 0.81818182 0.80920314 0.81257015 0.81144781 0.81257015\n",
      " 0.7979798  0.81032548 0.8047138  0.80695847 0.8047138  0.79910213\n",
      " 0.80920314 0.8047138  0.81930415 0.81481481 0.80246914 0.81032548\n",
      " 0.82154882 0.81930415 0.82042649 0.80246914 0.81705948 0.81257015\n",
      " 0.80246914 0.82042649 0.80920314 0.81032548 0.81032548 0.81481481\n",
      " 0.80808081 0.8047138  0.81369248 0.80808081 0.81144781 0.80920314\n",
      "        nan        nan        nan        nan        nan        nan\n",
      "        nan        nan        nan        nan        nan        nan\n",
      "        nan        nan        nan        nan        nan        nan\n",
      "        nan        nan        nan        nan        nan        nan\n",
      " 0.81481481 0.81593715 0.81818182 0.81705948 0.81818182 0.80583614\n",
      " 0.80695847 0.80246914 0.81593715 0.8013468  0.81481481 0.80359147\n",
      " 0.81032548 0.81818182 0.81257015 0.81257015 0.79910213 0.80920314\n",
      " 0.8047138  0.81032548 0.80583614 0.80808081 0.81144781 0.80808081\n",
      " 0.81930415 0.81257015 0.82267116 0.81481481 0.8047138  0.82154882\n",
      " 0.81481481 0.81144781 0.80695847 0.80583614 0.81032548 0.81705948\n",
      " 0.81257015 0.81481481 0.82042649 0.80808081 0.80808081 0.80359147\n",
      " 0.80920314 0.80920314 0.81032548 0.80695847 0.80808081 0.81257015\n",
      "        nan        nan        nan        nan        nan        nan\n",
      "        nan        nan        nan        nan        nan        nan\n",
      "        nan        nan        nan        nan        nan        nan\n",
      "        nan        nan        nan        nan        nan        nan\n",
      " 0.80022447 0.8013468  0.79236813 0.79685746 0.8013468  0.80022447\n",
      " 0.80695847 0.79685746 0.80695847 0.80808081 0.8047138  0.81257015\n",
      " 0.7979798  0.80920314 0.81032548 0.81144781 0.81032548 0.80359147\n",
      " 0.80246914 0.80695847 0.81144781 0.80583614 0.81481481 0.8013468\n",
      " 0.7979798  0.80695847 0.8047138  0.8047138  0.8013468  0.80808081\n",
      " 0.80808081 0.80022447 0.82828283 0.81369248 0.81818182 0.81481481\n",
      " 0.81257015 0.81481481 0.81257015 0.81593715 0.81144781 0.81032548\n",
      " 0.80695847 0.80808081 0.81257015 0.81257015 0.81593715 0.8047138\n",
      "        nan        nan        nan        nan        nan        nan\n",
      "        nan        nan        nan        nan        nan        nan\n",
      "        nan        nan        nan        nan        nan        nan\n",
      "        nan        nan        nan        nan        nan        nan\n",
      " 0.7979798  0.8013468  0.7979798  0.7979798  0.79573513 0.79685746\n",
      " 0.79573513 0.7979798  0.81257015 0.80920314 0.80022447 0.80695847\n",
      " 0.81032548 0.80920314 0.8047138  0.80359147 0.8047138  0.80246914\n",
      " 0.80808081 0.81032548 0.80808081 0.80246914 0.81032548 0.8047138\n",
      " 0.8013468  0.80022447 0.80583614 0.80022447 0.8047138  0.8013468\n",
      " 0.7979798  0.79910213 0.81369248 0.81481481 0.81032548 0.80808081\n",
      " 0.81369248 0.82042649 0.81818182 0.81144781 0.81369248 0.81144781\n",
      " 0.81032548 0.8047138  0.81257015 0.81257015 0.81032548 0.81369248\n",
      "        nan        nan        nan        nan        nan        nan\n",
      "        nan        nan        nan        nan        nan        nan\n",
      "        nan        nan        nan        nan        nan        nan\n",
      "        nan        nan        nan        nan        nan        nan\n",
      " 0.80022447 0.7979798  0.79910213 0.79685746 0.8013468  0.79461279\n",
      " 0.79910213 0.80359147 0.81481481 0.80583614 0.80920314 0.80246914\n",
      " 0.8013468  0.80808081 0.80920314 0.80359147 0.80808081 0.80920314\n",
      " 0.80808081 0.80808081 0.81032548 0.81032548 0.81481481 0.81144781\n",
      " 0.80808081 0.79461279 0.79910213 0.80022447 0.8047138  0.8047138\n",
      " 0.79910213 0.79685746 0.81481481 0.81705948 0.81369248 0.81705948\n",
      " 0.80920314 0.81257015 0.80808081 0.81593715 0.81818182 0.80920314\n",
      " 0.80920314 0.81481481 0.80920314 0.82042649 0.80695847 0.80808081\n",
      "        nan        nan        nan        nan        nan        nan\n",
      "        nan        nan        nan        nan        nan        nan\n",
      "        nan        nan        nan        nan        nan        nan\n",
      "        nan        nan        nan        nan        nan        nan]\n",
      "  warnings.warn(\n"
     ]
    }
   ],
   "source": [
    "rf_params_2 = {\n",
    "    'n_estimators': [30, 40, 50, 60],\n",
    "    'max_features': ['sqrt', 'log2', 'auto'],\n",
    "    'max_depth': [30, 50, 70],\n",
    "    'min_samples_split': [2, 5],\n",
    "    'min_samples_leaf': [2, 4, 6],\n",
    "    'bootstrap': [True, False]\n",
    "}\n",
    "\n",
    "rf_clf_2 = ensemble.RandomForestClassifier()\n",
    "\n",
    "rf_grid_2 = model_selection.GridSearchCV(rf_clf_2, rf_params_2, cv=3, verbose=1, n_jobs=-1)\n",
    "rf_grid_2.fit(X_train_prep_2, y_train)\n",
    "\n",
    "print(f'Best Score: {rf_grid_2.best_score_}\\nBest Parameters: {rf_grid_2.best_params_}')"
   ],
   "metadata": {
    "collapsed": false,
    "ExecuteTime": {
     "end_time": "2023-10-01T02:40:56.994729900Z",
     "start_time": "2023-10-01T02:40:34.367667400Z"
    }
   }
  },
  {
   "cell_type": "code",
   "execution_count": 185,
   "outputs": [
    {
     "data": {
      "text/plain": "VotingClassifier(estimators=[('rf',\n                              RandomForestClassifier(bootstrap=False,\n                                                     max_depth=30,\n                                                     max_features='log2',\n                                                     min_samples_leaf=4,\n                                                     n_estimators=30)),\n                             ('svm', SVC(C=1, probability=True)),\n                             ('knn',\n                              KNeighborsClassifier(leaf_size=10, n_neighbors=13,\n                                                   p=1))],\n                 voting='soft')",
      "text/html": "<style>#sk-container-id-18 {color: black;}#sk-container-id-18 pre{padding: 0;}#sk-container-id-18 div.sk-toggleable {background-color: white;}#sk-container-id-18 label.sk-toggleable__label {cursor: pointer;display: block;width: 100%;margin-bottom: 0;padding: 0.3em;box-sizing: border-box;text-align: center;}#sk-container-id-18 label.sk-toggleable__label-arrow:before {content: \"▸\";float: left;margin-right: 0.25em;color: #696969;}#sk-container-id-18 label.sk-toggleable__label-arrow:hover:before {color: black;}#sk-container-id-18 div.sk-estimator:hover label.sk-toggleable__label-arrow:before {color: black;}#sk-container-id-18 div.sk-toggleable__content {max-height: 0;max-width: 0;overflow: hidden;text-align: left;background-color: #f0f8ff;}#sk-container-id-18 div.sk-toggleable__content pre {margin: 0.2em;color: black;border-radius: 0.25em;background-color: #f0f8ff;}#sk-container-id-18 input.sk-toggleable__control:checked~div.sk-toggleable__content {max-height: 200px;max-width: 100%;overflow: auto;}#sk-container-id-18 input.sk-toggleable__control:checked~label.sk-toggleable__label-arrow:before {content: \"▾\";}#sk-container-id-18 div.sk-estimator input.sk-toggleable__control:checked~label.sk-toggleable__label {background-color: #d4ebff;}#sk-container-id-18 div.sk-label input.sk-toggleable__control:checked~label.sk-toggleable__label {background-color: #d4ebff;}#sk-container-id-18 input.sk-hidden--visually {border: 0;clip: rect(1px 1px 1px 1px);clip: rect(1px, 1px, 1px, 1px);height: 1px;margin: -1px;overflow: hidden;padding: 0;position: absolute;width: 1px;}#sk-container-id-18 div.sk-estimator {font-family: monospace;background-color: #f0f8ff;border: 1px dotted black;border-radius: 0.25em;box-sizing: border-box;margin-bottom: 0.5em;}#sk-container-id-18 div.sk-estimator:hover {background-color: #d4ebff;}#sk-container-id-18 div.sk-parallel-item::after {content: \"\";width: 100%;border-bottom: 1px solid gray;flex-grow: 1;}#sk-container-id-18 div.sk-label:hover label.sk-toggleable__label {background-color: #d4ebff;}#sk-container-id-18 div.sk-serial::before {content: \"\";position: absolute;border-left: 1px solid gray;box-sizing: border-box;top: 0;bottom: 0;left: 50%;z-index: 0;}#sk-container-id-18 div.sk-serial {display: flex;flex-direction: column;align-items: center;background-color: white;padding-right: 0.2em;padding-left: 0.2em;position: relative;}#sk-container-id-18 div.sk-item {position: relative;z-index: 1;}#sk-container-id-18 div.sk-parallel {display: flex;align-items: stretch;justify-content: center;background-color: white;position: relative;}#sk-container-id-18 div.sk-item::before, #sk-container-id-18 div.sk-parallel-item::before {content: \"\";position: absolute;border-left: 1px solid gray;box-sizing: border-box;top: 0;bottom: 0;left: 50%;z-index: -1;}#sk-container-id-18 div.sk-parallel-item {display: flex;flex-direction: column;z-index: 1;position: relative;background-color: white;}#sk-container-id-18 div.sk-parallel-item:first-child::after {align-self: flex-end;width: 50%;}#sk-container-id-18 div.sk-parallel-item:last-child::after {align-self: flex-start;width: 50%;}#sk-container-id-18 div.sk-parallel-item:only-child::after {width: 0;}#sk-container-id-18 div.sk-dashed-wrapped {border: 1px dashed gray;margin: 0 0.4em 0.5em 0.4em;box-sizing: border-box;padding-bottom: 0.4em;background-color: white;}#sk-container-id-18 div.sk-label label {font-family: monospace;font-weight: bold;display: inline-block;line-height: 1.2em;}#sk-container-id-18 div.sk-label-container {text-align: center;}#sk-container-id-18 div.sk-container {/* jupyter's `normalize.less` sets `[hidden] { display: none; }` but bootstrap.min.css set `[hidden] { display: none !important; }` so we also need the `!important` here to be able to override the default hidden behavior on the sphinx rendered scikit-learn.org. See: https://github.com/scikit-learn/scikit-learn/issues/21755 */display: inline-block !important;position: relative;}#sk-container-id-18 div.sk-text-repr-fallback {display: none;}</style><div id=\"sk-container-id-18\" class=\"sk-top-container\"><div class=\"sk-text-repr-fallback\"><pre>VotingClassifier(estimators=[(&#x27;rf&#x27;,\n                              RandomForestClassifier(bootstrap=False,\n                                                     max_depth=30,\n                                                     max_features=&#x27;log2&#x27;,\n                                                     min_samples_leaf=4,\n                                                     n_estimators=30)),\n                             (&#x27;svm&#x27;, SVC(C=1, probability=True)),\n                             (&#x27;knn&#x27;,\n                              KNeighborsClassifier(leaf_size=10, n_neighbors=13,\n                                                   p=1))],\n                 voting=&#x27;soft&#x27;)</pre><b>In a Jupyter environment, please rerun this cell to show the HTML representation or trust the notebook. <br />On GitHub, the HTML representation is unable to render, please try loading this page with nbviewer.org.</b></div><div class=\"sk-container\" hidden><div class=\"sk-item sk-dashed-wrapped\"><div class=\"sk-label-container\"><div class=\"sk-label sk-toggleable\"><input class=\"sk-toggleable__control sk-hidden--visually\" id=\"sk-estimator-id-57\" type=\"checkbox\" ><label for=\"sk-estimator-id-57\" class=\"sk-toggleable__label sk-toggleable__label-arrow\">VotingClassifier</label><div class=\"sk-toggleable__content\"><pre>VotingClassifier(estimators=[(&#x27;rf&#x27;,\n                              RandomForestClassifier(bootstrap=False,\n                                                     max_depth=30,\n                                                     max_features=&#x27;log2&#x27;,\n                                                     min_samples_leaf=4,\n                                                     n_estimators=30)),\n                             (&#x27;svm&#x27;, SVC(C=1, probability=True)),\n                             (&#x27;knn&#x27;,\n                              KNeighborsClassifier(leaf_size=10, n_neighbors=13,\n                                                   p=1))],\n                 voting=&#x27;soft&#x27;)</pre></div></div></div><div class=\"sk-parallel\"><div class=\"sk-parallel-item\"><div class=\"sk-item\"><div class=\"sk-label-container\"><div class=\"sk-label sk-toggleable\"><label>rf</label></div></div><div class=\"sk-serial\"><div class=\"sk-item\"><div class=\"sk-estimator sk-toggleable\"><input class=\"sk-toggleable__control sk-hidden--visually\" id=\"sk-estimator-id-58\" type=\"checkbox\" ><label for=\"sk-estimator-id-58\" class=\"sk-toggleable__label sk-toggleable__label-arrow\">RandomForestClassifier</label><div class=\"sk-toggleable__content\"><pre>RandomForestClassifier(bootstrap=False, max_depth=30, max_features=&#x27;log2&#x27;,\n                       min_samples_leaf=4, n_estimators=30)</pre></div></div></div></div></div></div><div class=\"sk-parallel-item\"><div class=\"sk-item\"><div class=\"sk-label-container\"><div class=\"sk-label sk-toggleable\"><label>svm</label></div></div><div class=\"sk-serial\"><div class=\"sk-item\"><div class=\"sk-estimator sk-toggleable\"><input class=\"sk-toggleable__control sk-hidden--visually\" id=\"sk-estimator-id-59\" type=\"checkbox\" ><label for=\"sk-estimator-id-59\" class=\"sk-toggleable__label sk-toggleable__label-arrow\">SVC</label><div class=\"sk-toggleable__content\"><pre>SVC(C=1, probability=True)</pre></div></div></div></div></div></div><div class=\"sk-parallel-item\"><div class=\"sk-item\"><div class=\"sk-label-container\"><div class=\"sk-label sk-toggleable\"><label>knn</label></div></div><div class=\"sk-serial\"><div class=\"sk-item\"><div class=\"sk-estimator sk-toggleable\"><input class=\"sk-toggleable__control sk-hidden--visually\" id=\"sk-estimator-id-60\" type=\"checkbox\" ><label for=\"sk-estimator-id-60\" class=\"sk-toggleable__label sk-toggleable__label-arrow\">KNeighborsClassifier</label><div class=\"sk-toggleable__content\"><pre>KNeighborsClassifier(leaf_size=10, n_neighbors=13, p=1)</pre></div></div></div></div></div></div></div></div></div></div>"
     },
     "execution_count": 185,
     "metadata": {},
     "output_type": "execute_result"
    }
   ],
   "source": [
    "rf_clf_final = ensemble.RandomForestClassifier(**rf_grid_2.best_params_)\n",
    "svm_clf_final = svm.SVC(**svm_grid.best_params_, probability=True)\n",
    "knn_clf_final = neighbors.KNeighborsClassifier(**knn_grid_2.best_params_)\n",
    "\n",
    "voting_clf = ensemble.VotingClassifier(estimators=[('rf', rf_clf_final), ('svm', svm_clf_final), ('knn', knn_clf_final)], voting='soft')\n",
    "\n",
    "voting_clf.fit(X_train_prep_2, y_train)"
   ],
   "metadata": {
    "collapsed": false,
    "ExecuteTime": {
     "end_time": "2023-10-01T02:40:57.227296600Z",
     "start_time": "2023-10-01T02:40:56.994729900Z"
    }
   }
  },
  {
   "cell_type": "code",
   "execution_count": 186,
   "outputs": [],
   "source": [
    "X_test_prep_2 = full_pipeline_2.transform(X_test)"
   ],
   "metadata": {
    "collapsed": false,
    "ExecuteTime": {
     "end_time": "2023-10-01T02:41:17.807841200Z",
     "start_time": "2023-10-01T02:41:17.760772500Z"
    }
   }
  },
  {
   "cell_type": "code",
   "execution_count": 187,
   "outputs": [],
   "source": [
    "simple_predictions = voting_clf.predict(X_test_prep_2)\n",
    "predictions = pd.DataFrame({'PassengerId':titanic_test['PassengerId'], 'Survived':simple_predictions})\n",
    "predictions.to_csv('data/simple_predictions.csv')"
   ],
   "metadata": {
    "collapsed": false,
    "ExecuteTime": {
     "end_time": "2023-10-01T02:41:18.921811700Z",
     "start_time": "2023-10-01T02:41:18.857264300Z"
    }
   }
  },
  {
   "cell_type": "markdown",
   "source": [
    "This simpler set of  12 features performed slightly better(0.78) than the previous one(0.77) with 50 features."
   ],
   "metadata": {
    "collapsed": false
   }
  }
 ],
 "metadata": {
  "kernelspec": {
   "display_name": "Python 3",
   "language": "python",
   "name": "python3"
  },
  "language_info": {
   "codemirror_mode": {
    "name": "ipython",
    "version": 2
   },
   "file_extension": ".py",
   "mimetype": "text/x-python",
   "name": "python",
   "nbconvert_exporter": "python",
   "pygments_lexer": "ipython2",
   "version": "2.7.6"
  }
 },
 "nbformat": 4,
 "nbformat_minor": 0
}
