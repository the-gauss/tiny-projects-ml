{
 "cells": [
  {
   "cell_type": "markdown",
   "source": [
    "## Unsupervised Experiments on YELP dataset"
   ],
   "metadata": {
    "collapsed": false
   },
   "id": "a811301c33558c56"
  },
  {
   "cell_type": "markdown",
   "source": [
    "**Disclaimer**\n",
    "\n",
    "This project is an independent academic endeavor and has not been endorsed, sponsored, or otherwise authorized by Yelp Inc. It was created for educational purposes under the terms of Yelp's Data Agreement and does not reflect the views or opinions of Yelp. All data from Yelp used in this project is the property of Yelp Inc., and this project's findings and conclusions are solely those of the author(s). Yelp® and its related marks are trademarks of Yelp."
   ],
   "metadata": {
    "collapsed": false
   },
   "id": "31b6260e355b391a"
  },
  {
   "cell_type": "code",
   "outputs": [],
   "source": [
    "import json\n",
    "import os\n",
    "from kaggle.api.kaggle_api_extended import KaggleApi\n",
    "import zipfile\n",
    "import pandas as pd\n",
    "import matplotlib.pyplot as plt\n",
    "import folium\n",
    "\n",
    "from mpl_toolkits import basemap"
   ],
   "metadata": {
    "collapsed": false,
    "ExecuteTime": {
     "end_time": "2024-01-20T19:11:01.181707431Z",
     "start_time": "2024-01-20T19:11:01.181334445Z"
    }
   },
   "id": "35ea3519a714414b",
   "execution_count": 36
  },
  {
   "cell_type": "markdown",
   "source": [
    "The following couple of functions downloads the YELP dataset from Kaggle and read the json files to create Pandas DataFrames"
   ],
   "metadata": {
    "collapsed": false
   },
   "id": "59a9946a572edd62"
  },
  {
   "cell_type": "code",
   "outputs": [],
   "source": [
    "def download_and_extract_yelp_dataset(destination_dir='data'):\n",
    "    \"\"\"\n",
    "    Downloads and extracts the Yelp dataset from Kaggle into the specified directory.\n",
    "    \n",
    "    Args:\n",
    "    destination_dir (str): The directory to download and extract the dataset to. Defaults to 'data'.\n",
    "    \"\"\"\n",
    "    \n",
    "    api = KaggleApi()\n",
    "    api.authenticate()\n",
    "\n",
    "    dataset = 'yelp-dataset/yelp-dataset'\n",
    "\n",
    "    zip_path = os.path.join(destination_dir, 'yelp-dataset.zip')\n",
    "\n",
    "    # Create the directory if it does not exist\n",
    "    if not os.path.exists(destination_dir):\n",
    "        os.makedirs(destination_dir)\n",
    "\n",
    "    # Download and unzip the dataset\n",
    "    print(f\"Downloading Yelp dataset to {zip_path}...\")\n",
    "    api.dataset_download_files(dataset, path=destination_dir, unzip=False)\n",
    "\n",
    "    with zipfile.ZipFile(zip_path, 'r') as zip_ref:\n",
    "        print(f\"Extracting Yelp dataset to {destination_dir}...\")\n",
    "        zip_ref.extractall(destination_dir)\n",
    "\n",
    "    # Remove the zip file\n",
    "    os.remove(zip_path)\n",
    "    print(\"Download and extraction complete.\")\n",
    "\n",
    "download_and_extract_yelp_dataset()"
   ],
   "metadata": {
    "collapsed": false
   },
   "id": "244365a0f3bd2cf6"
  },
  {
   "cell_type": "code",
   "outputs": [
    {
     "name": "stdout",
     "output_type": "stream",
     "text": [
      "reading file:  yelp_academic_dataset_review.json\n",
      "reading file:  yelp_academic_dataset_business.json\n",
      "reading file:  yelp_academic_dataset_user.json\n",
      "reading file:  Dataset_User_Agreement.pdf\n",
      "skipping Dataset_User_Agreement.pdf\n",
      "reading file:  yelp_academic_dataset_checkin.json\n",
      "reading file:  yelp_academic_dataset_tip.json\n"
     ]
    }
   ],
   "source": [
    "def read_json_files(loc='data'):\n",
    "    \"\"\"\n",
    "    Reads the json files in the specified location and converts them into a pandas dataframe.\n",
    "    :param loc: str: The location to read the json files from\n",
    "    :return: dict: A dictionary containing all the dataframes as values and their name as keys\n",
    "    \"\"\"\n",
    "    dataset = {}\n",
    "    for file in os.listdir(loc):\n",
    "        print('reading file: ', file)\n",
    "        try:\n",
    "            data = []\n",
    "            \n",
    "            # Read the file and store each json entry into the data list\n",
    "            with open(os.path.join(loc, file), 'r') as f:\n",
    "                for line in f:\n",
    "                    data.append(json.loads(line))\n",
    "                    \n",
    "            # Extract name of the dataset and create a dataframe from the list we just created\n",
    "            name = file.split('.')[0].split('_')[-1]\n",
    "            dataset[name] = pd.DataFrame(data)\n",
    "        \n",
    "        # Skip invalid files\n",
    "        except json.JSONDecodeError as err:\n",
    "            print('skipping {}'.format(file))\n",
    "            continue\n",
    "        except UnicodeDecodeError as err:\n",
    "            print('skipping {}'.format(file))\n",
    "            continue\n",
    "            \n",
    "    return dataset\n",
    "\n",
    "datasets = read_json_files()"
   ],
   "metadata": {
    "collapsed": false,
    "ExecuteTime": {
     "end_time": "2024-01-20T18:38:31.108301853Z",
     "start_time": "2024-01-20T18:37:55.393645829Z"
    }
   },
   "id": "39f7a450ddfd1590",
   "execution_count": 2
  },
  {
   "cell_type": "code",
   "outputs": [
    {
     "data": {
      "text/plain": "dict_keys(['review', 'business', 'user', 'checkin', 'tip'])"
     },
     "execution_count": 4,
     "metadata": {},
     "output_type": "execute_result"
    }
   ],
   "source": [
    "datasets.keys()"
   ],
   "metadata": {
    "collapsed": false,
    "ExecuteTime": {
     "end_time": "2024-01-20T18:38:41.209538369Z",
     "start_time": "2024-01-20T18:38:41.207735631Z"
    }
   },
   "id": "25e09b2a96254636",
   "execution_count": 4
  },
  {
   "cell_type": "code",
   "outputs": [
    {
     "data": {
      "text/plain": "              business_id                      name  \\\n0  Pns2l4eNsfO8kk83dixA6A  Abby Rappoport, LAC, CMQ   \n1  mpf3x-BjTdTEA3yCZrAYPw             The UPS Store   \n2  tUFrWirKiKi_TAnsVWINQQ                    Target   \n3  MTSW4McQd7CbVtyjqoe9mw        St Honore Pastries   \n4  mWMc6_wTdE0EUBKIGXDVfA  Perkiomen Valley Brewery   \n\n                           address           city state postal_code  \\\n0           1616 Chapala St, Ste 2  Santa Barbara    CA       93101   \n1  87 Grasso Plaza Shopping Center         Affton    MO       63123   \n2             5255 E Broadway Blvd         Tucson    AZ       85711   \n3                      935 Race St   Philadelphia    PA       19107   \n4                    101 Walnut St     Green Lane    PA       18054   \n\n    latitude   longitude  stars  review_count  is_open  \\\n0  34.426679 -119.711197    5.0             7        0   \n1  38.551126  -90.335695    3.0            15        1   \n2  32.223236 -110.880452    3.5            22        0   \n3  39.955505  -75.155564    4.0            80        1   \n4  40.338183  -75.471659    4.5            13        1   \n\n                                          attributes  \\\n0                      {'ByAppointmentOnly': 'True'}   \n1             {'BusinessAcceptsCreditCards': 'True'}   \n2  {'BikeParking': 'True', 'BusinessAcceptsCredit...   \n3  {'RestaurantsDelivery': 'False', 'OutdoorSeati...   \n4  {'BusinessAcceptsCreditCards': 'True', 'Wheelc...   \n\n                                          categories  \\\n0  Doctors, Traditional Chinese Medicine, Naturop...   \n1  Shipping Centers, Local Services, Notaries, Ma...   \n2  Department Stores, Shopping, Fashion, Home & G...   \n3  Restaurants, Food, Bubble Tea, Coffee & Tea, B...   \n4                          Brewpubs, Breweries, Food   \n\n                                               hours  \n0                                               None  \n1  {'Monday': '0:0-0:0', 'Tuesday': '8:0-18:30', ...  \n2  {'Monday': '8:0-22:0', 'Tuesday': '8:0-22:0', ...  \n3  {'Monday': '7:0-20:0', 'Tuesday': '7:0-20:0', ...  \n4  {'Wednesday': '14:0-22:0', 'Thursday': '16:0-2...  ",
      "text/html": "<div>\n<style scoped>\n    .dataframe tbody tr th:only-of-type {\n        vertical-align: middle;\n    }\n\n    .dataframe tbody tr th {\n        vertical-align: top;\n    }\n\n    .dataframe thead th {\n        text-align: right;\n    }\n</style>\n<table border=\"1\" class=\"dataframe\">\n  <thead>\n    <tr style=\"text-align: right;\">\n      <th></th>\n      <th>business_id</th>\n      <th>name</th>\n      <th>address</th>\n      <th>city</th>\n      <th>state</th>\n      <th>postal_code</th>\n      <th>latitude</th>\n      <th>longitude</th>\n      <th>stars</th>\n      <th>review_count</th>\n      <th>is_open</th>\n      <th>attributes</th>\n      <th>categories</th>\n      <th>hours</th>\n    </tr>\n  </thead>\n  <tbody>\n    <tr>\n      <th>0</th>\n      <td>Pns2l4eNsfO8kk83dixA6A</td>\n      <td>Abby Rappoport, LAC, CMQ</td>\n      <td>1616 Chapala St, Ste 2</td>\n      <td>Santa Barbara</td>\n      <td>CA</td>\n      <td>93101</td>\n      <td>34.426679</td>\n      <td>-119.711197</td>\n      <td>5.0</td>\n      <td>7</td>\n      <td>0</td>\n      <td>{'ByAppointmentOnly': 'True'}</td>\n      <td>Doctors, Traditional Chinese Medicine, Naturop...</td>\n      <td>None</td>\n    </tr>\n    <tr>\n      <th>1</th>\n      <td>mpf3x-BjTdTEA3yCZrAYPw</td>\n      <td>The UPS Store</td>\n      <td>87 Grasso Plaza Shopping Center</td>\n      <td>Affton</td>\n      <td>MO</td>\n      <td>63123</td>\n      <td>38.551126</td>\n      <td>-90.335695</td>\n      <td>3.0</td>\n      <td>15</td>\n      <td>1</td>\n      <td>{'BusinessAcceptsCreditCards': 'True'}</td>\n      <td>Shipping Centers, Local Services, Notaries, Ma...</td>\n      <td>{'Monday': '0:0-0:0', 'Tuesday': '8:0-18:30', ...</td>\n    </tr>\n    <tr>\n      <th>2</th>\n      <td>tUFrWirKiKi_TAnsVWINQQ</td>\n      <td>Target</td>\n      <td>5255 E Broadway Blvd</td>\n      <td>Tucson</td>\n      <td>AZ</td>\n      <td>85711</td>\n      <td>32.223236</td>\n      <td>-110.880452</td>\n      <td>3.5</td>\n      <td>22</td>\n      <td>0</td>\n      <td>{'BikeParking': 'True', 'BusinessAcceptsCredit...</td>\n      <td>Department Stores, Shopping, Fashion, Home &amp; G...</td>\n      <td>{'Monday': '8:0-22:0', 'Tuesday': '8:0-22:0', ...</td>\n    </tr>\n    <tr>\n      <th>3</th>\n      <td>MTSW4McQd7CbVtyjqoe9mw</td>\n      <td>St Honore Pastries</td>\n      <td>935 Race St</td>\n      <td>Philadelphia</td>\n      <td>PA</td>\n      <td>19107</td>\n      <td>39.955505</td>\n      <td>-75.155564</td>\n      <td>4.0</td>\n      <td>80</td>\n      <td>1</td>\n      <td>{'RestaurantsDelivery': 'False', 'OutdoorSeati...</td>\n      <td>Restaurants, Food, Bubble Tea, Coffee &amp; Tea, B...</td>\n      <td>{'Monday': '7:0-20:0', 'Tuesday': '7:0-20:0', ...</td>\n    </tr>\n    <tr>\n      <th>4</th>\n      <td>mWMc6_wTdE0EUBKIGXDVfA</td>\n      <td>Perkiomen Valley Brewery</td>\n      <td>101 Walnut St</td>\n      <td>Green Lane</td>\n      <td>PA</td>\n      <td>18054</td>\n      <td>40.338183</td>\n      <td>-75.471659</td>\n      <td>4.5</td>\n      <td>13</td>\n      <td>1</td>\n      <td>{'BusinessAcceptsCreditCards': 'True', 'Wheelc...</td>\n      <td>Brewpubs, Breweries, Food</td>\n      <td>{'Wednesday': '14:0-22:0', 'Thursday': '16:0-2...</td>\n    </tr>\n  </tbody>\n</table>\n</div>"
     },
     "execution_count": 26,
     "metadata": {},
     "output_type": "execute_result"
    }
   ],
   "source": [
    "business = datasets['business']\n",
    "business.head()"
   ],
   "metadata": {
    "collapsed": false,
    "ExecuteTime": {
     "end_time": "2024-01-20T19:02:23.007603024Z",
     "start_time": "2024-01-20T19:02:23.005621271Z"
    }
   },
   "id": "237bee7584707a6c",
   "execution_count": 26
  },
  {
   "cell_type": "code",
   "outputs": [],
   "source": [],
   "metadata": {
    "collapsed": false
   },
   "id": "9aacdc15aa290761"
  }
 ],
 "metadata": {
  "kernelspec": {
   "display_name": "Python 3",
   "language": "python",
   "name": "python3"
  },
  "language_info": {
   "codemirror_mode": {
    "name": "ipython",
    "version": 2
   },
   "file_extension": ".py",
   "mimetype": "text/x-python",
   "name": "python",
   "nbconvert_exporter": "python",
   "pygments_lexer": "ipython2",
   "version": "2.7.6"
  }
 },
 "nbformat": 4,
 "nbformat_minor": 5
}
